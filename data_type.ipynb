{
 "cells": [
  {
   "cell_type": "code",
   "execution_count": 1,
   "metadata": {},
   "outputs": [
    {
     "name": "stdout",
     "output_type": "stream",
     "text": [
      "hello world\n"
     ]
    }
   ],
   "source": [
    "print(\"hello world\")"
   ]
  },
  {
   "cell_type": "markdown",
   "metadata": {},
   "source": [
    "### Tuple "
   ]
  },
  {
   "cell_type": "code",
   "execution_count": 4,
   "metadata": {},
   "outputs": [
    {
     "name": "stdout",
     "output_type": "stream",
     "text": [
      "(10, 20, 30, 25.2, 45.2, True, 'bikaner')\n",
      "<class 'tuple'>\n"
     ]
    }
   ],
   "source": [
    "## differnt way of creating tuple \n",
    "tpl = (10,20,30,25.2,45.2,True,\"bikaner\")\n",
    "print(tpl)\n",
    "print(type(tpl))"
   ]
  },
  {
   "cell_type": "code",
   "execution_count": 12,
   "metadata": {},
   "outputs": [
    {
     "name": "stdout",
     "output_type": "stream",
     "text": [
      "(10, 20, 30, 25.2, 45.2, True, 'bikaner')\n",
      "<class 'tuple'>\n"
     ]
    }
   ],
   "source": [
    "tpl = 10,20,30,25.2,45.2,True,\"bikaner\"\n",
    "print(tpl)\n",
    "print(type(tpl))"
   ]
  },
  {
   "cell_type": "code",
   "execution_count": 8,
   "metadata": {},
   "outputs": [
    {
     "name": "stdout",
     "output_type": "stream",
     "text": [
      "<class 'tuple'>\n",
      "('upflairs',)\n"
     ]
    }
   ],
   "source": [
    "##  create tuple with scaler value (single value)\n",
    "tpl = (\"upflairs\",)\n",
    "print(type(tpl))\n",
    "print(tpl) "
   ]
  },
  {
   "cell_type": "code",
   "execution_count": 11,
   "metadata": {},
   "outputs": [
    {
     "name": "stdout",
     "output_type": "stream",
     "text": [
      "<class 'tuple'>\n",
      "('upflairs',)\n"
     ]
    }
   ],
   "source": [
    "##  create tuple with scaler value (single value)\n",
    "tpl = \"upflairs\",\n",
    "print(type(tpl))\n",
    "print(tpl) "
   ]
  },
  {
   "cell_type": "code",
   "execution_count": 18,
   "metadata": {},
   "outputs": [
    {
     "data": {
      "text/plain": [
       "(10, 20, 30)"
      ]
     },
     "execution_count": 18,
     "metadata": {},
     "output_type": "execute_result"
    }
   ],
   "source": [
    "tpl = (10, 20, 30, 25.2, \"nikita\", True, 'bikaner') \n",
    "### item accessing  \n",
    "tpl[0:3]"
   ]
  },
  {
   "cell_type": "code",
   "execution_count": 19,
   "metadata": {},
   "outputs": [
    {
     "data": {
      "text/plain": [
       "'nikita'"
      ]
     },
     "execution_count": 19,
     "metadata": {},
     "output_type": "execute_result"
    }
   ],
   "source": [
    "tpl[4]"
   ]
  },
  {
   "cell_type": "code",
   "execution_count": 20,
   "metadata": {},
   "outputs": [
    {
     "name": "stdout",
     "output_type": "stream",
     "text": [
      "2\n",
      "1\n"
     ]
    }
   ],
   "source": [
    "tpl = (\"A\",\"B\",\"A\",\"C\")\n",
    "print(tpl.count(\"A\"))\n",
    "print(tpl.index(\"B\"))"
   ]
  },
  {
   "cell_type": "code",
   "execution_count": 21,
   "metadata": {},
   "outputs": [
    {
     "name": "stdout",
     "output_type": "stream",
     "text": [
      "('A', 'B', 'A', 'C', 'A', 'B', 'A', 'C')\n"
     ]
    }
   ],
   "source": [
    "tpl = (\"A\",\"B\",\"A\",\"C\")\n",
    "print(tpl*2)   # replication method "
   ]
  },
  {
   "cell_type": "code",
   "execution_count": 22,
   "metadata": {},
   "outputs": [
    {
     "name": "stdout",
     "output_type": "stream",
     "text": [
      "('A', 'B', 'A', 'C', 'F', 'G')\n"
     ]
    }
   ],
   "source": [
    "tpl1 = (\"A\",\"B\",\"A\",\"C\")\n",
    "tpl2 = (\"F\",\"G\")  # concatenation method \n",
    "tpl3 = tpl1 + tpl2 \n",
    "print(tpl3) "
   ]
  },
  {
   "cell_type": "code",
   "execution_count": 23,
   "metadata": {},
   "outputs": [
    {
     "name": "stdout",
     "output_type": "stream",
     "text": [
      "<class 'tuple'>\n"
     ]
    }
   ],
   "source": [
    "## tuple unpacking  \n",
    "tpl = (\"NIKITA\",\"JANGID\") \n",
    "print(type(tpl))"
   ]
  },
  {
   "cell_type": "code",
   "execution_count": 32,
   "metadata": {},
   "outputs": [
    {
     "name": "stdout",
     "output_type": "stream",
     "text": [
      "NIKITA JANGID\n"
     ]
    }
   ],
   "source": [
    "name, surname = tpl \n",
    "print(name,surname)"
   ]
  },
  {
   "cell_type": "code",
   "execution_count": 31,
   "metadata": {},
   "outputs": [
    {
     "ename": "ValueError",
     "evalue": "not enough values to unpack (expected 3, got 2)",
     "output_type": "error",
     "traceback": [
      "\u001b[1;31m---------------------------------------------------------------------------\u001b[0m",
      "\u001b[1;31mValueError\u001b[0m                                Traceback (most recent call last)",
      "Cell \u001b[1;32mIn[31], line 1\u001b[0m\n\u001b[1;32m----> 1\u001b[0m name, surname, nickname \u001b[38;5;241m=\u001b[39m tpl \n",
      "\u001b[1;31mValueError\u001b[0m: not enough values to unpack (expected 3, got 2)"
     ]
    }
   ],
   "source": [
    "name, surname, nickname = tpl "
   ]
  },
  {
   "cell_type": "code",
   "execution_count": 34,
   "metadata": {},
   "outputs": [
    {
     "name": "stdout",
     "output_type": "stream",
     "text": [
      "<class 'tuple'>\n",
      "('NIKITA', 'JANGID', 'NIKKI')\n"
     ]
    }
   ],
   "source": [
    "## tuple unpacking  \n",
    "tpl = (\"NIKITA\",\"JANGID\",\"NIKKI\") \n",
    "print(type(tpl))\n",
    "print(tpl)"
   ]
  },
  {
   "cell_type": "code",
   "execution_count": 35,
   "metadata": {},
   "outputs": [
    {
     "ename": "ValueError",
     "evalue": "too many values to unpack (expected 2)",
     "output_type": "error",
     "traceback": [
      "\u001b[1;31m---------------------------------------------------------------------------\u001b[0m",
      "\u001b[1;31mValueError\u001b[0m                                Traceback (most recent call last)",
      "Cell \u001b[1;32mIn[35], line 1\u001b[0m\n\u001b[1;32m----> 1\u001b[0m name , surname \u001b[38;5;241m=\u001b[39m tpl \n",
      "\u001b[1;31mValueError\u001b[0m: too many values to unpack (expected 2)"
     ]
    }
   ],
   "source": [
    "name , surname = tpl "
   ]
  },
  {
   "cell_type": "code",
   "execution_count": 36,
   "metadata": {},
   "outputs": [
    {
     "name": "stdout",
     "output_type": "stream",
     "text": [
      "NIKITA JANGID NIKKI\n"
     ]
    }
   ],
   "source": [
    "name , surname , nickname = tpl \n",
    "print(name,surname,nickname)"
   ]
  },
  {
   "cell_type": "code",
   "execution_count": 40,
   "metadata": {},
   "outputs": [
    {
     "name": "stdout",
     "output_type": "stream",
     "text": [
      "Nikita jangid\n",
      "Nikitajangid\n"
     ]
    }
   ],
   "source": [
    "name  = \"Nikita\"\n",
    "surname = \"jangid\"\n",
    "full_name = name + surname\n",
    "print(name,surname)\n",
    "print(full_name)"
   ]
  },
  {
   "cell_type": "code",
   "execution_count": 46,
   "metadata": {},
   "outputs": [
    {
     "name": "stdout",
     "output_type": "stream",
     "text": [
      "Nikita      jangid\n"
     ]
    }
   ],
   "source": [
    "name  = \"Nikita\"\n",
    "surname = \"jangid\"\n",
    "full_name = name + \" \"+ surname\n",
    "print(full_name)"
   ]
  },
  {
   "cell_type": "code",
   "execution_count": 48,
   "metadata": {},
   "outputs": [
    {
     "ename": "TypeError",
     "evalue": "can only concatenate str (not \"int\") to str",
     "output_type": "error",
     "traceback": [
      "\u001b[1;31m---------------------------------------------------------------------------\u001b[0m",
      "\u001b[1;31mTypeError\u001b[0m                                 Traceback (most recent call last)",
      "Cell \u001b[1;32mIn[48], line 4\u001b[0m\n\u001b[0;32m      2\u001b[0m surname \u001b[38;5;241m=\u001b[39m \u001b[38;5;124m\"\u001b[39m\u001b[38;5;124mjangid\u001b[39m\u001b[38;5;124m\"\u001b[39m \n\u001b[0;32m      3\u001b[0m age \u001b[38;5;241m=\u001b[39m \u001b[38;5;241m25\u001b[39m \n\u001b[1;32m----> 4\u001b[0m \u001b[38;5;28mprint\u001b[39m(\u001b[43mname\u001b[49m\u001b[38;5;241;43m+\u001b[39;49m\u001b[43msurname\u001b[49m\u001b[38;5;241;43m+\u001b[39;49m\u001b[43mage\u001b[49m)\n",
      "\u001b[1;31mTypeError\u001b[0m: can only concatenate str (not \"int\") to str"
     ]
    }
   ],
   "source": [
    "name  = \"Nikita\"\n",
    "surname = \"jangid\" \n",
    "age = 25 \n",
    "print(name+surname+age)  # we cant concatenate string with integer "
   ]
  },
  {
   "cell_type": "code",
   "execution_count": 49,
   "metadata": {},
   "outputs": [
    {
     "name": "stdout",
     "output_type": "stream",
     "text": [
      "5\n"
     ]
    }
   ],
   "source": [
    "tpl = (10,20,30,40,50,60,50,5)\n",
    "print(min(tpl))"
   ]
  },
  {
   "cell_type": "code",
   "execution_count": 50,
   "metadata": {},
   "outputs": [
    {
     "name": "stdout",
     "output_type": "stream",
     "text": [
      "60\n"
     ]
    }
   ],
   "source": [
    "print(max(tpl))\n"
   ]
  },
  {
   "cell_type": "code",
   "execution_count": 51,
   "metadata": {},
   "outputs": [
    {
     "name": "stdout",
     "output_type": "stream",
     "text": [
      "265\n"
     ]
    }
   ],
   "source": [
    "print(sum(tpl))"
   ]
  },
  {
   "cell_type": "code",
   "execution_count": 52,
   "metadata": {},
   "outputs": [
    {
     "name": "stdout",
     "output_type": "stream",
     "text": [
      "8\n"
     ]
    }
   ],
   "source": [
    "print(len(tpl))"
   ]
  },
  {
   "cell_type": "code",
   "execution_count": 58,
   "metadata": {},
   "outputs": [
    {
     "name": "stdout",
     "output_type": "stream",
     "text": [
      "average is :  33.125\n"
     ]
    }
   ],
   "source": [
    "# average => totalsum / no. of item \n",
    "average = sum(tpl)/len(tpl)\n",
    "print(\"average is : \",average)\n"
   ]
  },
  {
   "cell_type": "code",
   "execution_count": 64,
   "metadata": {},
   "outputs": [
    {
     "name": "stdout",
     "output_type": "stream",
     "text": [
      "Hey this is Radhey , and i am from Vrandavan\n"
     ]
    }
   ],
   "source": [
    "template = \"Hey this is ---  , and i am from ___\"\n",
    "name = \"Radhey\"\n",
    "city = \"Vrandavan\"\n",
    "print(f\"Hey this is {name} , and i am from {city}\")"
   ]
  },
  {
   "cell_type": "code",
   "execution_count": 67,
   "metadata": {},
   "outputs": [
    {
     "name": "stdout",
     "output_type": "stream",
     "text": [
      "Radhey singh\n"
     ]
    }
   ],
   "source": [
    "name = input(\"Plz enter your name : \")\n",
    "surname = input(\"plz enter your last name : \")\n",
    "print(name,surname)\n"
   ]
  },
  {
   "cell_type": "code",
   "execution_count": 77,
   "metadata": {},
   "outputs": [
    {
     "name": "stdout",
     "output_type": "stream",
     "text": [
      "Hey this is Nikita , and i am from Bikaner\n"
     ]
    }
   ],
   "source": [
    "name = input(\"Plz enter your name : \")\n",
    "city = input(\"plz enter your city name : \")\n",
    "print(f\"Hey this is {name} , and i am from {city}\")"
   ]
  },
  {
   "cell_type": "code",
   "execution_count": null,
   "metadata": {},
   "outputs": [],
   "source": [
    "\"heey this is ___name___   and i am from ___city___   and i have completed __qualification__ \""
   ]
  },
  {
   "cell_type": "code",
   "execution_count": 75,
   "metadata": {},
   "outputs": [
    {
     "name": "stdout",
     "output_type": "stream",
     "text": [
      "heey this is Nikita, and i am from Bikaner, and i have completed MSc(CS)\n"
     ]
    }
   ],
   "source": [
    "name = input(\"Plz enter your name :\")\n",
    "city = input(\"Plz enter your city :\")\n",
    "qualification = input(\"Plz enter your qualification :\")\n",
    "print(f\"heey this is {name}, and i am from {city}, and i have completed {qualification}\")"
   ]
  },
  {
   "cell_type": "code",
   "execution_count": 13,
   "metadata": {},
   "outputs": [
    {
     "name": "stdout",
     "output_type": "stream",
     "text": [
      "7\n"
     ]
    }
   ],
   "source": [
    "ls = [[1,2,3],[4,5,6],[7,8,9],[52,14,63,96]]\n",
    "print(ls[2][::-1][-1])"
   ]
  },
  {
   "cell_type": "code",
   "execution_count": 7,
   "metadata": {},
   "outputs": [
    {
     "name": "stdout",
     "output_type": "stream",
     "text": [
      "for\n",
      "geeks\n"
     ]
    }
   ],
   "source": [
    "ls = [['geeks','for'],['geeks']]\n",
    "print(ls[0][1])\n",
    "print(ls[1][0])"
   ]
  },
  {
   "cell_type": "markdown",
   "metadata": {},
   "source": [
    "### SET "
   ]
  },
  {
   "cell_type": "code",
   "execution_count": null,
   "metadata": {},
   "outputs": [],
   "source": [
    "introduction \n",
    "features \n",
    "declaration "
   ]
  },
  {
   "cell_type": "code",
   "execution_count": 17,
   "metadata": {},
   "outputs": [
    {
     "name": "stdout",
     "output_type": "stream",
     "text": [
      "<class 'set'>\n",
      "{96, 3, 52, 85.2, 85, 'upflairs', 63}\n"
     ]
    }
   ],
   "source": [
    "st = {52,63,96,85,85.2,63,3,63,63,'upflairs'} \n",
    "print(type(st))\n",
    "print(st) "
   ]
  },
  {
   "cell_type": "code",
   "execution_count": 18,
   "metadata": {},
   "outputs": [
    {
     "ename": "TypeError",
     "evalue": "'set' object is not subscriptable",
     "output_type": "error",
     "traceback": [
      "\u001b[1;31m---------------------------------------------------------------------------\u001b[0m",
      "\u001b[1;31mTypeError\u001b[0m                                 Traceback (most recent call last)",
      "Cell \u001b[1;32mIn[18], line 1\u001b[0m\n\u001b[1;32m----> 1\u001b[0m \u001b[43mst\u001b[49m\u001b[43m[\u001b[49m\u001b[38;5;241;43m25\u001b[39;49m\u001b[43m]\u001b[49m\n",
      "\u001b[1;31mTypeError\u001b[0m: 'set' object is not subscriptable"
     ]
    }
   ],
   "source": [
    "st[25]"
   ]
  },
  {
   "cell_type": "code",
   "execution_count": 19,
   "metadata": {},
   "outputs": [
    {
     "name": "stdout",
     "output_type": "stream",
     "text": [
      "{'E', 'A', 'F', 'C', 'D', 'B'}\n"
     ]
    }
   ],
   "source": [
    "st = {\"A\",'B','C','D','E','F','C','B','C'} \n",
    "print(st)"
   ]
  },
  {
   "cell_type": "code",
   "execution_count": 22,
   "metadata": {},
   "outputs": [
    {
     "name": "stdout",
     "output_type": "stream",
     "text": [
      "{'E', 'A', 'F', 'C', 'Z', 'Y', 'B', 'T', 'D'}\n"
     ]
    }
   ],
   "source": [
    "# insert operation  \n",
    "st.add('T')\n",
    "print(st) "
   ]
  },
  {
   "cell_type": "code",
   "execution_count": null,
   "metadata": {},
   "outputs": [],
   "source": []
  },
  {
   "cell_type": "code",
   "execution_count": null,
   "metadata": {},
   "outputs": [],
   "source": []
  }
 ],
 "metadata": {
  "kernelspec": {
   "display_name": "Python 3",
   "language": "python",
   "name": "python3"
  },
  "language_info": {
   "codemirror_mode": {
    "name": "ipython",
    "version": 3
   },
   "file_extension": ".py",
   "mimetype": "text/x-python",
   "name": "python",
   "nbconvert_exporter": "python",
   "pygments_lexer": "ipython3",
   "version": "3.12.4"
  }
 },
 "nbformat": 4,
 "nbformat_minor": 2
}

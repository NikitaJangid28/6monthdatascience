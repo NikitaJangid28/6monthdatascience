{
 "cells": [
  {
   "cell_type": "markdown",
   "metadata": {},
   "source": [
    "### Built-in-modules <br>\n",
    "1. os (operating system)\n",
    "2. random \n",
    "3. time \n",
    "4. datetime \n",
    "5. re (regular expression)"
   ]
  },
  {
   "cell_type": "code",
   "execution_count": 1,
   "metadata": {},
   "outputs": [],
   "source": [
    "import os "
   ]
  },
  {
   "cell_type": "code",
   "execution_count": 6,
   "metadata": {},
   "outputs": [
    {
     "data": {
      "text/plain": [
       "'c:\\\\Users\\\\Ranjit\\\\Desktop\\\\anshika\\\\built-in-modules'"
      ]
     },
     "execution_count": 6,
     "metadata": {},
     "output_type": "execute_result"
    }
   ],
   "source": [
    "pwd "
   ]
  },
  {
   "cell_type": "code",
   "execution_count": 7,
   "metadata": {},
   "outputs": [
    {
     "name": "stdout",
     "output_type": "stream",
     "text": [
      " Volume in drive C has no label.\n",
      " Volume Serial Number is 9C35-B5F9\n",
      "\n",
      " Directory of c:\\Users\\Ranjit\\Desktop\\anshika\\built-in-modules\n",
      "\n",
      "22-10-2024  12:20    <DIR>          .\n",
      "22-10-2024  12:20    <DIR>          ..\n",
      "24-10-2024  12:35             4,704 modules.ipynb\n",
      "               1 File(s)          4,704 bytes\n",
      "               2 Dir(s)  146,318,237,696 bytes free\n"
     ]
    }
   ],
   "source": [
    "ls "
   ]
  },
  {
   "cell_type": "code",
   "execution_count": 8,
   "metadata": {},
   "outputs": [
    {
     "data": {
      "text/plain": [
       "['modules.ipynb']"
      ]
     },
     "execution_count": 8,
     "metadata": {},
     "output_type": "execute_result"
    }
   ],
   "source": [
    "os.listdir()\n",
    "# list "
   ]
  },
  {
   "cell_type": "code",
   "execution_count": 9,
   "metadata": {},
   "outputs": [],
   "source": [
    "open(\"demo.txt\",'w').close()"
   ]
  },
  {
   "cell_type": "code",
   "execution_count": null,
   "metadata": {},
   "outputs": [],
   "source": [
    "# library or modules \n",
    "# numpy , pandas , matplotlib , seaborn ,sklearn  \n",
    "# pip ==> package manager, \n",
    "# pip install \"library or module\" \n",
    "# for e.g to install numpy in python\n",
    "# \"pip  install numpy\"\n",
    "# \"pip  uninstall numpy\"\n",
    "# \"pip  show numpy\""
   ]
  },
  {
   "cell_type": "code",
   "execution_count": 10,
   "metadata": {},
   "outputs": [
    {
     "data": {
      "text/plain": [
       "['demo.txt', 'modules.ipynb']"
      ]
     },
     "execution_count": 10,
     "metadata": {},
     "output_type": "execute_result"
    }
   ],
   "source": [
    "os.listdir()\n"
   ]
  },
  {
   "cell_type": "code",
   "execution_count": 13,
   "metadata": {},
   "outputs": [
    {
     "data": {
      "text/plain": [
       "216"
      ]
     },
     "execution_count": 13,
     "metadata": {},
     "output_type": "execute_result"
    }
   ],
   "source": [
    "img_folder_path = r\"E:\\HD images\"\n",
    "len(os.listdir(img_folder_path))"
   ]
  },
  {
   "cell_type": "code",
   "execution_count": 14,
   "metadata": {},
   "outputs": [],
   "source": [
    "os.mkdir(\"anshikademo\")"
   ]
  },
  {
   "cell_type": "code",
   "execution_count": 15,
   "metadata": {},
   "outputs": [
    {
     "data": {
      "text/plain": [
       "['anshikademo', 'demo.txt', 'modules.ipynb']"
      ]
     },
     "execution_count": 15,
     "metadata": {},
     "output_type": "execute_result"
    }
   ],
   "source": [
    "os.listdir()\n"
   ]
  },
  {
   "cell_type": "code",
   "execution_count": 27,
   "metadata": {},
   "outputs": [],
   "source": [
    "os.makedirs('anshikademo',exist_ok=True)"
   ]
  },
  {
   "cell_type": "code",
   "execution_count": 39,
   "metadata": {},
   "outputs": [
    {
     "name": "stdout",
     "output_type": "stream",
     "text": [
      "C:\\Users\\Ranjit\\Desktop\\anshika\\built-in-modules\n"
     ]
    }
   ],
   "source": [
    "current_path =  r\"C:\\Users\\Ranjit\\Desktop\\anshika\\built-in-modules\"\n",
    "print(current_path)"
   ]
  },
  {
   "cell_type": "code",
   "execution_count": 34,
   "metadata": {},
   "outputs": [],
   "source": [
    "os.chdir(current_path) "
   ]
  },
  {
   "cell_type": "code",
   "execution_count": 35,
   "metadata": {},
   "outputs": [
    {
     "data": {
      "text/plain": [
       "'C:\\\\Users\\\\Ranjit\\\\Desktop\\\\anshika\\\\built-in-modules'"
      ]
     },
     "execution_count": 35,
     "metadata": {},
     "output_type": "execute_result"
    }
   ],
   "source": [
    "pwd "
   ]
  },
  {
   "cell_type": "code",
   "execution_count": 37,
   "metadata": {},
   "outputs": [
    {
     "name": "stdout",
     "output_type": "stream",
     "text": [
      "hari ram \t from agra, turn left from your \n",
      "ear crossing\n"
     ]
    }
   ],
   "source": [
    "st = \"hari ram \\t from agra, turn left from your \\near crossing\"\n",
    "print(st)"
   ]
  },
  {
   "cell_type": "code",
   "execution_count": 1,
   "metadata": {},
   "outputs": [],
   "source": [
    "import re "
   ]
  },
  {
   "cell_type": "code",
   "execution_count": 10,
   "metadata": {},
   "outputs": [
    {
     "data": {
      "text/plain": [
       "-1"
      ]
     },
     "execution_count": 10,
     "metadata": {},
     "output_type": "execute_result"
    }
   ],
   "source": [
    "st = \"upflairs pvt ltd pvt jaipur rajasthan\"\n",
    "st.find('pvt',18)  "
   ]
  },
  {
   "cell_type": "code",
   "execution_count": 8,
   "metadata": {},
   "outputs": [
    {
     "data": {
      "text/plain": [
       "'pvt'"
      ]
     },
     "execution_count": 8,
     "metadata": {},
     "output_type": "execute_result"
    }
   ],
   "source": [
    "st[17:20]"
   ]
  },
  {
   "cell_type": "code",
   "execution_count": null,
   "metadata": {},
   "outputs": [],
   "source": [
    "# re.search()  # it match pattern single time \n",
    "# re.findall()  # to search any pattern multiple time \n",
    "# re.split()\n",
    "# re.sub()  # substitude "
   ]
  },
  {
   "cell_type": "code",
   "execution_count": 14,
   "metadata": {},
   "outputs": [
    {
     "name": "stdout",
     "output_type": "stream",
     "text": [
      "<re.Match object; span=(9, 12), match='pvt'>\n"
     ]
    }
   ],
   "source": [
    "st = \"upflairs pvt ltd pvt jaipur rajasthan\"\n",
    "print(re.search('pvt',st))"
   ]
  },
  {
   "cell_type": "code",
   "execution_count": 21,
   "metadata": {},
   "outputs": [
    {
     "name": "stdout",
     "output_type": "stream",
     "text": [
      "None\n"
     ]
    }
   ],
   "source": [
    "st = \"upflairs pvt ltd pvt jaipur rajasthan\"\n",
    "match = re.search('pvtd',st)\n",
    "print(match)\n"
   ]
  },
  {
   "cell_type": "code",
   "execution_count": 23,
   "metadata": {},
   "outputs": [
    {
     "name": "stdout",
     "output_type": "stream",
     "text": [
      "['pvt', 'pvt']\n"
     ]
    }
   ],
   "source": [
    "st = \"upflairs pvt ltd pvt jaipur rajasthan\"\n",
    "match = re.findall('pvt',st)\n",
    "print(match)"
   ]
  },
  {
   "cell_type": "code",
   "execution_count": 26,
   "metadata": {},
   "outputs": [
    {
     "name": "stdout",
     "output_type": "stream",
     "text": [
      "['upflairs', 'pvt', 'ltd', 'pvt', 'jaipur', 'rajasthan']\n"
     ]
    }
   ],
   "source": [
    "st = \"upflairs pvt ltd pvt jaipur rajasthan\"\n",
    "print(re.split(\" \",st))\n"
   ]
  },
  {
   "cell_type": "code",
   "execution_count": 29,
   "metadata": {},
   "outputs": [
    {
     "name": "stdout",
     "output_type": "stream",
     "text": [
      "['a', 'a', 'a', 'a', 'a']\n"
     ]
    }
   ],
   "source": [
    "st = \"upflairs pvt ltd pvt jaipur rajasthan\"\n",
    "print(re.findall('a',st))"
   ]
  },
  {
   "cell_type": "code",
   "execution_count": 32,
   "metadata": {},
   "outputs": [
    {
     "name": "stdout",
     "output_type": "stream",
     "text": [
      "[]\n"
     ]
    }
   ],
   "source": [
    "st = \"upflairs pvt ltd pvt jaipur rajasthan\"\n",
    "print(re.findall('ap',st))"
   ]
  },
  {
   "cell_type": "code",
   "execution_count": 40,
   "metadata": {},
   "outputs": [
    {
     "name": "stdout",
     "output_type": "stream",
     "text": [
      "['l', 'a', 'l', 'a', 'a', 'a', 'a']\n"
     ]
    }
   ],
   "source": [
    "st = \"upflairs pvt ltd pvt jaipur rajasthan\"\n",
    "print(re.findall('[al]',st))"
   ]
  },
  {
   "cell_type": "code",
   "execution_count": 42,
   "metadata": {},
   "outputs": [
    {
     "name": "stdout",
     "output_type": "stream",
     "text": [
      "['u', 'p', 'f', 'i', 'r', 's', ' ', 'p', 'v', ' ', 'd', ' ', 'p', 'v', ' ', 'j', 'i', 'p', 'u', 'r', ' ', 'r', 'j', 's', 'h', 'n']\n"
     ]
    }
   ],
   "source": [
    "st = \"upflairs pvt ltd pvt jaipur rajasthan\"\n",
    "print(re.findall('[^tal]',st))"
   ]
  },
  {
   "cell_type": "code",
   "execution_count": 48,
   "metadata": {},
   "outputs": [
    {
     "name": "stdout",
     "output_type": "stream",
     "text": [
      "['a', 'd', 'a', 'a', 'a', 'a']\n"
     ]
    }
   ],
   "source": [
    "st = \"upflairs pvt ltd pvt jaipur  rajasthan\"\n",
    "print(re.findall('[a-d]',st))"
   ]
  },
  {
   "cell_type": "code",
   "execution_count": 50,
   "metadata": {},
   "outputs": [
    {
     "name": "stdout",
     "output_type": "stream",
     "text": [
      "['R']\n"
     ]
    }
   ],
   "source": [
    "st = \"upflairs pvt ltd pvt jaipur  Rajasthan\"\n",
    "print(re.findall('[A-Z]',st))"
   ]
  },
  {
   "cell_type": "code",
   "execution_count": 58,
   "metadata": {},
   "outputs": [
    {
     "name": "stdout",
     "output_type": "stream",
     "text": [
      "['3', '0', '2', '0', '3', '3']\n",
      "302033\n"
     ]
    }
   ],
   "source": [
    "st = \"upflairs pvt ltd pvt jaipur  Rajasthan 302033\"\n",
    "match = re.findall('[0-9]',st)\n",
    "print(match)\n",
    "print(\"\".join(match))"
   ]
  },
  {
   "cell_type": "code",
   "execution_count": null,
   "metadata": {},
   "outputs": [],
   "source": [
    "warnings: "
   ]
  },
  {
   "cell_type": "code",
   "execution_count": 64,
   "metadata": {},
   "outputs": [
    {
     "name": "stdout",
     "output_type": "stream",
     "text": [
      "['3', '0', '2', '0', '3', '3', '2', '5']\n"
     ]
    }
   ],
   "source": [
    "st = \"upflairs pvt ltd pvt jaipur  Rajasthan 302033.25\"\n",
    "match = re.findall(\"[\\\\d]\",st)  # [0-9]\n",
    "print(match)\n"
   ]
  },
  {
   "cell_type": "code",
   "execution_count": 69,
   "metadata": {},
   "outputs": [
    {
     "name": "stdout",
     "output_type": "stream",
     "text": [
      "['abhimanyu']\n"
     ]
    }
   ],
   "source": [
    "st = \"upflairs pvt ltd pvt jaipur abhimanyu Rajasthan 302033.25\"\n",
    "match = re.findall(\".b.....yu\",st)  # [0-9]\n",
    "print(match)"
   ]
  },
  {
   "cell_type": "code",
   "execution_count": 70,
   "metadata": {},
   "outputs": [
    {
     "name": "stdout",
     "output_type": "stream",
     "text": [
      "['abhimanyu']\n"
     ]
    }
   ],
   "source": [
    "st = \"upflairs pvt ltd pvt jaipur abhimanyu Rajasthan 302033.25\"\n",
    "match = re.findall(\"ab.*yu\",st)  # [0-9]\n",
    "print(match)"
   ]
  },
  {
   "cell_type": "code",
   "execution_count": 71,
   "metadata": {},
   "outputs": [
    {
     "name": "stdout",
     "output_type": "stream",
     "text": [
      "upflairs pvt ltd pvt jaipur abhimanyu Bikaner 302033.25\n"
     ]
    }
   ],
   "source": [
    "st = \"upflairs pvt ltd pvt jaipur abhimanyu Rajasthan 302033.25\"\n",
    "# re.sub(\"pattern\",\"by which\",\"TEXT\")  # replace() \n",
    "output = re.sub(\"Rajasthan\",\"Bikaner\",st)\n",
    "print(output)"
   ]
  },
  {
   "cell_type": "code",
   "execution_count": 72,
   "metadata": {},
   "outputs": [
    {
     "name": "stdout",
     "output_type": "stream",
     "text": [
      "upflairs pvt ltd pvt jaipur abhimanyu Bikaner 302033.25\n"
     ]
    }
   ],
   "source": [
    "st = \"upflairs pvt ltd pvt jaipur abhimanyu Rajasthan 302033.25\"\n",
    "# re.sub(\"pattern\",\"by which\",\"TEXT\")  # replace() \n",
    "output = re.sub(\"Ra.*n\",\"Bikaner\",st)\n",
    "print(output)"
   ]
  },
  {
   "cell_type": "code",
   "execution_count": 73,
   "metadata": {},
   "outputs": [
    {
     "name": "stdout",
     "output_type": "stream",
     "text": [
      "@#$%#$^##@@302033.25\n"
     ]
    }
   ],
   "source": [
    "st = \"upflairs pvt ltd pvt jaipur abhimanyu Rajasthan @# $% #$ ^## @@ 302033.25\"\n",
    "# re.sub(\"pattern\",\"by which\",\"TEXT\")  # replace() \n",
    "output = re.sub(\"[a-zA-Z ]\",\"\",st)\n",
    "print(output)"
   ]
  },
  {
   "cell_type": "code",
   "execution_count": 74,
   "metadata": {},
   "outputs": [
    {
     "name": "stdout",
     "output_type": "stream",
     "text": [
      "upflairs pvt ltd pvt jaipur abhimanyu Rajasthan      \n"
     ]
    }
   ],
   "source": [
    "st = \"upflairs pvt ltd pvt jaipur abhimanyu Rajasthan @# $% #$ ^## @@ 302033.25\"\n",
    "# re.sub(\"pattern\",\"by which\",\"TEXT\")  # replace() \n",
    "output = re.sub(\"[^a-zA-Z ]\",\"\",st)\n",
    "print(output)"
   ]
  },
  {
   "cell_type": "code",
   "execution_count": null,
   "metadata": {},
   "outputs": [
    {
     "name": "stdout",
     "output_type": "stream",
     "text": [
      "upflairs pvt ltd pvt jaipur abhimanyu Rajasthan      30203325\n"
     ]
    }
   ],
   "source": [
    "st = \"upflairs pvt ltd pvt jaipur abhimanyu Rajasthan @# $% #$ ^## @@ 302033.25\"\n",
    "# re.sub(\"pattern\",\"by which\",\"TEXT\")  # replace() \n",
    "output = re.sub(\"[^a-zA-Z \\\\d]\",\"\",st)\n",
    "print(output)"
   ]
  },
  {
   "cell_type": "code",
   "execution_count": 76,
   "metadata": {},
   "outputs": [
    {
     "name": "stdout",
     "output_type": "stream",
     "text": [
      "upflairs pvt ltd pvt jaipur abhimanyu Rajasthan      302033.25\n"
     ]
    }
   ],
   "source": [
    "st = \"upflairs pvt ltd pvt jaipur abhimanyu Rajasthan @# $% #$ ^## @@ 302033.25\"\n",
    "# re.sub(\"pattern\",\"by which\",\"TEXT\")  # replace() \n",
    "output = re.sub(\"[#@$%^]\",\"\",st)\n",
    "print(output)"
   ]
  },
  {
   "cell_type": "code",
   "execution_count": 77,
   "metadata": {},
   "outputs": [
    {
     "name": "stdout",
     "output_type": "stream",
     "text": [
      "upflairs pvt ltd pvt jaipur abhimanyu Rajasthan      30203325\n"
     ]
    }
   ],
   "source": [
    "st = \"upflairs pvt ltd pvt jaipur abhimanyu Rajasthan @# $% #$ ^## @@ 302033.25\"\n",
    "# re.sub(\"pattern\",\"by which\",\"TEXT\")  # replace() \n",
    "output = re.sub(\"[^a-zA-Z0-9 ]\",\"\",st)\n",
    "print(output)"
   ]
  },
  {
   "cell_type": "code",
   "execution_count": 89,
   "metadata": {},
   "outputs": [],
   "source": [
    "text = \"\"\"\n",
    "Narendra Damodardas Modi[a] (born 17 September 1950)[b] 9759194985  is an Indian politician serving as the current prime minister of India since 26 May 2014. Modi was the chief minister of Gujarat from 2001 to 2014 and is the member of parliament (MP) for Varanasi. He is a member of the Bharatiya Janata Party (BJP) and of the Rashtriya Swayamsevak Sangh (RSS), a right-wing Hindu nationalist paramilitary volunteer organisation. He is the longest-serving prime minister outside the Indian National Congress.[4]\n",
    "\n",
    "Modi was born anshika85475@gmail.com and raised in smartengineer0786@gmail.co  Vadnagar in northeastern  8457695821 Gujarat, where he completed his secondary education. He was introduced to the RSS at the age of eight. At the age of 18, he was married to Jashodaben Modi, whom he abandoned soon after, only publicly acknowledging\n",
    "\"\"\""
   ]
  },
  {
   "cell_type": "code",
   "execution_count": 94,
   "metadata": {},
   "outputs": [
    {
     "name": "stdout",
     "output_type": "stream",
     "text": [
      "['example@gmail.com', '9876543210']\n"
     ]
    }
   ],
   "source": [
    "import re\n",
    "\n",
    "text = \"Here is an email: example@gmail.com and a phone number: 9876543210\"\n",
    "pattern = r\"\\b[789]\\d{9}\\b|\\b[A-Za-z0-9._%+-]+@gmail\\.com\\b\"\n",
    "\n",
    "matches = re.findall(pattern, text)\n",
    "print(matches)\n"
   ]
  }
 ],
 "metadata": {
  "kernelspec": {
   "display_name": "Python 3",
   "language": "python",
   "name": "python3"
  },
  "language_info": {
   "codemirror_mode": {
    "name": "ipython",
    "version": 3
   },
   "file_extension": ".py",
   "mimetype": "text/x-python",
   "name": "python",
   "nbconvert_exporter": "python",
   "pygments_lexer": "ipython3",
   "version": "3.12.4"
  }
 },
 "nbformat": 4,
 "nbformat_minor": 2
}

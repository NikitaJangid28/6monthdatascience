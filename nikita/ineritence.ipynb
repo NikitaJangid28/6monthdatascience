{
 "cells": [
  {
   "cell_type": "code",
   "execution_count": 7,
   "metadata": {},
   "outputs": [],
   "source": [
    "class Father:\n",
    "    father_name = \"suresh chandra\"\n",
    "    father_bank_balance = 85755 \n",
    "    father_age = 48 \n",
    "\n",
    "\n",
    "\n",
    "class Son(Father):   # inheritence \n",
    "    son_name = \"Radhey\"\n",
    "    son_age = 25"
   ]
  },
  {
   "cell_type": "code",
   "execution_count": 8,
   "metadata": {},
   "outputs": [],
   "source": [
    "obj_father = Father()\n",
    "obj_son = Son()"
   ]
  },
  {
   "cell_type": "code",
   "execution_count": 10,
   "metadata": {},
   "outputs": [
    {
     "data": {
      "text/plain": [
       "'suresh chandra'"
      ]
     },
     "execution_count": 10,
     "metadata": {},
     "output_type": "execute_result"
    }
   ],
   "source": [
    "obj_son.father_name"
   ]
  },
  {
   "cell_type": "code",
   "execution_count": 11,
   "metadata": {},
   "outputs": [],
   "source": [
    "class Father:\n",
    "    father_name = \"suresh chandra\"\n",
    "    father_bank_balance = 85755 \n",
    "    father_age = 48 \n",
    "\n",
    "    @classmethod\n",
    "    def display(cls):\n",
    "        print(\"father name is : \",cls.father_name)\n",
    "        print(\"father bank balance is : \",cls.father_bank_balance)\n",
    "        print(\"father age is : \",cls.father_age)\n",
    "\n",
    "\n",
    "\n",
    "class Son(Father):   # inheritence \n",
    "    son_name = \"Radhey\"\n",
    "    son_age = 25"
   ]
  },
  {
   "cell_type": "code",
   "execution_count": 12,
   "metadata": {},
   "outputs": [
    {
     "name": "stdout",
     "output_type": "stream",
     "text": [
      "father name is :  suresh chandra\n",
      "father bank balance is :  85755\n",
      "father age is :  48\n"
     ]
    }
   ],
   "source": [
    "obj_son = Son()\n",
    "obj_son.display()"
   ]
  },
  {
   "cell_type": "markdown",
   "metadata": {},
   "source": [
    "#### constructor in super class"
   ]
  },
  {
   "cell_type": "code",
   "execution_count": 18,
   "metadata": {},
   "outputs": [],
   "source": [
    "class Father:\n",
    "    father_name = \"suresh chandra\"\n",
    "    father_bank_balance = 85755 \n",
    "    father_age = 48\n",
    "\n",
    "    def __init__(self,city,college_name ):\n",
    "        self.father_city = city  \n",
    "        self.father_college = college_name\n",
    "        print(\"father class constructor executed\")\n",
    "\n",
    "    @classmethod\n",
    "    def display(cls):\n",
    "        print(\"father name is : \",cls.father_name)\n",
    "        print(\"father bank balance is : \",cls.father_bank_balance)\n",
    "        print(\"father age is : \",cls.father_age)\n",
    "\n",
    "class Son(Father):   # inheritence \n",
    "    son_name = \"Radhey\"\n",
    "    son_age = 25"
   ]
  },
  {
   "cell_type": "code",
   "execution_count": 19,
   "metadata": {},
   "outputs": [
    {
     "name": "stdout",
     "output_type": "stream",
     "text": [
      "father class constructor executed\n"
     ]
    }
   ],
   "source": [
    "obj_son = Son(city=\"mathura\",college_name=\"IET agra\")"
   ]
  },
  {
   "cell_type": "code",
   "execution_count": 20,
   "metadata": {},
   "outputs": [
    {
     "data": {
      "text/plain": [
       "'mathura'"
      ]
     },
     "execution_count": 20,
     "metadata": {},
     "output_type": "execute_result"
    }
   ],
   "source": [
    "obj_son.father_city"
   ]
  },
  {
   "cell_type": "code",
   "execution_count": 21,
   "metadata": {},
   "outputs": [
    {
     "data": {
      "text/plain": [
       "'IET agra'"
      ]
     },
     "execution_count": 21,
     "metadata": {},
     "output_type": "execute_result"
    }
   ],
   "source": [
    "obj_son.father_college"
   ]
  },
  {
   "cell_type": "code",
   "execution_count": 22,
   "metadata": {},
   "outputs": [
    {
     "data": {
      "text/plain": [
       "'Radhey'"
      ]
     },
     "execution_count": 22,
     "metadata": {},
     "output_type": "execute_result"
    }
   ],
   "source": [
    "obj_son.son_name"
   ]
  },
  {
   "cell_type": "markdown",
   "metadata": {},
   "source": [
    "####  constructor in both (super, sub)"
   ]
  },
  {
   "cell_type": "code",
   "execution_count": 34,
   "metadata": {},
   "outputs": [],
   "source": [
    "class Father:\n",
    "    father_name = \"suresh chandra\"\n",
    "    father_bank_balance = 85755 \n",
    "    father_age = 48\n",
    "\n",
    "    def __init__(self,city,college_name ):\n",
    "        self.father_city = city  \n",
    "        self.father_college = college_name\n",
    "        print(\"father class constructor executed\")\n",
    "\n",
    "    @classmethod\n",
    "    def display(cls):\n",
    "        print(\"father name is : \",cls.father_name)\n",
    "        print(\"father bank balance is : \",cls.father_bank_balance)\n",
    "        print(\"father age is : \",cls.father_age)\n",
    "\n",
    "class Son(Father):   # inheritence \n",
    "    son_name = \"Radhey\"\n",
    "    son_age = 25 \n",
    "\n",
    "    def __init__(self,student_college_name,student_college_city):\n",
    "        self.student_college  = student_college_name\n",
    "        self.student_college_city = student_college_city\n",
    "        print(\"son class constructor executed\")\n",
    "        # super().display()\n",
    "        super().__init__(city='aligarh',college_name='aligarh')"
   ]
  },
  {
   "cell_type": "code",
   "execution_count": 35,
   "metadata": {},
   "outputs": [
    {
     "name": "stdout",
     "output_type": "stream",
     "text": [
      "son class constructor executed\n",
      "father class constructor executed\n"
     ]
    }
   ],
   "source": [
    "obj_son = Son(student_college_name='iet agra',student_college_city='agra')"
   ]
  },
  {
   "cell_type": "code",
   "execution_count": 31,
   "metadata": {},
   "outputs": [
    {
     "ename": "AttributeError",
     "evalue": "'Son' object has no attribute 'father_city'",
     "output_type": "error",
     "traceback": [
      "\u001b[1;31m---------------------------------------------------------------------------\u001b[0m",
      "\u001b[1;31mAttributeError\u001b[0m                            Traceback (most recent call last)",
      "Cell \u001b[1;32mIn[31], line 1\u001b[0m\n\u001b[1;32m----> 1\u001b[0m \u001b[43mobj_son\u001b[49m\u001b[38;5;241;43m.\u001b[39;49m\u001b[43mfather_city\u001b[49m\n",
      "\u001b[1;31mAttributeError\u001b[0m: 'Son' object has no attribute 'father_city'"
     ]
    }
   ],
   "source": [
    "obj_son.father_city"
   ]
  },
  {
   "cell_type": "code",
   "execution_count": 49,
   "metadata": {},
   "outputs": [],
   "source": [
    "class Animal(object):\n",
    "    pass "
   ]
  },
  {
   "cell_type": "markdown",
   "metadata": {},
   "source": [
    "# multilevel inheritence without constructor "
   ]
  },
  {
   "cell_type": "code",
   "execution_count": 50,
   "metadata": {},
   "outputs": [],
   "source": [
    "class  Father(object):\n",
    "    father_name = 'suresh chandra' \n",
    "\n",
    "class Son(Father):\n",
    "    son_name =  \"radhey\"\n",
    "\n",
    "class Grandson(Son):\n",
    "    grandson_name = 'chhotu' "
   ]
  },
  {
   "cell_type": "code",
   "execution_count": 51,
   "metadata": {},
   "outputs": [],
   "source": [
    "grand_obj = Grandson()"
   ]
  },
  {
   "cell_type": "code",
   "execution_count": 55,
   "metadata": {},
   "outputs": [
    {
     "data": {
      "text/plain": [
       "'suresh chandra'"
      ]
     },
     "execution_count": 55,
     "metadata": {},
     "output_type": "execute_result"
    }
   ],
   "source": [
    "grand_obj.father_name"
   ]
  },
  {
   "cell_type": "markdown",
   "metadata": {},
   "source": [
    "### Multilevel inheritence with constructor "
   ]
  },
  {
   "cell_type": "code",
   "execution_count": null,
   "metadata": {},
   "outputs": [],
   "source": [
    "class Father:\n",
    "    father_name = \"suresh chandra\"\n",
    "    father_bank_balance = 85755 \n",
    "    father_age = 48\n",
    "\n",
    "    def __init__(self,city,college_name ):\n",
    "        self.father_city = city  \n",
    "        self.father_college = college_name\n",
    "        print(\"father class constructor executed\")\n",
    "\n",
    "    @classmethod\n",
    "    def display(cls):\n",
    "        print(\"father name is : \",cls.father_name)\n",
    "        print(\"father bank balance is : \",cls.father_bank_balance)\n",
    "        print(\"father age is : \",cls.father_age)\n",
    "\n",
    "class Son(Father):   # inheritence \n",
    "    son_name = \"Radhey\"\n",
    "    son_age = 25 \n",
    "\n",
    "    def __init__(self,student_college_name,student_college_city):\n",
    "        self.student_college  = student_college_name\n",
    "        self.student_college_city = student_college_city\n",
    "        print(\"son class constructor executed\")\n",
    "        # super().display()\n",
    "        super().__init__(city='aligarh',college_name='aligarh')"
   ]
  },
  {
   "cell_type": "code",
   "execution_count": null,
   "metadata": {},
   "outputs": [],
   "source": []
  },
  {
   "cell_type": "code",
   "execution_count": null,
   "metadata": {},
   "outputs": [],
   "source": []
  },
  {
   "cell_type": "code",
   "execution_count": null,
   "metadata": {},
   "outputs": [],
   "source": []
  }
 ],
 "metadata": {
  "kernelspec": {
   "display_name": "Python 3",
   "language": "python",
   "name": "python3"
  },
  "language_info": {
   "codemirror_mode": {
    "name": "ipython",
    "version": 3
   },
   "file_extension": ".py",
   "mimetype": "text/x-python",
   "name": "python",
   "nbconvert_exporter": "python",
   "pygments_lexer": "ipython3",
   "version": "3.12.4"
  }
 },
 "nbformat": 4,
 "nbformat_minor": 2
}

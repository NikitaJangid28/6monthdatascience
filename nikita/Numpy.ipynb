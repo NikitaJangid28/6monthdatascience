{
 "cells": [
  {
   "cell_type": "code",
   "execution_count": 2,
   "id": "5fe3ec31-15cd-406b-8bda-f357ca8ce1b3",
   "metadata": {},
   "outputs": [
    {
     "name": "stdout",
     "output_type": "stream",
     "text": [
      "Requirement already satisfied: numpy in e:\\data science\\pyhton libraries\\my_virtual_env\\lib\\site-packages (2.2.3)Note: you may need to restart the kernel to use updated packages.\n",
      "\n"
     ]
    }
   ],
   "source": [
    "%pip install numpy\n"
   ]
  },
  {
   "cell_type": "code",
   "execution_count": 3,
   "id": "3b5c8b77-1cac-4758-a3e0-7fbbf22ce840",
   "metadata": {},
   "outputs": [],
   "source": [
    "import numpy as np"
   ]
  },
  {
   "cell_type": "code",
   "execution_count": 41,
   "id": "5390f814-afc2-454e-b02f-06cfdb81db3b",
   "metadata": {},
   "outputs": [
    {
     "name": "stdout",
     "output_type": "stream",
     "text": [
      "<class 'list'>\n",
      "<class 'numpy.ndarray'>\n"
     ]
    }
   ],
   "source": [
    "ls = [62, 42, 85]  # Creating a Python list\n",
    "print(type(ls))  # Checking and printing the type of 'ls'\n",
    "\n",
    "arr = np.array(ls)  # Converting the list into a NumPy array\n",
    "print(type(arr))  # Checking and printing the type of 'arr'"
   ]
  },
  {
   "cell_type": "code",
   "execution_count": 5,
   "id": "cbf006a1-265f-42f3-9e98-3d67596016ab",
   "metadata": {},
   "outputs": [
    {
     "name": "stdout",
     "output_type": "stream",
     "text": [
      "<class 'numpy.ndarray'>\n"
     ]
    }
   ],
   "source": [
    "arr1= np.array([1,2,3,4,5,6])\n",
    "print(type(arr1))"
   ]
  },
  {
   "cell_type": "code",
   "execution_count": null,
   "id": "aaeab088-225a-4be2-b205-7a23ca2ab9f0",
   "metadata": {},
   "outputs": [
    {
     "data": {
      "text/plain": [
       "array([ 1,  2,  3,  4,  5,  6,  7,  8,  9, 10, 11, 12, 13, 14, 15, 16, 17,\n",
       "       18, 19, 20, 21, 22, 23, 24])"
      ]
     },
     "execution_count": 6,
     "metadata": {},
     "output_type": "execute_result"
    }
   ],
   "source": [
    "#arange(start, stop, step)- It creates an array with values in a given range with a specific step.\n",
    "arr2= np.arange(1,25)\n",
    "arr2 #1D array"
   ]
  },
  {
   "cell_type": "code",
   "execution_count": null,
   "id": "a80d3168-8ff8-4edd-89c7-149c5f4e55f0",
   "metadata": {},
   "outputs": [
    {
     "data": {
      "text/plain": [
       "array([[0., 0., 0., 0., 0.],\n",
       "       [0., 0., 0., 0., 0.]])"
      ]
     },
     "execution_count": 7,
     "metadata": {},
     "output_type": "execute_result"
    }
   ],
   "source": [
    "# zeros(rows,columns) - Creates an array filled with zeros\n",
    "arr3= np.zeros((2,5))\n",
    "arr3"
   ]
  },
  {
   "cell_type": "code",
   "execution_count": null,
   "id": "36a66c51-8f7e-4388-b441-4efa9ebd1281",
   "metadata": {},
   "outputs": [
    {
     "data": {
      "text/plain": [
       "array([[1., 1., 1.],\n",
       "       [1., 1., 1.],\n",
       "       [1., 1., 1.],\n",
       "       [1., 1., 1.],\n",
       "       [1., 1., 1.]])"
      ]
     },
     "execution_count": 8,
     "metadata": {},
     "output_type": "execute_result"
    }
   ],
   "source": [
    "# ones(rows,columns) - Creates an array filled with ones\n",
    "arr4= np.ones((5,3))\n",
    "arr4"
   ]
  },
  {
   "cell_type": "code",
   "execution_count": 9,
   "id": "4c783084-4083-41a8-bf12-874de3d00b80",
   "metadata": {},
   "outputs": [
    {
     "data": {
      "text/plain": [
       "array([ 1,  3,  5,  7,  9, 11, 13, 15, 17, 19, 21, 23])"
      ]
     },
     "execution_count": 9,
     "metadata": {},
     "output_type": "execute_result"
    }
   ],
   "source": [
    "arr5= np.arange(1,25,2)\n",
    "arr5"
   ]
  },
  {
   "cell_type": "code",
   "execution_count": null,
   "id": "4ae0d335-df3e-4d2e-be82-8e3840db55b3",
   "metadata": {},
   "outputs": [
    {
     "data": {
      "text/plain": [
       "array([1.  , 1.25, 1.5 , 1.75, 2.  ])"
      ]
     },
     "execution_count": 10,
     "metadata": {},
     "output_type": "execute_result"
    }
   ],
   "source": [
    "#linspace(start, stop, num) - Generates num equally spaced values between start and stop.\n",
    "arr6= np.linspace(1,2,5)\n",
    "arr6"
   ]
  },
  {
   "cell_type": "code",
   "execution_count": null,
   "id": "d39f83a8-2def-4284-8280-766d4207f29a",
   "metadata": {},
   "outputs": [
    {
     "data": {
      "text/plain": [
       "array([[ 0,  1,  2],\n",
       "       [ 3,  4,  5],\n",
       "       [ 6,  7,  8],\n",
       "       [ 9, 10, 11],\n",
       "       [12, 13, 14],\n",
       "       [15, 16, 17],\n",
       "       [18, 19, 20],\n",
       "       [21, 22, 23],\n",
       "       [24, 25, 26],\n",
       "       [27, 28, 29]])"
      ]
     },
     "execution_count": 11,
     "metadata": {},
     "output_type": "execute_result"
    }
   ],
   "source": [
    "# Reshape the array in 2D\n",
    "arr7=np.arange(0,30).reshape(10,3)\n",
    "arr7"
   ]
  },
  {
   "cell_type": "code",
   "execution_count": 12,
   "id": "d8c7e4f7",
   "metadata": {},
   "outputs": [
    {
     "name": "stdout",
     "output_type": "stream",
     "text": [
      "[20 30 40 50]\n",
      "[10 20 30 40]\n",
      "[40 50 60 70]\n",
      "[10 30 50 70]\n",
      "[70 60 50 40 30 20 10]\n"
     ]
    }
   ],
   "source": [
    "# Slicing a 1D array\n",
    "arr1d = np.array([10, 20, 30, 40, 50, 60, 70])\n",
    "\n",
    "# Basic slicing\n",
    "print(arr1d[1:5])    # Output: [20 30 40 50]\n",
    "print(arr1d[:4])     # Output: [10 20 30 40]\n",
    "print(arr1d[3:])     # Output: [40 50 60 70]\n",
    "print(arr1d[::2])    # Output: [10 30 50 70] (Every second element)\n",
    "print(arr1d[::-1])   # Output: [70 60 50 40 30 20 10] (Reverse array)\n"
   ]
  },
  {
   "cell_type": "code",
   "execution_count": 40,
   "id": "984578b4",
   "metadata": {},
   "outputs": [
    {
     "name": "stdout",
     "output_type": "stream",
     "text": [
      "[[2 3]\n",
      " [6 7]]\n",
      "[1 2 3 4]\n",
      "[1 5 9]\n",
      "[[ 5  6  7  8]\n",
      " [ 9 10 11 12]]\n"
     ]
    }
   ],
   "source": [
    "# Slicing a 2D array\n",
    "arr2d = np.array([[1, 2, 3, 4],\n",
    "                  [5, 6, 7, 8],\n",
    "                  [9, 10, 11, 12]])\n",
    "\n",
    "# Extract a subarray\n",
    "print(arr2d[0:2, 1:3])\n",
    "\n",
    "# Extract first row\n",
    "print(arr2d[0, :])\n",
    "\n",
    "# Extract first column\n",
    "print(arr2d[:, 0])\n",
    "\n",
    "# Extract last two rows\n",
    "print(arr2d[-2:, :])\n"
   ]
  },
  {
   "cell_type": "code",
   "execution_count": 39,
   "id": "15d6a80e",
   "metadata": {},
   "outputs": [
    {
     "name": "stdout",
     "output_type": "stream",
     "text": [
      "[[ 7  8  9]\n",
      " [10 11 12]]\n",
      "[[ 1  2  3]\n",
      " [ 7  8  9]\n",
      " [13 14 15]]\n",
      "18\n",
      "[[ 3  6]\n",
      " [ 9 12]\n",
      " [15 18]]\n"
     ]
    }
   ],
   "source": [
    "# Slicing a 3D array\n",
    "arr3d = np.array([[[1, 2, 3], [4, 5, 6]],\n",
    "                  [[7, 8, 9], [10, 11, 12]],\n",
    "                  [[13, 14, 15], [16, 17, 18]]])\n",
    "\n",
    "# Extract a specific 2D matrix\n",
    "print(arr3d[1, :, :])\n",
    "\n",
    "# Extract a single row across all 2D matrices\n",
    "print(arr3d[:, 0, :])\n",
    "\n",
    "# Extract a single element\n",
    "print(arr3d[2, 1, 2])\n",
    "\n",
    "# Extract last column across all matrices\n",
    "print(arr3d[:, :, -1])\n"
   ]
  },
  {
   "cell_type": "code",
   "execution_count": 13,
   "id": "bd8a5bc9-9cfd-4e7b-89db-6ea1ab10f248",
   "metadata": {},
   "outputs": [
    {
     "data": {
      "text/plain": [
       "array([1, 4, 3, 4, 3, 1, 2, 2, 4], dtype=int32)"
      ]
     },
     "execution_count": 13,
     "metadata": {},
     "output_type": "execute_result"
    }
   ],
   "source": [
    "#random initialization\n",
    "arr8= np.random.randint(1,5,9)\n",
    "arr8 #1D array"
   ]
  },
  {
   "cell_type": "code",
   "execution_count": null,
   "id": "340632d2-cda0-4a92-83df-00a36ee8d127",
   "metadata": {},
   "outputs": [
    {
     "data": {
      "text/plain": [
       "array([[1, 2, 4, 4],\n",
       "       [4, 1, 4, 4],\n",
       "       [2, 2, 4, 3]], dtype=int32)"
      ]
     },
     "execution_count": 14,
     "metadata": {},
     "output_type": "execute_result"
    }
   ],
   "source": [
    "# Creating 2D array using random\n",
    "arr9= np.random.randint(1,5,(3,4))\n",
    "arr9"
   ]
  },
  {
   "cell_type": "code",
   "execution_count": null,
   "id": "aa487962-9f12-416d-8209-8a95cc2f83cd",
   "metadata": {},
   "outputs": [
    {
     "data": {
      "text/plain": [
       "array([0.00304272, 0.5569442 , 0.24658629, 0.03678068, 0.01917661,\n",
       "       0.79553288, 0.73065724, 0.03446279, 0.60030139, 0.61836591])"
      ]
     },
     "execution_count": 15,
     "metadata": {},
     "output_type": "execute_result"
    }
   ],
   "source": [
    "# Creating array using random()\n",
    "a= np.random.random(10) # Creates a 1D array of 10 random float values between 0 and 1\n",
    "a"
   ]
  },
  {
   "cell_type": "code",
   "execution_count": null,
   "id": "882a31b8-94b3-49cd-bff5-0821fa125a31",
   "metadata": {},
   "outputs": [
    {
     "data": {
      "text/plain": [
       "array([[0.00149029, 0.75529536, 0.24954362, 0.14264442, 0.14830886],\n",
       "       [0.20141729, 0.37530204, 0.07509211, 0.54549659, 0.8607642 ],\n",
       "       [0.5073126 , 0.25042024, 0.92894165, 0.71624547, 0.31541084],\n",
       "       [0.84516093, 0.95656484, 0.5073886 , 0.88571651, 0.55169225],\n",
       "       [0.07653576, 0.33779884, 0.85242582, 0.74600877, 0.0137824 ],\n",
       "       [0.83577827, 0.81856562, 0.96132919, 0.3169075 , 0.39366339],\n",
       "       [0.53153215, 0.27321054, 0.91847494, 0.42869239, 0.95310982],\n",
       "       [0.53867648, 0.67643771, 0.64791995, 0.86115969, 0.66166767],\n",
       "       [0.31162845, 0.30023952, 0.62100694, 0.95071132, 0.0955591 ],\n",
       "       [0.70355241, 0.8943132 , 0.67055321, 0.81094573, 0.11055545]])"
      ]
     },
     "execution_count": 16,
     "metadata": {},
     "output_type": "execute_result"
    }
   ],
   "source": [
    "# Creates a 10x5 matrix with random float values between 0 and 1\n",
    "b= np.random.random((10,5))\n",
    "b"
   ]
  },
  {
   "cell_type": "code",
   "execution_count": null,
   "id": "bfa3b255-433f-4866-9bfc-7e07b8fba57c",
   "metadata": {},
   "outputs": [
    {
     "data": {
      "text/plain": [
       "array([[ 0,  1,  2,  3,  4],\n",
       "       [ 5,  6,  7,  8,  9],\n",
       "       [10, 11, 12, 13, 14],\n",
       "       [15, 16, 17, 18, 19],\n",
       "       [20, 21, 22, 23, 24],\n",
       "       [25, 26, 27, 28, 29],\n",
       "       [30, 31, 32, 33, 34],\n",
       "       [35, 36, 37, 38, 39],\n",
       "       [40, 41, 42, 43, 44],\n",
       "       [45, 46, 47, 48, 49],\n",
       "       [50, 51, 52, 53, 54],\n",
       "       [55, 56, 57, 58, 59]])"
      ]
     },
     "execution_count": 17,
     "metadata": {},
     "output_type": "execute_result"
    }
   ],
   "source": [
    "# Creates a 12x5 matrix with values from 0 to 59 in sequence\n",
    "arr= np.arange(60).reshape(12,5)\n",
    "arr"
   ]
  },
  {
   "cell_type": "code",
   "execution_count": null,
   "id": "9bacf785-f620-41f1-9c79-51e2a18f5559",
   "metadata": {},
   "outputs": [
    {
     "data": {
      "text/plain": [
       "(12, 5)"
      ]
     },
     "execution_count": 18,
     "metadata": {},
     "output_type": "execute_result"
    }
   ],
   "source": [
    "#Check the shape of array rows and columns\n",
    "arr.shape"
   ]
  },
  {
   "cell_type": "code",
   "execution_count": null,
   "id": "94196d1b-6e6f-4dd0-9195-3f6129de27da",
   "metadata": {},
   "outputs": [
    {
     "data": {
      "text/plain": [
       "dtype('int64')"
      ]
     },
     "execution_count": 19,
     "metadata": {},
     "output_type": "execute_result"
    }
   ],
   "source": [
    "#checks the data type of array\n",
    "arr.dtype"
   ]
  },
  {
   "cell_type": "code",
   "execution_count": null,
   "id": "755147c9-4c39-41be-851b-0bdcd12f8cc6",
   "metadata": {},
   "outputs": [
    {
     "data": {
      "text/plain": [
       "2"
      ]
     },
     "execution_count": 20,
     "metadata": {},
     "output_type": "execute_result"
    }
   ],
   "source": [
    "# Return the Dimension of array\n",
    "arr.ndim"
   ]
  },
  {
   "cell_type": "code",
   "execution_count": null,
   "id": "461aa205-f206-4cf7-a05b-79fe0fde2cd2",
   "metadata": {},
   "outputs": [
    {
     "data": {
      "text/plain": [
       "60"
      ]
     },
     "execution_count": 21,
     "metadata": {},
     "output_type": "execute_result"
    }
   ],
   "source": [
    "# returns the size of array\n",
    "arr.size"
   ]
  },
  {
   "cell_type": "code",
   "execution_count": null,
   "id": "fdb1daa6-ee31-461d-a3bb-945921238654",
   "metadata": {},
   "outputs": [
    {
     "data": {
      "text/plain": [
       "array([ 0,  1,  2,  3,  4,  5,  6,  7,  8,  9, 10, 11, 12, 13, 14, 15, 16,\n",
       "       17, 18, 19, 20, 21, 22, 23, 24, 25, 26, 27, 28, 29, 30, 31, 32, 33,\n",
       "       34, 35, 36, 37, 38, 39, 40, 41, 42, 43, 44, 45, 46, 47, 48, 49, 50,\n",
       "       51, 52, 53, 54, 55, 56, 57, 58, 59])"
      ]
     },
     "execution_count": 22,
     "metadata": {},
     "output_type": "execute_result"
    }
   ],
   "source": [
    "# Converting into 1d array\n",
    "arr.flatten()"
   ]
  },
  {
   "cell_type": "code",
   "execution_count": null,
   "id": "c09fd51d-a8bf-4562-96eb-bbfb77b5db91",
   "metadata": {},
   "outputs": [
    {
     "data": {
      "text/plain": [
       "array([ 0,  1,  2,  3,  4,  5,  6,  7,  8,  9, 10, 11, 12, 13, 14, 15, 16,\n",
       "       17, 18, 19, 20, 21, 22, 23, 24, 25, 26, 27, 28, 29, 30, 31, 32, 33,\n",
       "       34, 35, 36, 37, 38, 39, 40, 41, 42, 43, 44, 45, 46, 47, 48, 49, 50,\n",
       "       51, 52, 53, 54, 55, 56, 57, 58, 59])"
      ]
     },
     "execution_count": 23,
     "metadata": {},
     "output_type": "execute_result"
    }
   ],
   "source": [
    "# Converting into 1d array\n",
    "arr.ravel()"
   ]
  },
  {
   "cell_type": "code",
   "execution_count": null,
   "id": "0e34f6b4-d7b9-4b5c-ad44-a0b0b50b1195",
   "metadata": {},
   "outputs": [
    {
     "data": {
      "text/plain": [
       "[[1, 2, 3], [4, 5, 6]]"
      ]
     },
     "execution_count": 24,
     "metadata": {},
     "output_type": "execute_result"
    }
   ],
   "source": [
    "# Creates a 2D list (matrix) with 2 rows and 3 columns\n",
    "lst= [[1,2,3],[4,5,6]]\n",
    "lst"
   ]
  },
  {
   "cell_type": "code",
   "execution_count": null,
   "id": "69ce1b1e-c146-4a04-835d-3edfeb862788",
   "metadata": {},
   "outputs": [
    {
     "data": {
      "text/plain": [
       "array([[1, 2, 3],\n",
       "       [4, 5, 6]])"
      ]
     },
     "execution_count": 25,
     "metadata": {},
     "output_type": "execute_result"
    }
   ],
   "source": [
    "#Converting the 2d list into 2d array\n",
    "arr= np.array(lst)\n",
    "arr"
   ]
  },
  {
   "cell_type": "code",
   "execution_count": null,
   "id": "a87f071f-bc3b-4c88-b9b7-af95b637a9fa",
   "metadata": {},
   "outputs": [
    {
     "data": {
      "text/plain": [
       "(2, 3)"
      ]
     },
     "execution_count": 26,
     "metadata": {},
     "output_type": "execute_result"
    }
   ],
   "source": [
    "# Returns the shape of array with rows and columns\n",
    "arr.shape"
   ]
  },
  {
   "cell_type": "code",
   "execution_count": null,
   "id": "699ccc18-6104-4a64-a6f1-70d34f6c84a1",
   "metadata": {},
   "outputs": [
    {
     "data": {
      "text/plain": [
       "(3, 2)"
      ]
     },
     "execution_count": 27,
     "metadata": {},
     "output_type": "execute_result"
    }
   ],
   "source": [
    "#Transpose the array\n",
    "arr.T.shape"
   ]
  },
  {
   "cell_type": "code",
   "execution_count": null,
   "id": "c597b3bb-a8fc-4705-94c6-78cde63e2e8a",
   "metadata": {},
   "outputs": [
    {
     "data": {
      "text/plain": [
       "array([[[  0,   1,   2],\n",
       "        [  3,   4,   5],\n",
       "        [  6,   7,   8],\n",
       "        [  9,  10,  11],\n",
       "        [ 12,  13,  14],\n",
       "        [ 15,  16,  17],\n",
       "        [ 18,  19,  20],\n",
       "        [ 21,  22,  23],\n",
       "        [ 24,  25,  26],\n",
       "        [ 27,  28,  29],\n",
       "        [ 30,  31,  32],\n",
       "        [ 33,  34,  35],\n",
       "        [ 36,  37,  38],\n",
       "        [ 39,  40,  41],\n",
       "        [ 42,  43,  44]],\n",
       "\n",
       "       [[ 45,  46,  47],\n",
       "        [ 48,  49,  50],\n",
       "        [ 51,  52,  53],\n",
       "        [ 54,  55,  56],\n",
       "        [ 57,  58,  59],\n",
       "        [ 60,  61,  62],\n",
       "        [ 63,  64,  65],\n",
       "        [ 66,  67,  68],\n",
       "        [ 69,  70,  71],\n",
       "        [ 72,  73,  74],\n",
       "        [ 75,  76,  77],\n",
       "        [ 78,  79,  80],\n",
       "        [ 81,  82,  83],\n",
       "        [ 84,  85,  86],\n",
       "        [ 87,  88,  89]],\n",
       "\n",
       "       [[ 90,  91,  92],\n",
       "        [ 93,  94,  95],\n",
       "        [ 96,  97,  98],\n",
       "        [ 99, 100, 101],\n",
       "        [102, 103, 104],\n",
       "        [105, 106, 107],\n",
       "        [108, 109, 110],\n",
       "        [111, 112, 113],\n",
       "        [114, 115, 116],\n",
       "        [117, 118, 119],\n",
       "        [120, 121, 122],\n",
       "        [123, 124, 125],\n",
       "        [126, 127, 128],\n",
       "        [129, 130, 131],\n",
       "        [132, 133, 134]],\n",
       "\n",
       "       [[135, 136, 137],\n",
       "        [138, 139, 140],\n",
       "        [141, 142, 143],\n",
       "        [144, 145, 146],\n",
       "        [147, 148, 149],\n",
       "        [150, 151, 152],\n",
       "        [153, 154, 155],\n",
       "        [156, 157, 158],\n",
       "        [159, 160, 161],\n",
       "        [162, 163, 164],\n",
       "        [165, 166, 167],\n",
       "        [168, 169, 170],\n",
       "        [171, 172, 173],\n",
       "        [174, 175, 176],\n",
       "        [177, 178, 179]],\n",
       "\n",
       "       [[180, 181, 182],\n",
       "        [183, 184, 185],\n",
       "        [186, 187, 188],\n",
       "        [189, 190, 191],\n",
       "        [192, 193, 194],\n",
       "        [195, 196, 197],\n",
       "        [198, 199, 200],\n",
       "        [201, 202, 203],\n",
       "        [204, 205, 206],\n",
       "        [207, 208, 209],\n",
       "        [210, 211, 212],\n",
       "        [213, 214, 215],\n",
       "        [216, 217, 218],\n",
       "        [219, 220, 221],\n",
       "        [222, 223, 224]]])"
      ]
     },
     "execution_count": 28,
     "metadata": {},
     "output_type": "execute_result"
    }
   ],
   "source": [
    "# Creates a 3D NumPy array of shape (5, 15, 3) with values from 0 to 224\n",
    "arr= np.array(np.arange(225).reshape(5,15,3))\n",
    "\n",
    "arr"
   ]
  },
  {
   "cell_type": "code",
   "execution_count": 64,
   "id": "50dbd8b2-393c-4ae7-80c4-7e5f3fc2b95d",
   "metadata": {},
   "outputs": [
    {
     "name": "stdout",
     "output_type": "stream",
     "text": [
      "103\n",
      "[54 55 56]\n",
      "[ 17  62 107 152 197]\n",
      "[[135 136 137]\n",
      " [138 139 140]\n",
      " [141 142 143]\n",
      " [144 145 146]\n",
      " [147 148 149]\n",
      " [150 151 152]\n",
      " [153 154 155]\n",
      " [156 157 158]\n",
      " [159 160 161]\n",
      " [162 163 164]\n",
      " [165 166 167]\n",
      " [168 169 170]\n",
      " [171 172 173]\n",
      " [174 175 176]\n",
      " [177 178 179]]\n",
      "[ 31  76 121 166 211]\n",
      "[[ 93  94  95]\n",
      " [ 96  97  98]\n",
      " [ 99 100 101]\n",
      " [102 103 104]]\n",
      "[[[ 61  62]\n",
      "  [ 64  65]\n",
      "  [ 67  68]\n",
      "  [ 70  71]\n",
      "  [ 73  74]]\n",
      "\n",
      " [[106 107]\n",
      "  [109 110]\n",
      "  [112 113]\n",
      "  [115 116]\n",
      "  [118 119]]\n",
      "\n",
      " [[151 152]\n",
      "  [154 155]\n",
      "  [157 158]\n",
      "  [160 161]\n",
      "  [163 164]]]\n"
     ]
    }
   ],
   "source": [
    "#Accessing elements from 3D array\n",
    "\n",
    "arr= np.array(np.arange(225).reshape(5,15,3))\n",
    "print(arr[2, 4, 1])  # Access element from 3rd block (index 2), 5th row (index 4), 2nd column (index 1)\n",
    "print(arr[1, 3, :])  # Entire row 4 (index 3) from block 2 (index 1)\n",
    "print(arr[:, 5, 2])  # All elements from column 3 (index 2) of row 6 (index 5) across all blocks\n",
    "print(arr[3, :, :])  # All rows & columns from block 4 (index 3)\n",
    "print(arr[:, 10, 1])  # All values from row 11 (index 10), column 2 (index 1) across all blocks\n",
    "print(arr[2, 1:5, :])  # Extract rows 2 to 5 (index 1:5) from block 3 (index 2)\n",
    "print(arr[1:4, 5:10, 1:3])  # Get Blocks 1 to 4, Rows 5 to 10, Columns 2 to 3\n"
   ]
  },
  {
   "cell_type": "code",
   "execution_count": null,
   "id": "81cd584b-65c9-4b0c-af5e-ef2e545dd0cb",
   "metadata": {},
   "outputs": [
    {
     "name": "stdout",
     "output_type": "stream",
     "text": [
      "|S1\n"
     ]
    }
   ],
   "source": [
    "# Data types -i, f, S, b\n",
    "# Creates a NumPy array with string (byte) data type ('S' stands for byte string)\n",
    "arr= np.array([1,2,3,4,5,6], dtype=\"S\")\n",
    "print(arr.dtype)"
   ]
  },
  {
   "cell_type": "code",
   "execution_count": null,
   "id": "425fa1f7-9f5b-4276-9c40-0357f676311d",
   "metadata": {},
   "outputs": [
    {
     "data": {
      "text/plain": [
       "dtype('<U5')"
      ]
     },
     "execution_count": 31,
     "metadata": {},
     "output_type": "execute_result"
    }
   ],
   "source": [
    "# String data type array\n",
    "arr=np.array(['Apple','b','c'])\n",
    "arr.dtype"
   ]
  },
  {
   "cell_type": "code",
   "execution_count": 42,
   "id": "6adb0864-8ecd-4185-9cb1-36150270ea34",
   "metadata": {},
   "outputs": [
    {
     "name": "stdout",
     "output_type": "stream",
     "text": [
      "[14  2  3  4  5]\n",
      "[1 2 3 4 5]\n"
     ]
    }
   ],
   "source": [
    "# copy and view \n",
    "arr=np.array ([1,2,3,4,5])\n",
    "newarr= arr.copy() # Creates a copy of the 'arr' array, ensuring changes in 'newarr' do not affect 'arr'\n",
    "arr[0]=14\n",
    "print(arr)\n",
    "print(newarr)"
   ]
  },
  {
   "cell_type": "code",
   "execution_count": 43,
   "id": "5666e991-83e4-42ca-97b6-839339a46df5",
   "metadata": {},
   "outputs": [
    {
     "name": "stdout",
     "output_type": "stream",
     "text": [
      "[1 2 3 4 5]\n",
      "[1 2 3 4 5]\n"
     ]
    }
   ],
   "source": [
    "arr= np.array([1,2,3,4,5])\n",
    "newview= arr.view()\n",
    "print(newview)\n",
    "print(arr)\n"
   ]
  },
  {
   "cell_type": "code",
   "execution_count": null,
   "id": "de21e3e0-de41-4380-8e89-f2bd1ea0e21c",
   "metadata": {},
   "outputs": [
    {
     "name": "stdout",
     "output_type": "stream",
     "text": [
      "[1 2 3 4]\n",
      "[2 5 7 8]\n"
     ]
    }
   ],
   "source": [
    "# iterating the array in for loop\n",
    "arr=np.array([[1,2,3,4],[2,5,7,8]])\n",
    "for x in arr:\n",
    "    print(x)"
   ]
  },
  {
   "cell_type": "code",
   "execution_count": null,
   "id": "31db0926-0af6-4f63-9d7b-1dc901cbc1c3",
   "metadata": {},
   "outputs": [
    {
     "name": "stdout",
     "output_type": "stream",
     "text": [
      "[[[[1 2 3 4 5 6 7 8]]]]\n",
      "4\n"
     ]
    }
   ],
   "source": [
    "# Changes the 1d array into 4d array using ndmin\n",
    "arr= np.array([1,2,3,4,5,6,7,8], ndmin=4)\n",
    "print(arr)\n",
    "print(arr.ndim)"
   ]
  },
  {
   "cell_type": "code",
   "execution_count": null,
   "id": "3679350b-9a24-47c7-81f3-4a0b987a68c8",
   "metadata": {},
   "outputs": [
    {
     "data": {
      "text/plain": [
       "array([1, 2, 3, 4, 5, 6, 7, 8])"
      ]
     },
     "execution_count": 36,
     "metadata": {},
     "output_type": "execute_result"
    }
   ],
   "source": [
    "#Concatenation in array\n",
    "\n",
    "a=np.array([1,2,3,4])\n",
    "b=np.array([5,6,7,8])\n",
    "c= np.concatenate((a, b))\n",
    "c"
   ]
  },
  {
   "cell_type": "code",
   "execution_count": 47,
   "id": "ab1718ab-51ee-431a-94a3-d4bf2b42c539",
   "metadata": {},
   "outputs": [
    {
     "name": "stdout",
     "output_type": "stream",
     "text": [
      "Axis=1 : \n",
      "[[1 2 5 6]\n",
      " [3 4 7 8]]\n",
      "Axis = 0 : \n",
      "[[1 2]\n",
      " [3 4]\n",
      " [5 6]\n",
      " [7 8]]\n"
     ]
    }
   ],
   "source": [
    "#Concatenate 2D array\n",
    "# axis → Specifies the axis along which concatenation should happen.\n",
    "# axis=0 → Concatenates along rows (vertically).\n",
    "# axis=1 → Concatenates along columns (horizontally).\n",
    "a= np.array([[1,2],[3,4]])\n",
    "b= np.array([[5,6],[7,8]])\n",
    "c= np.concatenate((a,b),axis=1)\n",
    "d= np.concatenate((a,b),axis=0)\n",
    "print(\"Axis=1 : \")\n",
    "print(c)\n",
    "print(\"Axis = 0 : \")\n",
    "print(d)"
   ]
  },
  {
   "cell_type": "code",
   "execution_count": 53,
   "id": "b191e208",
   "metadata": {},
   "outputs": [
    {
     "name": "stdout",
     "output_type": "stream",
     "text": [
      "[[1 2 3]\n",
      " [4 5 6]]\n",
      "[[1 4]\n",
      " [2 5]\n",
      " [3 6]]\n"
     ]
    }
   ],
   "source": [
    "# np.stack() function is used to join multiple arrays along a new axis.\n",
    "#np.stack(arrays, axis=axis_number)\n",
    "\n",
    "a = np.array([1, 2, 3])\n",
    "b = np.array([4, 5, 6])\n",
    "\n",
    "c = np.stack((a, b), axis=0)  # Stacking along axis 0\n",
    "print(c)\n",
    "\n",
    "#Stacking Along Axis 1 (Column-Wise)\n",
    "d = np.stack((a, b), axis=1)  # Stacking along axis 1\n",
    "print(d)\n",
    "\n",
    "\n"
   ]
  },
  {
   "cell_type": "code",
   "execution_count": 54,
   "id": "20d23a98",
   "metadata": {},
   "outputs": [
    {
     "name": "stdout",
     "output_type": "stream",
     "text": [
      "[[[1 5]\n",
      "  [2 6]]\n",
      "\n",
      " [[3 7]\n",
      "  [4 8]]]\n"
     ]
    }
   ],
   "source": [
    "# Stacking 2D Arrays Along a New Axis\n",
    "x = np.array([[1, 2], [3, 4]])\n",
    "y = np.array([[5, 6], [7, 8]])\n",
    "\n",
    "z = np.stack((x, y), axis=2) #it creates a new third dimension\n",
    "print(z)\n"
   ]
  },
  {
   "cell_type": "code",
   "execution_count": null,
   "id": "1d7e33d9-0ff5-4151-bf9d-cf77c6372ab3",
   "metadata": {},
   "outputs": [
    {
     "name": "stdout",
     "output_type": "stream",
     "text": [
      "[[1 2]\n",
      " [3 4]\n",
      " [5 6]\n",
      " [7 8]]\n"
     ]
    }
   ],
   "source": [
    "# np.vstack() → Stacks arrays vertically (row-wise)\n",
    "a = np.array([[1, 2], [3, 4]])\n",
    "b = np.array([[5, 6], [7, 8]])\n",
    "\n",
    "c = np.vstack((a, b))\n",
    "print(c)"
   ]
  },
  {
   "cell_type": "code",
   "execution_count": 49,
   "id": "2338d1df",
   "metadata": {},
   "outputs": [
    {
     "name": "stdout",
     "output_type": "stream",
     "text": [
      "[[1 2 5 6]\n",
      " [3 4 7 8]]\n"
     ]
    }
   ],
   "source": [
    "# np.hstack() → Stacks arrays horizontally (column-wise)\n",
    "a = np.array([[1, 2], [3, 4]])\n",
    "b = np.array([[5, 6], [7, 8]])\n",
    "\n",
    "c = np.hstack((a, b))\n",
    "print(c)"
   ]
  },
  {
   "cell_type": "code",
   "execution_count": 50,
   "id": "eaa17ef8",
   "metadata": {},
   "outputs": [
    {
     "name": "stdout",
     "output_type": "stream",
     "text": [
      "[[[1 5]\n",
      "  [2 6]]\n",
      "\n",
      " [[3 7]\n",
      "  [4 8]]]\n"
     ]
    }
   ],
   "source": [
    "# np.dstack() → Stacks arrays along the third dimension (depth-wise)\n",
    "a = np.array([[1, 2], [3, 4]])\n",
    "b = np.array([[5, 6], [7, 8]])\n",
    "\n",
    "c = np.dstack((a, b))\n",
    "print(c)\n"
   ]
  },
  {
   "cell_type": "code",
   "execution_count": 51,
   "id": "ba31349e",
   "metadata": {},
   "outputs": [
    {
     "name": "stdout",
     "output_type": "stream",
     "text": [
      "[[1 4]\n",
      " [2 5]\n",
      " [3 6]]\n"
     ]
    }
   ],
   "source": [
    "# np.column_stack() → Stacks 1D arrays as columns\n",
    "a = np.array([1, 2, 3])\n",
    "b = np.array([4, 5, 6])\n",
    "\n",
    "c = np.column_stack((a, b))\n",
    "print(c)"
   ]
  },
  {
   "cell_type": "code",
   "execution_count": 66,
   "id": "b952d4a5",
   "metadata": {},
   "outputs": [
    {
     "name": "stdout",
     "output_type": "stream",
     "text": [
      "[[[  1   2   3]\n",
      "  [  4   5 500]]\n",
      "\n",
      " [[  7   8   9]\n",
      "  [ 10  11  12]]]\n"
     ]
    }
   ],
   "source": [
    "#Replacing 100 with 500 in a 3D NumPy Array\n",
    "arr = np.array([[[1, 2, 3], [4, 5, 100]], [[7, 8, 9], [10, 11, 12]]])\n",
    "arr[arr == 100] = 500\n",
    "print(arr)"
   ]
  },
  {
   "cell_type": "code",
   "execution_count": 67,
   "id": "08dae6be",
   "metadata": {},
   "outputs": [
    {
     "name": "stdout",
     "output_type": "stream",
     "text": [
      "[[[224 223 222]\n",
      "  [221 220 219]\n",
      "  [218 217 216]\n",
      "  [215 214 213]\n",
      "  [212 211 210]\n",
      "  [209 208 207]\n",
      "  [206 205 204]\n",
      "  [203 202 201]\n",
      "  [200 199 198]\n",
      "  [197 196 195]\n",
      "  [194 193 192]\n",
      "  [191 190 189]\n",
      "  [188 187 186]\n",
      "  [185 184 183]\n",
      "  [182 181 180]]\n",
      "\n",
      " [[179 178 177]\n",
      "  [176 175 174]\n",
      "  [173 172 171]\n",
      "  [170 169 168]\n",
      "  [167 166 165]\n",
      "  [164 163 162]\n",
      "  [161 160 159]\n",
      "  [158 157 156]\n",
      "  [155 154 153]\n",
      "  [152 151 150]\n",
      "  [149 148 147]\n",
      "  [146 145 144]\n",
      "  [143 142 141]\n",
      "  [140 139 138]\n",
      "  [137 136 135]]\n",
      "\n",
      " [[134 133 132]\n",
      "  [131 130 129]\n",
      "  [128 127 126]\n",
      "  [125 124 123]\n",
      "  [122 121 120]\n",
      "  [119 118 117]\n",
      "  [116 115 114]\n",
      "  [113 112 111]\n",
      "  [110 109 108]\n",
      "  [107 106 105]\n",
      "  [104 103 102]\n",
      "  [101 100  99]\n",
      "  [ 98  97  96]\n",
      "  [ 95  94  93]\n",
      "  [ 92  91  90]]\n",
      "\n",
      " [[ 89  88  87]\n",
      "  [ 86  85  84]\n",
      "  [ 83  82  81]\n",
      "  [ 80  79  78]\n",
      "  [ 77  76  75]\n",
      "  [ 74  73  72]\n",
      "  [ 71  70  69]\n",
      "  [ 68  67  66]\n",
      "  [ 65  64  63]\n",
      "  [ 62  61  60]\n",
      "  [ 59  58  57]\n",
      "  [ 56  55  54]\n",
      "  [ 53  52  51]\n",
      "  [ 50  49  48]\n",
      "  [ 47  46  45]]\n",
      "\n",
      " [[ 44  43  42]\n",
      "  [ 41  40  39]\n",
      "  [ 38  37  36]\n",
      "  [ 35  34  33]\n",
      "  [ 32  31  30]\n",
      "  [ 29  28  27]\n",
      "  [ 26  25  24]\n",
      "  [ 23  22  21]\n",
      "  [ 20  19  18]\n",
      "  [ 17  16  15]\n",
      "  [ 14  13  12]\n",
      "  [ 11  10   9]\n",
      "  [  8   7   6]\n",
      "  [  5   4   3]\n",
      "  [  2   1   0]]]\n"
     ]
    }
   ],
   "source": [
    "\n",
    "# Creating a 3D array with values from 0 to 224\n",
    "arr = np.array(np.arange(225).reshape(5, 15, 3))\n",
    "\n",
    "# Reverse printing all elements\n",
    "print(arr[::-1, ::-1, ::-1])\n"
   ]
  },
  {
   "cell_type": "code",
   "execution_count": 68,
   "id": "53823ca8",
   "metadata": {},
   "outputs": [
    {
     "name": "stdout",
     "output_type": "stream",
     "text": [
      "[224 223 222 221 220 219 218 217 216 215 214 213 212 211 210 209 208 207\n",
      " 206 205 204 203 202 201 200 199 198 197 196 195 194 193 192 191 190 189\n",
      " 188 187 186 185 184 183 182 181 180 179 178 177 176 175 174 173 172 171\n",
      " 170 169 168 167 166 165 164 163 162 161 160 159 158 157 156 155 154 153\n",
      " 152 151 150 149 148 147 146 145 144 143 142 141 140 139 138 137 136 135\n",
      " 134 133 132 131 130 129 128 127 126 125 124 123 122 121 120 119 118 117\n",
      " 116 115 114 113 112 111 110 109 108 107 106 105 104 103 102 101 100  99\n",
      "  98  97  96  95  94  93  92  91  90  89  88  87  86  85  84  83  82  81\n",
      "  80  79  78  77  76  75  74  73  72  71  70  69  68  67  66  65  64  63\n",
      "  62  61  60  59  58  57  56  55  54  53  52  51  50  49  48  47  46  45\n",
      "  44  43  42  41  40  39  38  37  36  35  34  33  32  31  30  29  28  27\n",
      "  26  25  24  23  22  21  20  19  18  17  16  15  14  13  12  11  10   9\n",
      "   8   7   6   5   4   3   2   1   0]\n"
     ]
    }
   ],
   "source": [
    "# Flatten the array and reverse it\n",
    "print(arr.flatten()[::-1])"
   ]
  },
  {
   "cell_type": "code",
   "execution_count": 69,
   "id": "1dd19a13",
   "metadata": {},
   "outputs": [
    {
     "data": {
      "text/plain": [
       "array([[42, 43, 44],\n",
       "       [39, 40, 41],\n",
       "       [36, 37, 38],\n",
       "       [33, 34, 35],\n",
       "       [30, 31, 32],\n",
       "       [27, 28, 29],\n",
       "       [24, 25, 26],\n",
       "       [21, 22, 23],\n",
       "       [18, 19, 20],\n",
       "       [15, 16, 17],\n",
       "       [12, 13, 14],\n",
       "       [ 9, 10, 11],\n",
       "       [ 6,  7,  8],\n",
       "       [ 3,  4,  5],\n",
       "       [ 0,  1,  2]])"
      ]
     },
     "execution_count": 69,
     "metadata": {},
     "output_type": "execute_result"
    }
   ],
   "source": [
    "arr[0][::-1]\n",
    "# only row sequence has reversed"
   ]
  },
  {
   "cell_type": "code",
   "execution_count": 70,
   "id": "b8ecf415",
   "metadata": {},
   "outputs": [
    {
     "data": {
      "text/plain": [
       "array([[44, 43, 42],\n",
       "       [41, 40, 39],\n",
       "       [38, 37, 36],\n",
       "       [35, 34, 33],\n",
       "       [32, 31, 30],\n",
       "       [29, 28, 27],\n",
       "       [26, 25, 24],\n",
       "       [23, 22, 21],\n",
       "       [20, 19, 18],\n",
       "       [17, 16, 15],\n",
       "       [14, 13, 12],\n",
       "       [11, 10,  9],\n",
       "       [ 8,  7,  6],\n",
       "       [ 5,  4,  3],\n",
       "       [ 2,  1,  0]])"
      ]
     },
     "execution_count": 70,
     "metadata": {},
     "output_type": "execute_result"
    }
   ],
   "source": [
    "arr[0][::-1,::-1]\n",
    "# row and columns both are reversed"
   ]
  },
  {
   "cell_type": "code",
   "execution_count": 72,
   "id": "d77cd9a8",
   "metadata": {},
   "outputs": [
    {
     "data": {
      "text/plain": [
       "array([[ 0,  1,  2],\n",
       "       [ 3,  4,  5],\n",
       "       [ 6,  7,  8],\n",
       "       [ 9, 10, 11],\n",
       "       [12, 13, 14],\n",
       "       [15, 16, 17],\n",
       "       [18, 19, 20],\n",
       "       [21, 22, 23],\n",
       "       [24, 25, 26],\n",
       "       [27, 28, 29],\n",
       "       [30, 31, 32],\n",
       "       [33, 34, 35],\n",
       "       [36, 37, 38],\n",
       "       [39, 40, 41],\n",
       "       [42, 43, 44]])"
      ]
     },
     "execution_count": 72,
     "metadata": {},
     "output_type": "execute_result"
    }
   ],
   "source": [
    "arr[0] = arr[0][::-1,::-1]\n",
    "# first table elements has been replaced with reversed elements\n",
    "arr[0]"
   ]
  },
  {
   "cell_type": "code",
   "execution_count": 73,
   "id": "fe020862",
   "metadata": {},
   "outputs": [
    {
     "data": {
      "text/plain": [
       "array([[ 0,  1,  2,  3],\n",
       "       [ 4,  5,  6,  7],\n",
       "       [ 8,  9, 10, 11],\n",
       "       [12, 13, 14, 15],\n",
       "       [16, 17, 18, 19],\n",
       "       [20, 21, 22, 23],\n",
       "       [24, 25, 26, 27],\n",
       "       [28, 29, 30, 31],\n",
       "       [32, 33, 34, 35],\n",
       "       [36, 37, 38, 39],\n",
       "       [40, 41, 42, 43],\n",
       "       [44, 45, 46, 47],\n",
       "       [48, 49, 50, 51],\n",
       "       [52, 53, 54, 55],\n",
       "       [56, 57, 58, 59]])"
      ]
     },
     "execution_count": 73,
     "metadata": {},
     "output_type": "execute_result"
    }
   ],
   "source": [
    "# commonly used function of Numpy array\n",
    "\n",
    "arr = np.arange(60).reshape(15,4)\n",
    "arr"
   ]
  },
  {
   "cell_type": "code",
   "execution_count": null,
   "id": "119a08ad",
   "metadata": {},
   "outputs": [
    {
     "name": "stdout",
     "output_type": "stream",
     "text": [
      "0\n",
      "59\n",
      "29.5\n",
      "1770\n",
      "299.9166666666667\n",
      "17.318102282486574\n"
     ]
    }
   ],
   "source": [
    "print(np.min(arr))\n",
    "print(np.max(arr))\n",
    "print(np.mean(arr))\n",
    "print(np.sum(arr))\n",
    "print(np.var(arr)) # Measure variance\n",
    "print(np.std(arr)) # Measure standard deviation\n",
    "# same as min , max , mean ,sum , var , std"
   ]
  },
  {
   "cell_type": "code",
   "execution_count": 82,
   "id": "e6061e81",
   "metadata": {},
   "outputs": [
    {
     "name": "stdout",
     "output_type": "stream",
     "text": [
      "[array([1, 2]), array([3, 4]), array([5, 6])]\n"
     ]
    }
   ],
   "source": [
    "# SPLITTING THE NUMPY ARRAY\n",
    "# array_split() for splitting arrays, we pass it the array we want to split and the number of splits.\n",
    "arr = np.array([1,2,3,4,5,6])\n",
    "newarr = np.array_split(arr, 3)\n",
    "print(newarr)"
   ]
  },
  {
   "cell_type": "code",
   "execution_count": 84,
   "id": "7414ec0e",
   "metadata": {},
   "outputs": [
    {
     "name": "stdout",
     "output_type": "stream",
     "text": [
      "[array([1, 2]), array([3, 4]), array([5]), array([6])]\n"
     ]
    }
   ],
   "source": [
    "# Splitting array in 4 parts:\n",
    "arr= np.array([1,2,3,4,5,6])\n",
    "newarr = np.array_split(arr, 4)\n",
    "print(newarr)"
   ]
  },
  {
   "cell_type": "code",
   "execution_count": 85,
   "id": "f7e21c69",
   "metadata": {},
   "outputs": [
    {
     "name": "stdout",
     "output_type": "stream",
     "text": [
      "[1 2]\n",
      "[3 4]\n",
      "[5 6]\n"
     ]
    }
   ],
   "source": [
    "# Access teh splitted array\n",
    "newarr = np.array_split(arr, 3 )\n",
    "print(newarr[0])\n",
    "print(newarr[1])\n",
    "print(newarr[2])"
   ]
  },
  {
   "cell_type": "code",
   "execution_count": 86,
   "id": "2f9f570d",
   "metadata": {},
   "outputs": [
    {
     "data": {
      "text/plain": [
       "[array([[1, 2],\n",
       "        [3, 4]]),\n",
       " array([[5, 6],\n",
       "        [7, 8]]),\n",
       " array([[ 9, 10],\n",
       "        [11, 12]])]"
      ]
     },
     "execution_count": 86,
     "metadata": {},
     "output_type": "execute_result"
    }
   ],
   "source": [
    "# splitting the 2D array\n",
    "arr =np.array([[1,2],[3,4],[5,6],[7,8],[9,10],[11,12]])\n",
    "newarr = np.array_split(arr, 3)\n",
    "newarr"
   ]
  },
  {
   "cell_type": "code",
   "execution_count": 95,
   "id": "fdf063a3",
   "metadata": {},
   "outputs": [
    {
     "name": "stdout",
     "output_type": "stream",
     "text": [
      "[array([[ 1],\n",
      "       [ 4],\n",
      "       [ 7],\n",
      "       [10],\n",
      "       [13],\n",
      "       [16]]), array([[ 2],\n",
      "       [ 5],\n",
      "       [ 8],\n",
      "       [11],\n",
      "       [14],\n",
      "       [17]]), array([[ 3],\n",
      "       [ 6],\n",
      "       [ 9],\n",
      "       [12],\n",
      "       [15],\n",
      "       [18]])]\n"
     ]
    }
   ],
   "source": [
    "# Splitting methods - hsplit, vsplit\n",
    "a = np.array([[1, 2, 3], [4, 5, 6], [7, 8, 9], [10, 11, 12], [13, 14, 15], [16, 17, 18]])\n",
    "b= np.hsplit(a, 3)\n",
    "print(b)\n",
    "# Splitting 2D array horizontally   \n"
   ]
  },
  {
   "cell_type": "code",
   "execution_count": 96,
   "id": "d7e3bd68",
   "metadata": {},
   "outputs": [
    {
     "name": "stdout",
     "output_type": "stream",
     "text": [
      "[array([[1, 2, 3],\n",
      "       [4, 5, 6]]), array([[ 7,  8,  9],\n",
      "       [10, 11, 12]]), array([[13, 14, 15],\n",
      "       [16, 17, 18]])]\n"
     ]
    }
   ],
   "source": [
    "# Splitting 2D array vertically\n",
    "c= np.vsplit(a, 3)\n",
    "print(c)"
   ]
  },
  {
   "cell_type": "code",
   "execution_count": 97,
   "id": "b32fde97",
   "metadata": {},
   "outputs": [
    {
     "name": "stdout",
     "output_type": "stream",
     "text": [
      "(array([3, 5, 6]),)\n"
     ]
    }
   ],
   "source": [
    "#Numpy Searching Array\n",
    "arr= np.array([1,2,3,4,5,4,4])\n",
    "x = np.where(arr == 4)\n",
    "print(x)\n"
   ]
  },
  {
   "cell_type": "code",
   "execution_count": 98,
   "id": "45e7c56a",
   "metadata": {},
   "outputs": [
    {
     "name": "stdout",
     "output_type": "stream",
     "text": [
      "(array([1, 3, 5, 7]),)\n"
     ]
    }
   ],
   "source": [
    "# Find the indexes where the values are even:\n",
    "arr = np.array([1, 2, 3, 4, 5, 6, 7, 8])\n",
    "x = np.where(arr%2 == 0)\n",
    "print(x)"
   ]
  },
  {
   "cell_type": "code",
   "execution_count": 99,
   "id": "c715404e",
   "metadata": {},
   "outputs": [
    {
     "name": "stdout",
     "output_type": "stream",
     "text": [
      "(array([0, 2, 4, 6]),)\n"
     ]
    }
   ],
   "source": [
    "# Find the indexes where the values are odd:\n",
    "arr = np.array([1,2,3,4,5,6,7,8])\n",
    "x= np.where (arr%2 == 1)\n",
    "print(x)\n"
   ]
  },
  {
   "cell_type": "code",
   "execution_count": 100,
   "id": "f1ce409d",
   "metadata": {},
   "outputs": [
    {
     "name": "stdout",
     "output_type": "stream",
     "text": [
      "1\n"
     ]
    }
   ],
   "source": [
    "# Search Sorted\n",
    "arr = np.array([6,7,8,9])\n",
    "x = np.searchsorted(arr, 7)\n",
    "print(x)"
   ]
  },
  {
   "cell_type": "code",
   "execution_count": 101,
   "id": "3a784a8a",
   "metadata": {},
   "outputs": [
    {
     "name": "stdout",
     "output_type": "stream",
     "text": [
      "2\n"
     ]
    }
   ],
   "source": [
    "# searchsorted right side\n",
    "arr = np.array([6,7,8,9])\n",
    "x = np.searchsorted(arr, 7, side='right')\n",
    "print(x)"
   ]
  },
  {
   "cell_type": "code",
   "execution_count": null,
   "id": "1772e39f",
   "metadata": {},
   "outputs": [
    {
     "name": "stdout",
     "output_type": "stream",
     "text": [
      "[1 2 3]\n"
     ]
    }
   ],
   "source": []
  },
  {
   "cell_type": "code",
   "execution_count": null,
   "id": "ff68b21e",
   "metadata": {},
   "outputs": [
    {
     "name": "stdout",
     "output_type": "stream",
     "text": [
      "[0 1 2 3]\n"
     ]
    }
   ],
   "source": [
    "# SORTING THE NUMPY ARRAY USING sort()\n",
    "arr = np.array([3,2,0,1])\n",
    "print(np.sort(arr))"
   ]
  },
  {
   "cell_type": "code",
   "execution_count": 104,
   "id": "0766330a",
   "metadata": {},
   "outputs": [
    {
     "name": "stdout",
     "output_type": "stream",
     "text": [
      "[False  True  True]\n"
     ]
    }
   ],
   "source": [
    "# sort boolean array\n",
    "arr = np.array([True, False, True])\n",
    "print(np.sort(arr))"
   ]
  },
  {
   "cell_type": "code",
   "execution_count": 105,
   "id": "450da8eb",
   "metadata": {},
   "outputs": [
    {
     "name": "stdout",
     "output_type": "stream",
     "text": [
      "[[2 3 4]\n",
      " [0 1 5]]\n"
     ]
    }
   ],
   "source": [
    "# Sorting 2d Array\n",
    "arr = np.array([[3,2,4],[5,0,1]])\n",
    "print(np.sort(arr))"
   ]
  },
  {
   "cell_type": "code",
   "execution_count": 106,
   "id": "b44787ed",
   "metadata": {},
   "outputs": [
    {
     "name": "stdout",
     "output_type": "stream",
     "text": [
      "[1 3]\n"
     ]
    }
   ],
   "source": [
    "# FILTER NUMPY ARRAY\n",
    "a = np.array([1,2,3,4,5])\n",
    "x= [True, False, True, False, False]\n",
    "newarr = a[x]\n",
    "print(newarr)"
   ]
  },
  {
   "cell_type": "code",
   "execution_count": 108,
   "id": "2e7e7c10",
   "metadata": {},
   "outputs": [
    {
     "name": "stdout",
     "output_type": "stream",
     "text": [
      "[False, True, True, True, True, False, False, True, True, False, False, False, False, False]\n",
      "[42 52 74 56 36 31]\n"
     ]
    }
   ],
   "source": [
    "# Create a filter array that will return only values higher than 14:\n",
    "arr = np.array([1,42,52,74,56,2,12,36,31,11,10,5,6,4,])\n",
    "filter_arr =[]\n",
    "for element in arr:\n",
    "    if element > 14:\n",
    "        filter_arr.append(True)\n",
    "    else:\n",
    "        filter_arr.append(False)\n",
    "        \n",
    "new = arr[filter_arr]\n",
    "print(filter_arr)\n",
    "print(new)\n"
   ]
  },
  {
   "cell_type": "code",
   "execution_count": 109,
   "id": "8b5b5ea6",
   "metadata": {},
   "outputs": [
    {
     "name": "stdout",
     "output_type": "stream",
     "text": [
      "[False, True, False, True, False, True, False]\n",
      "[2 4 6]\n"
     ]
    }
   ],
   "source": [
    "# Create a filter array that will return only even elements from the original array:\n",
    "\n",
    "arr = np.array([1, 2, 3, 4, 5, 6, 7])\n",
    "filter_arr = []\n",
    "for element in arr:\n",
    "    if element % 2 == 0:\n",
    "        filter_arr.append(True)\n",
    "    else:\n",
    "        filter_arr.append(False)\n",
    "\n",
    "newarr = arr[filter_arr]\n",
    "\n",
    "print(filter_arr)\n",
    "print(newarr)"
   ]
  },
  {
   "cell_type": "code",
   "execution_count": 110,
   "id": "c57035bc",
   "metadata": {},
   "outputs": [
    {
     "name": "stdout",
     "output_type": "stream",
     "text": [
      "[False False  True  True]\n",
      "[43 44]\n"
     ]
    }
   ],
   "source": [
    "# Creating Filter Directly From Array\n",
    "arr = np.array([41, 42, 43, 44])\n",
    "\n",
    "filter_arr = arr > 42\n",
    "\n",
    "newarr = arr[filter_arr]\n",
    "\n",
    "print(filter_arr)\n",
    "print(newarr)"
   ]
  },
  {
   "cell_type": "code",
   "execution_count": null,
   "id": "7e41b39a",
   "metadata": {},
   "outputs": [],
   "source": []
  }
 ],
 "metadata": {
  "kernelspec": {
   "display_name": "Python (myproject_kernel)",
   "language": "python",
   "name": "myproject_kernel"
  },
  "language_info": {
   "codemirror_mode": {
    "name": "ipython",
    "version": 3
   },
   "file_extension": ".py",
   "mimetype": "text/x-python",
   "name": "python",
   "nbconvert_exporter": "python",
   "pygments_lexer": "ipython3",
   "version": "3.13.1"
  }
 },
 "nbformat": 4,
 "nbformat_minor": 5
}

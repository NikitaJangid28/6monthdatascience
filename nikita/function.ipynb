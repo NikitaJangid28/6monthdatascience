{
 "cells": [
  {
   "cell_type": "markdown",
   "metadata": {},
   "source": [
    "### Function."
   ]
  },
  {
   "cell_type": "code",
   "execution_count": 4,
   "metadata": {},
   "outputs": [
    {
     "name": "stdout",
     "output_type": "stream",
     "text": [
      "upflairs\n",
      "upflairs\n",
      "upflairs\n",
      "upflairs\n",
      "upflairs\n",
      "upflairs\n",
      "upflairs\n",
      "upflairs\n",
      "upflairs\n",
      "upflairs\n"
     ]
    }
   ],
   "source": [
    "for i in range(10):\n",
    "    print(\"upflairs\") \n",
    "    "
   ]
  },
  {
   "cell_type": "code",
   "execution_count": 7,
   "metadata": {},
   "outputs": [
    {
     "name": "stdout",
     "output_type": "stream",
     "text": [
      "upflairs\n",
      "upflairs\n",
      "upflairs\n",
      "upflairs\n",
      "upflairs\n",
      "upflairs\n",
      "upflairs\n",
      "upflairs\n"
     ]
    }
   ],
   "source": [
    "\n",
    "print(\"upflairs\") \n",
    "print(\"upflairs\") \n",
    "print(\"upflairs\") \n",
    "print(\"upflairs\") \n",
    "print(\"upflairs\") \n",
    "print(\"upflairs\") \n",
    "print(\"upflairs\") \n",
    "print(\"upflairs\") \n"
   ]
  },
  {
   "cell_type": "code",
   "execution_count": 8,
   "metadata": {},
   "outputs": [],
   "source": [
    "def hii_nikita():\n",
    "    for i in range(10):\n",
    "        print(\"welcome nikki at upflairs\")\n",
    "    "
   ]
  },
  {
   "cell_type": "code",
   "execution_count": 9,
   "metadata": {},
   "outputs": [
    {
     "name": "stdout",
     "output_type": "stream",
     "text": [
      "welcome nikki at upflairs\n",
      "welcome nikki at upflairs\n",
      "welcome nikki at upflairs\n",
      "welcome nikki at upflairs\n",
      "welcome nikki at upflairs\n",
      "welcome nikki at upflairs\n",
      "welcome nikki at upflairs\n",
      "welcome nikki at upflairs\n",
      "welcome nikki at upflairs\n",
      "welcome nikki at upflairs\n"
     ]
    }
   ],
   "source": [
    "## calling \n",
    "hii_nikita()"
   ]
  },
  {
   "cell_type": "code",
   "execution_count": 2,
   "metadata": {},
   "outputs": [
    {
     "name": "stdout",
     "output_type": "stream",
     "text": [
      "welcome nikki at upflairs\n",
      "welcome nikki at upflairs\n",
      "welcome nikki at upflairs\n",
      "welcome nikki at upflairs\n",
      "welcome nikki at upflairs\n",
      "welcome nikki at upflairs\n",
      "welcome nikki at upflairs\n",
      "welcome nikki at upflairs\n",
      "welcome nikki at upflairs\n",
      "welcome nikki at upflairs\n"
     ]
    }
   ],
   "source": [
    "for i in range(10):\n",
    "    print(\"welcome nikki at upflairs\")"
   ]
  },
  {
   "cell_type": "code",
   "execution_count": 3,
   "metadata": {},
   "outputs": [
    {
     "name": "stdout",
     "output_type": "stream",
     "text": [
      "welcome nikki at upflairs\n",
      "welcome nikki at upflairs\n",
      "welcome nikki at upflairs\n",
      "welcome nikki at upflairs\n",
      "welcome nikki at upflairs\n",
      "welcome nikki at upflairs\n",
      "welcome nikki at upflairs\n",
      "welcome nikki at upflairs\n",
      "welcome nikki at upflairs\n",
      "welcome nikki at upflairs\n"
     ]
    }
   ],
   "source": [
    "for i in range(10):\n",
    "    print(\"welcome nikki at upflairs\")"
   ]
  },
  {
   "cell_type": "code",
   "execution_count": 11,
   "metadata": {},
   "outputs": [],
   "source": [
    "## two add  \n",
    "def add_two_num():\n",
    "    n1 = int(input(\"enter first number : \"))\n",
    "    n2 = int(input('enter second number'))\n",
    "    output = n1 + n2 \n",
    "    print(output) "
   ]
  },
  {
   "cell_type": "code",
   "execution_count": 12,
   "metadata": {},
   "outputs": [
    {
     "name": "stdout",
     "output_type": "stream",
     "text": [
      "50\n"
     ]
    }
   ],
   "source": [
    "add_two_num()\n"
   ]
  },
  {
   "cell_type": "code",
   "execution_count": 13,
   "metadata": {},
   "outputs": [],
   "source": [
    "def square():\n",
    "    num = int(input(\"enter value :\"))\n",
    "    output = num ** 2\n",
    "    print(output)"
   ]
  },
  {
   "cell_type": "code",
   "execution_count": 14,
   "metadata": {},
   "outputs": [
    {
     "name": "stdout",
     "output_type": "stream",
     "text": [
      "25\n"
     ]
    }
   ],
   "source": [
    "square()"
   ]
  },
  {
   "cell_type": "code",
   "execution_count": 12,
   "metadata": {},
   "outputs": [
    {
     "data": {
      "text/plain": [
       "25"
      ]
     },
     "execution_count": 12,
     "metadata": {},
     "output_type": "execute_result"
    }
   ],
   "source": [
    "num = 5\n",
    "num ** 2 \n"
   ]
  },
  {
   "cell_type": "code",
   "execution_count": 10,
   "metadata": {},
   "outputs": [
    {
     "name": "stdout",
     "output_type": "stream",
     "text": [
      "55\n"
     ]
    }
   ],
   "source": [
    "n1 = int(input(\"enter first number : \"))\n",
    "n2 = int(input('enter second number'))\n",
    "output = n1 + n2 \n",
    "print(output) "
   ]
  },
  {
   "cell_type": "code",
   "execution_count": null,
   "metadata": {},
   "outputs": [
    {
     "name": "stdout",
     "output_type": "stream",
     "text": [
      "70\n"
     ]
    }
   ],
   "source": [
    "add_two_num() "
   ]
  },
  {
   "cell_type": "code",
   "execution_count": 13,
   "metadata": {},
   "outputs": [
    {
     "name": "stdout",
     "output_type": "stream",
     "text": [
      "33\n"
     ]
    }
   ],
   "source": [
    "add_two_num()\n"
   ]
  },
  {
   "cell_type": "code",
   "execution_count": 15,
   "metadata": {},
   "outputs": [
    {
     "name": "stdout",
     "output_type": "stream",
     "text": [
      "All even no. :  [36, 22, 12]\n",
      "All odd no. :  [51, 85, 69, 75, 65, 25, 63]\n"
     ]
    }
   ],
   "source": [
    "ls = [51,36,85,69,75,65,25,63,22,12]\n",
    "even_no = []\n",
    "odd_no = []\n",
    "for item in ls:\n",
    "    if item % 2 == 0:\n",
    "        even_no.append(item)\n",
    "    else:\n",
    "        odd_no.append(item) \n",
    "\n",
    "print(\"All even no. : \",even_no)\n",
    "print(\"All odd no. : \",odd_no)"
   ]
  },
  {
   "cell_type": "code",
   "execution_count": 16,
   "metadata": {},
   "outputs": [],
   "source": [
    "def even_oddfinder():\n",
    "    ls = [51,36,85,69,75,65,25,63,22,12]\n",
    "    even_no = []\n",
    "    odd_no = []\n",
    "    for item in ls:\n",
    "        if item % 2 == 0:\n",
    "            even_no.append(item)\n",
    "        else:\n",
    "            odd_no.append(item) \n",
    "\n",
    "    print(\"All even no. : \",even_no)\n",
    "    print(\"All odd no. : \",odd_no)"
   ]
  },
  {
   "cell_type": "code",
   "execution_count": 19,
   "metadata": {},
   "outputs": [
    {
     "name": "stdout",
     "output_type": "stream",
     "text": [
      "All even no. :  [36, 22, 12]\n",
      "All odd no. :  [51, 85, 69, 75, 65, 25, 63]\n"
     ]
    }
   ],
   "source": [
    "even_oddfinder()\n"
   ]
  },
  {
   "cell_type": "code",
   "execution_count": 21,
   "metadata": {},
   "outputs": [],
   "source": [
    "def even_oddfinder(ls):  # parameter \n",
    "    even_no = []\n",
    "    odd_no = []\n",
    "    for item in ls:\n",
    "        if item % 2 == 0:\n",
    "            even_no.append(item)\n",
    "        else:\n",
    "            odd_no.append(item) \n",
    "\n",
    "    print(\"All even no. : \",even_no)\n",
    "    print(\"All odd no. : \",odd_no)"
   ]
  },
  {
   "cell_type": "code",
   "execution_count": 25,
   "metadata": {},
   "outputs": [
    {
     "name": "stdout",
     "output_type": "stream",
     "text": [
      "All even no. :  [36, 22, 12]\n",
      "All odd no. :  [51, 85, 69, 75, 65, 25, 63]\n"
     ]
    }
   ],
   "source": [
    "numbers = [51,36,85,69,75,65,25,63,22,12]\n",
    "\n",
    "even_oddfinder([51,36,85,69,75,65,25,63,22,12])"
   ]
  },
  {
   "cell_type": "code",
   "execution_count": 47,
   "metadata": {},
   "outputs": [
    {
     "name": "stdout",
     "output_type": "stream",
     "text": [
      "All even no. :  [36, 22, 12]\n",
      "All odd no. :  [51, 85, 69, 75, 65, 25, 63]\n"
     ]
    }
   ],
   "source": [
    "even_oddfinder(numbers) "
   ]
  },
  {
   "cell_type": "code",
   "execution_count": 48,
   "metadata": {},
   "outputs": [
    {
     "name": "stdout",
     "output_type": "stream",
     "text": [
      "All even no. :  [36, 22, 12]\n",
      "All odd no. :  [51, 85, 69, 75, 65, 25, 63]\n"
     ]
    }
   ],
   "source": [
    "even_oddfinder([51,36,85,69,75,65,25,63,22,12]) \n"
   ]
  },
  {
   "cell_type": "code",
   "execution_count": 26,
   "metadata": {},
   "outputs": [],
   "source": [
    "def add_two_num(num1,num2):  # parameters\n",
    "\n",
    "    output = num1 + num2 \n",
    "    print(output)"
   ]
  },
  {
   "cell_type": "code",
   "execution_count": 28,
   "metadata": {},
   "outputs": [
    {
     "name": "stdout",
     "output_type": "stream",
     "text": [
      "150\n"
     ]
    }
   ],
   "source": [
    "add_two_num(num1=50,num2=100)  # arguments"
   ]
  },
  {
   "cell_type": "code",
   "execution_count": null,
   "metadata": {},
   "outputs": [
    {
     "name": "stdout",
     "output_type": "stream",
     "text": [
      "150\n"
     ]
    }
   ],
   "source": [
    "add_two_num(50,100)"
   ]
  },
  {
   "cell_type": "code",
   "execution_count": 64,
   "metadata": {},
   "outputs": [],
   "source": [
    "def even_oddfinder(ls):\n",
    "    even_no  = []\n",
    "    odd_no = []\n",
    "    for item in ls:\n",
    "        if  item % 2 == 0:\n",
    "            even_no.append(item)\n",
    "        else: \n",
    "            odd_no.append(item)\n",
    "    print(len(even_no))\n",
    "    print(len(odd_no))\n",
    "\n",
    "        \n"
   ]
  },
  {
   "cell_type": "code",
   "execution_count": 65,
   "metadata": {},
   "outputs": [
    {
     "name": "stdout",
     "output_type": "stream",
     "text": [
      "6\n",
      "5\n"
     ]
    }
   ],
   "source": [
    "even_oddfinder(ls=[20,45,75,96,12,78,46,73,99,44,55])"
   ]
  },
  {
   "cell_type": "code",
   "execution_count": null,
   "metadata": {},
   "outputs": [],
   "source": [
    "ls=[20,45,75,96,12,78,46,73,99,44,55,32,14,52,54,57,254,32,63] \n",
    "\n",
    "numbers ==> <= 50 \n",
    "Total. no. of ==> 5"
   ]
  },
  {
   "cell_type": "code",
   "execution_count": 51,
   "metadata": {},
   "outputs": [],
   "source": [
    "def add_two_num(num1,num2):  # parameters\n",
    "    print(\"start execution\")\n",
    "    return\n",
    "    print('not executing')\n",
    "    output = num1 + num2 \n",
    "    return f\"your addition is {output}\",\"nikita\",\"upflairs\"\n",
    "    return \"a\"\n",
    "    return 'b'\n",
    "    return 'c'\n",
    "    "
   ]
  },
  {
   "cell_type": "code",
   "execution_count": 52,
   "metadata": {},
   "outputs": [
    {
     "name": "stdout",
     "output_type": "stream",
     "text": [
      "start execution\n",
      "None\n"
     ]
    }
   ],
   "source": [
    "ans = add_two_num(25,25)\n",
    "print(ans) "
   ]
  },
  {
   "cell_type": "code",
   "execution_count": 46,
   "metadata": {},
   "outputs": [
    {
     "data": {
      "text/plain": [
       "('a', 'b', 'c')"
      ]
     },
     "execution_count": 46,
     "metadata": {},
     "output_type": "execute_result"
    }
   ],
   "source": [
    "\"a\",\"b\",\"c\""
   ]
  },
  {
   "cell_type": "code",
   "execution_count": 45,
   "metadata": {},
   "outputs": [
    {
     "name": "stdout",
     "output_type": "stream",
     "text": [
      "(10, 20, 30)\n",
      "<class 'tuple'>\n"
     ]
    }
   ],
   "source": [
    "tpl = 10,20,30\n",
    "print(tpl)\n",
    "print(type(tpl))"
   ]
  }
 ],
 "metadata": {
  "kernelspec": {
   "display_name": "Python 3",
   "language": "python",
   "name": "python3"
  },
  "language_info": {
   "codemirror_mode": {
    "name": "ipython",
    "version": 3
   },
   "file_extension": ".py",
   "mimetype": "text/x-python",
   "name": "python",
   "nbconvert_exporter": "python",
   "pygments_lexer": "ipython3",
   "version": "3.12.4"
  }
 },
 "nbformat": 4,
 "nbformat_minor": 2
}

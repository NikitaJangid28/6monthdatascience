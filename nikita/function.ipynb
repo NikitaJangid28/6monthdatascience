{
 "cells": [
  {
   "cell_type": "markdown",
   "metadata": {},
   "source": [
    "### Function."
   ]
  },
  {
   "cell_type": "code",
   "execution_count": 4,
   "metadata": {},
   "outputs": [
    {
     "name": "stdout",
     "output_type": "stream",
     "text": [
      "upflairs\n",
      "upflairs\n",
      "upflairs\n",
      "upflairs\n",
      "upflairs\n",
      "upflairs\n",
      "upflairs\n",
      "upflairs\n",
      "upflairs\n",
      "upflairs\n"
     ]
    }
   ],
   "source": [
    "for i in range(10):\n",
    "    print(\"upflairs\") \n",
    "    "
   ]
  },
  {
   "cell_type": "code",
   "execution_count": 7,
   "metadata": {},
   "outputs": [
    {
     "name": "stdout",
     "output_type": "stream",
     "text": [
      "upflairs\n",
      "upflairs\n",
      "upflairs\n",
      "upflairs\n",
      "upflairs\n",
      "upflairs\n",
      "upflairs\n",
      "upflairs\n"
     ]
    }
   ],
   "source": [
    "\n",
    "print(\"upflairs\") \n",
    "print(\"upflairs\") \n",
    "print(\"upflairs\") \n",
    "print(\"upflairs\") \n",
    "print(\"upflairs\") \n",
    "print(\"upflairs\") \n",
    "print(\"upflairs\") \n",
    "print(\"upflairs\") \n"
   ]
  },
  {
   "cell_type": "code",
   "execution_count": 8,
   "metadata": {},
   "outputs": [],
   "source": [
    "def hii_nikita():\n",
    "    for i in range(10):\n",
    "        print(\"welcome nikki at upflairs\")\n",
    "    "
   ]
  },
  {
   "cell_type": "code",
   "execution_count": 9,
   "metadata": {},
   "outputs": [
    {
     "name": "stdout",
     "output_type": "stream",
     "text": [
      "welcome nikki at upflairs\n",
      "welcome nikki at upflairs\n",
      "welcome nikki at upflairs\n",
      "welcome nikki at upflairs\n",
      "welcome nikki at upflairs\n",
      "welcome nikki at upflairs\n",
      "welcome nikki at upflairs\n",
      "welcome nikki at upflairs\n",
      "welcome nikki at upflairs\n",
      "welcome nikki at upflairs\n"
     ]
    }
   ],
   "source": [
    "## calling \n",
    "hii_nikita()"
   ]
  },
  {
   "cell_type": "code",
   "execution_count": 2,
   "metadata": {},
   "outputs": [
    {
     "name": "stdout",
     "output_type": "stream",
     "text": [
      "welcome nikki at upflairs\n",
      "welcome nikki at upflairs\n",
      "welcome nikki at upflairs\n",
      "welcome nikki at upflairs\n",
      "welcome nikki at upflairs\n",
      "welcome nikki at upflairs\n",
      "welcome nikki at upflairs\n",
      "welcome nikki at upflairs\n",
      "welcome nikki at upflairs\n",
      "welcome nikki at upflairs\n"
     ]
    }
   ],
   "source": [
    "for i in range(10):\n",
    "    print(\"welcome nikki at upflairs\")"
   ]
  },
  {
   "cell_type": "code",
   "execution_count": 3,
   "metadata": {},
   "outputs": [
    {
     "name": "stdout",
     "output_type": "stream",
     "text": [
      "welcome nikki at upflairs\n",
      "welcome nikki at upflairs\n",
      "welcome nikki at upflairs\n",
      "welcome nikki at upflairs\n",
      "welcome nikki at upflairs\n",
      "welcome nikki at upflairs\n",
      "welcome nikki at upflairs\n",
      "welcome nikki at upflairs\n",
      "welcome nikki at upflairs\n",
      "welcome nikki at upflairs\n"
     ]
    }
   ],
   "source": [
    "for i in range(10):\n",
    "    print(\"welcome nikki at upflairs\")"
   ]
  },
  {
   "cell_type": "code",
   "execution_count": 11,
   "metadata": {},
   "outputs": [],
   "source": [
    "## two add  \n",
    "def add_two_num():\n",
    "    n1 = int(input(\"enter first number : \"))\n",
    "    n2 = int(input('enter second number'))\n",
    "    output = n1 + n2 \n",
    "    print(output) "
   ]
  },
  {
   "cell_type": "code",
   "execution_count": 12,
   "metadata": {},
   "outputs": [
    {
     "name": "stdout",
     "output_type": "stream",
     "text": [
      "50\n"
     ]
    }
   ],
   "source": [
    "add_two_num()\n"
   ]
  },
  {
   "cell_type": "code",
   "execution_count": 13,
   "metadata": {},
   "outputs": [],
   "source": [
    "def square():\n",
    "    num = int(input(\"enter value :\"))\n",
    "    output = num ** 2\n",
    "    print(output)"
   ]
  },
  {
   "cell_type": "code",
   "execution_count": 14,
   "metadata": {},
   "outputs": [
    {
     "name": "stdout",
     "output_type": "stream",
     "text": [
      "25\n"
     ]
    }
   ],
   "source": [
    "square()"
   ]
  },
  {
   "cell_type": "code",
   "execution_count": 12,
   "metadata": {},
   "outputs": [
    {
     "data": {
      "text/plain": [
       "25"
      ]
     },
     "execution_count": 12,
     "metadata": {},
     "output_type": "execute_result"
    }
   ],
   "source": [
    "num = 5\n",
    "num ** 2 \n"
   ]
  },
  {
   "cell_type": "code",
   "execution_count": 10,
   "metadata": {},
   "outputs": [
    {
     "name": "stdout",
     "output_type": "stream",
     "text": [
      "55\n"
     ]
    }
   ],
   "source": [
    "n1 = int(input(\"enter first number : \"))\n",
    "n2 = int(input('enter second number'))\n",
    "output = n1 + n2 \n",
    "print(output) "
   ]
  },
  {
   "cell_type": "code",
   "execution_count": null,
   "metadata": {},
   "outputs": [
    {
     "name": "stdout",
     "output_type": "stream",
     "text": [
      "70\n"
     ]
    }
   ],
   "source": [
    "add_two_num() "
   ]
  },
  {
   "cell_type": "code",
   "execution_count": 13,
   "metadata": {},
   "outputs": [
    {
     "name": "stdout",
     "output_type": "stream",
     "text": [
      "33\n"
     ]
    }
   ],
   "source": [
    "add_two_num()\n"
   ]
  },
  {
   "cell_type": "code",
   "execution_count": 15,
   "metadata": {},
   "outputs": [
    {
     "name": "stdout",
     "output_type": "stream",
     "text": [
      "All even no. :  [36, 22, 12]\n",
      "All odd no. :  [51, 85, 69, 75, 65, 25, 63]\n"
     ]
    }
   ],
   "source": [
    "ls = [51,36,85,69,75,65,25,63,22,12]\n",
    "even_no = []\n",
    "odd_no = []\n",
    "for item in ls:\n",
    "    if item % 2 == 0:\n",
    "        even_no.append(item)\n",
    "    else:\n",
    "        odd_no.append(item) \n",
    "\n",
    "print(\"All even no. : \",even_no)\n",
    "print(\"All odd no. : \",odd_no)"
   ]
  },
  {
   "cell_type": "code",
   "execution_count": 16,
   "metadata": {},
   "outputs": [],
   "source": [
    "def even_oddfinder():\n",
    "    ls = [51,36,85,69,75,65,25,63,22,12]\n",
    "    even_no = []\n",
    "    odd_no = []\n",
    "    for item in ls:\n",
    "        if item % 2 == 0:\n",
    "            even_no.append(item)\n",
    "        else:\n",
    "            odd_no.append(item) \n",
    "\n",
    "    print(\"All even no. : \",even_no)\n",
    "    print(\"All odd no. : \",odd_no)"
   ]
  },
  {
   "cell_type": "code",
   "execution_count": 19,
   "metadata": {},
   "outputs": [
    {
     "name": "stdout",
     "output_type": "stream",
     "text": [
      "All even no. :  [36, 22, 12]\n",
      "All odd no. :  [51, 85, 69, 75, 65, 25, 63]\n"
     ]
    }
   ],
   "source": [
    "even_oddfinder()\n"
   ]
  },
  {
   "cell_type": "code",
   "execution_count": 21,
   "metadata": {},
   "outputs": [],
   "source": [
    "def even_oddfinder(ls):  # parameter \n",
    "    even_no = []\n",
    "    odd_no = []\n",
    "    for item in ls:\n",
    "        if item % 2 == 0:\n",
    "            even_no.append(item)\n",
    "        else:\n",
    "            odd_no.append(item) \n",
    "\n",
    "    print(\"All even no. : \",even_no)\n",
    "    print(\"All odd no. : \",odd_no)"
   ]
  },
  {
   "cell_type": "code",
   "execution_count": 25,
   "metadata": {},
   "outputs": [
    {
     "name": "stdout",
     "output_type": "stream",
     "text": [
      "All even no. :  [36, 22, 12]\n",
      "All odd no. :  [51, 85, 69, 75, 65, 25, 63]\n"
     ]
    }
   ],
   "source": [
    "numbers = [51,36,85,69,75,65,25,63,22,12]\n",
    "\n",
    "even_oddfinder([51,36,85,69,75,65,25,63,22,12])"
   ]
  },
  {
   "cell_type": "code",
   "execution_count": 47,
   "metadata": {},
   "outputs": [
    {
     "name": "stdout",
     "output_type": "stream",
     "text": [
      "All even no. :  [36, 22, 12]\n",
      "All odd no. :  [51, 85, 69, 75, 65, 25, 63]\n"
     ]
    }
   ],
   "source": [
    "even_oddfinder(numbers) "
   ]
  },
  {
   "cell_type": "code",
   "execution_count": 48,
   "metadata": {},
   "outputs": [
    {
     "name": "stdout",
     "output_type": "stream",
     "text": [
      "All even no. :  [36, 22, 12]\n",
      "All odd no. :  [51, 85, 69, 75, 65, 25, 63]\n"
     ]
    }
   ],
   "source": [
    "even_oddfinder([51,36,85,69,75,65,25,63,22,12]) \n"
   ]
  },
  {
   "cell_type": "code",
   "execution_count": 26,
   "metadata": {},
   "outputs": [],
   "source": [
    "def add_two_num(num1,num2):  # parameters\n",
    "\n",
    "    output = num1 + num2 \n",
    "    print(output)"
   ]
  },
  {
   "cell_type": "code",
   "execution_count": 28,
   "metadata": {},
   "outputs": [
    {
     "name": "stdout",
     "output_type": "stream",
     "text": [
      "150\n"
     ]
    }
   ],
   "source": [
    "add_two_num(num1=50,num2=100)  # arguments"
   ]
  },
  {
   "cell_type": "code",
   "execution_count": null,
   "metadata": {},
   "outputs": [
    {
     "name": "stdout",
     "output_type": "stream",
     "text": [
      "150\n"
     ]
    }
   ],
   "source": [
    "add_two_num(50,100)"
   ]
  },
  {
   "cell_type": "code",
   "execution_count": 64,
   "metadata": {},
   "outputs": [],
   "source": [
    "def even_oddfinder(ls):\n",
    "    even_no  = []\n",
    "    odd_no = []\n",
    "    for item in ls:\n",
    "        if  item % 2 == 0:\n",
    "            even_no.append(item)\n",
    "        else: \n",
    "            odd_no.append(item)\n",
    "    print(len(even_no))\n",
    "    print(len(odd_no))\n",
    "\n",
    "        \n"
   ]
  },
  {
   "cell_type": "code",
   "execution_count": 65,
   "metadata": {},
   "outputs": [
    {
     "name": "stdout",
     "output_type": "stream",
     "text": [
      "6\n",
      "5\n"
     ]
    }
   ],
   "source": [
    "even_oddfinder(ls=[20,45,75,96,12,78,46,73,99,44,55])"
   ]
  },
  {
   "cell_type": "code",
   "execution_count": null,
   "metadata": {},
   "outputs": [],
   "source": [
    "ls=[20,45,75,96,12,78,46,73,99,44,55,32,14,52,54,57,254,32,63] \n",
    "\n",
    "numbers ==> <= 50 \n",
    "Total. no. of ==> 5"
   ]
  },
  {
   "cell_type": "code",
   "execution_count": 8,
   "metadata": {},
   "outputs": [],
   "source": [
    "def add_two_num(num1,num2):  # parameters\n",
    "    print(\"start execution\")\n",
    "    return\n",
    "    print('not executing')\n",
    "    output = num1 + num2 \n",
    "    return f\"your addition is {output}\",\"nikita\",\"upflairs\"\n",
    "    return \"a\"\n",
    "    return 'b'\n",
    "    return 'c'\n",
    "    "
   ]
  },
  {
   "cell_type": "code",
   "execution_count": 9,
   "metadata": {},
   "outputs": [
    {
     "name": "stdout",
     "output_type": "stream",
     "text": [
      "start execution\n",
      "None\n"
     ]
    }
   ],
   "source": [
    "ans = add_two_num(25,25)\n",
    "print(ans) "
   ]
  },
  {
   "cell_type": "code",
   "execution_count": 46,
   "metadata": {},
   "outputs": [
    {
     "data": {
      "text/plain": [
       "('a', 'b', 'c')"
      ]
     },
     "execution_count": 46,
     "metadata": {},
     "output_type": "execute_result"
    }
   ],
   "source": [
    "\"a\",\"b\",\"c\""
   ]
  },
  {
   "cell_type": "code",
   "execution_count": 45,
   "metadata": {},
   "outputs": [
    {
     "name": "stdout",
     "output_type": "stream",
     "text": [
      "(10, 20, 30)\n",
      "<class 'tuple'>\n"
     ]
    }
   ],
   "source": [
    "tpl = 10,20,30\n",
    "print(tpl)\n",
    "print(type(tpl))"
   ]
  },
  {
   "cell_type": "code",
   "execution_count": null,
   "metadata": {},
   "outputs": [],
   "source": [
    "# variable scope \n",
    "# local variable and global variable "
   ]
  },
  {
   "cell_type": "code",
   "execution_count": 53,
   "metadata": {},
   "outputs": [
    {
     "name": "stdout",
     "output_type": "stream",
     "text": [
      "25\n"
     ]
    }
   ],
   "source": [
    "age = 25 \n",
    "\n",
    "def test():\n",
    "    print(age) \n",
    "test()"
   ]
  },
  {
   "cell_type": "code",
   "execution_count": null,
   "metadata": {},
   "outputs": [
    {
     "ename": "UnboundLocalError",
     "evalue": "cannot access local variable 'age' where it is not associated with a value",
     "output_type": "error",
     "traceback": [
      "\u001b[1;31m---------------------------------------------------------------------------\u001b[0m",
      "\u001b[1;31mUnboundLocalError\u001b[0m                         Traceback (most recent call last)",
      "Cell \u001b[1;32mIn[54], line 6\u001b[0m\n\u001b[0;32m      4\u001b[0m     age \u001b[38;5;241m=\u001b[39m age \u001b[38;5;241m+\u001b[39m \u001b[38;5;241m5\u001b[39m \n\u001b[0;32m      5\u001b[0m     \u001b[38;5;28mprint\u001b[39m(age) \n\u001b[1;32m----> 6\u001b[0m \u001b[43mtest\u001b[49m\u001b[43m(\u001b[49m\u001b[43m)\u001b[49m\n",
      "Cell \u001b[1;32mIn[54], line 4\u001b[0m, in \u001b[0;36mtest\u001b[1;34m()\u001b[0m\n\u001b[0;32m      3\u001b[0m \u001b[38;5;28;01mdef\u001b[39;00m \u001b[38;5;21mtest\u001b[39m():\n\u001b[1;32m----> 4\u001b[0m     age \u001b[38;5;241m=\u001b[39m \u001b[43mage\u001b[49m \u001b[38;5;241m+\u001b[39m \u001b[38;5;241m5\u001b[39m \n\u001b[0;32m      5\u001b[0m     \u001b[38;5;28mprint\u001b[39m(age)\n",
      "\u001b[1;31mUnboundLocalError\u001b[0m: cannot access local variable 'age' where it is not associated with a value"
     ]
    }
   ],
   "source": [
    "age = 25   # global scope \n",
    "\n",
    "def test():\n",
    "    age = age + 5   # local scope \n",
    "    print(age) \n",
    "test()"
   ]
  },
  {
   "cell_type": "code",
   "execution_count": 57,
   "metadata": {},
   "outputs": [
    {
     "name": "stdout",
     "output_type": "stream",
     "text": [
      "25\n"
     ]
    },
    {
     "ename": "NameError",
     "evalue": "name 'x' is not defined",
     "output_type": "error",
     "traceback": [
      "\u001b[1;31m---------------------------------------------------------------------------\u001b[0m",
      "\u001b[1;31mNameError\u001b[0m                                 Traceback (most recent call last)",
      "Cell \u001b[1;32mIn[57], line 6\u001b[0m\n\u001b[0;32m      3\u001b[0m     \u001b[38;5;28mprint\u001b[39m(x)\n\u001b[0;32m      5\u001b[0m test() \n\u001b[1;32m----> 6\u001b[0m \u001b[38;5;28mprint\u001b[39m(\u001b[43mx\u001b[49m)\n",
      "\u001b[1;31mNameError\u001b[0m: name 'x' is not defined"
     ]
    }
   ],
   "source": [
    "def test():\n",
    "    x = 25 \n",
    "    print(x)\n",
    "\n",
    "test() \n",
    "print(x)"
   ]
  },
  {
   "cell_type": "code",
   "execution_count": 61,
   "metadata": {},
   "outputs": [
    {
     "name": "stdout",
     "output_type": "stream",
     "text": [
      "30\n",
      "30\n"
     ]
    }
   ],
   "source": [
    "age = 25 \n",
    "def test():\n",
    "    global age \n",
    "    age =age +5\n",
    "    print(age)\n",
    "\n",
    "test() \n",
    "print(age)"
   ]
  },
  {
   "cell_type": "code",
   "execution_count": 15,
   "metadata": {},
   "outputs": [
    {
     "name": "stdout",
     "output_type": "stream",
     "text": [
      "443\n"
     ]
    }
   ],
   "source": [
    "ls = [10,20,30,50,63,74,85,95,14,2] \n",
    "\n",
    "print(sum(ls))"
   ]
  },
  {
   "cell_type": "code",
   "execution_count": null,
   "metadata": {},
   "outputs": [],
   "source": []
  },
  {
   "cell_type": "code",
   "execution_count": null,
   "metadata": {},
   "outputs": [
    {
     "name": "stdout",
     "output_type": "stream",
     "text": [
      "your total sum is :  443\n",
      "None\n"
     ]
    }
   ],
   "source": [
    "ls = [10,20,30,50,63,74,85,95,14,2] \n",
    "\n",
    "def total_sum(ls):\n",
    "    temp = 0\n",
    "    for item in ls:\n",
    "        temp += item \n",
    "    print(\"your total sum is : \",temp)\n",
    "total_sum(ls)"
   ]
  },
  {
   "cell_type": "code",
   "execution_count": null,
   "metadata": {},
   "outputs": [
    {
     "name": "stdout",
     "output_type": "stream",
     "text": [
      "Your addition is :  443\n"
     ]
    }
   ],
   "source": [
    "ls = [10,20,30,50,63,74,85,95,14,2] \n",
    "def total_sum(ls):\n",
    "    temp = 0\n",
    "    for item in ls:\n",
    "        temp += item \n",
    "    return temp \n",
    "output = total_sum(ls)\n",
    "print(\"Your addition is : \",output)"
   ]
  },
  {
   "cell_type": "code",
   "execution_count": null,
   "metadata": {},
   "outputs": [
    {
     "name": "stdout",
     "output_type": "stream",
     "text": [
      "2\n"
     ]
    }
   ],
   "source": [
    "ls = [10,20,30,50,63,74,85,95,14,2] \n",
    "print(min(ls))"
   ]
  },
  {
   "cell_type": "code",
   "execution_count": 7,
   "metadata": {},
   "outputs": [
    {
     "name": "stdout",
     "output_type": "stream",
     "text": [
      "55\n"
     ]
    },
    {
     "ename": "NameError",
     "evalue": "name 'n1' is not defined",
     "output_type": "error",
     "traceback": [
      "\u001b[1;31m---------------------------------------------------------------------------\u001b[0m",
      "\u001b[1;31mNameError\u001b[0m                                 Traceback (most recent call last)",
      "Cell \u001b[1;32mIn[7], line 8\u001b[0m\n\u001b[0;32m      4\u001b[0m     \u001b[38;5;28;01mreturn\u001b[39;00m n1 \u001b[38;5;241m+\u001b[39m n2 \n\u001b[0;32m      7\u001b[0m \u001b[38;5;28mprint\u001b[39m(test())\n\u001b[1;32m----> 8\u001b[0m \u001b[38;5;28mprint\u001b[39m(\u001b[43mn1\u001b[49m)\n",
      "\u001b[1;31mNameError\u001b[0m: name 'n1' is not defined"
     ]
    }
   ],
   "source": [
    "def test():\n",
    "    n1 = 25 \n",
    "    n2 = 30 \n",
    "    return n1 + n2 \n",
    "    print(n1)\n",
    "\n",
    "print(test())\n",
    "print(n1)"
   ]
  },
  {
   "cell_type": "code",
   "execution_count": 4,
   "metadata": {},
   "outputs": [
    {
     "name": "stdout",
     "output_type": "stream",
     "text": [
      "10\n",
      "20\n"
     ]
    }
   ],
   "source": [
    "a = 10 \n",
    "b = 20\n",
    "print(a) \n",
    "print(b )"
   ]
  },
  {
   "cell_type": "code",
   "execution_count": null,
   "metadata": {},
   "outputs": [],
   "source": [
    "return: \n",
    "in a function keyword can be n \n"
   ]
  },
  {
   "cell_type": "code",
   "execution_count": 13,
   "metadata": {},
   "outputs": [
    {
     "ename": "TypeError",
     "evalue": "test() missing 5 required positional arguments: 'i', 'j', 'k', 'l', and 'm'",
     "output_type": "error",
     "traceback": [
      "\u001b[1;31m---------------------------------------------------------------------------\u001b[0m",
      "\u001b[1;31mTypeError\u001b[0m                                 Traceback (most recent call last)",
      "Cell \u001b[1;32mIn[13], line 5\u001b[0m\n\u001b[0;32m      2\u001b[0m \u001b[38;5;28;01mdef\u001b[39;00m \u001b[38;5;21mtest\u001b[39m(a,b,c,d,e,f,g,h,i,j,k,l,m):  \u001b[38;5;66;03m# parameters \u001b[39;00m\n\u001b[0;32m      3\u001b[0m     \u001b[38;5;28;01mreturn\u001b[39;00m a\u001b[38;5;241m+\u001b[39mb\u001b[38;5;241m+\u001b[39mc\u001b[38;5;241m+\u001b[39md\u001b[38;5;241m+\u001b[39me\u001b[38;5;241m+\u001b[39mf\u001b[38;5;241m+\u001b[39mg\n\u001b[1;32m----> 5\u001b[0m \u001b[43mtest\u001b[49m\u001b[43m(\u001b[49m\u001b[38;5;241;43m10\u001b[39;49m\u001b[43m,\u001b[49m\u001b[38;5;241;43m10\u001b[39;49m\u001b[43m,\u001b[49m\u001b[38;5;241;43m10\u001b[39;49m\u001b[43m,\u001b[49m\u001b[38;5;241;43m10\u001b[39;49m\u001b[43m,\u001b[49m\u001b[38;5;241;43m10\u001b[39;49m\u001b[43m,\u001b[49m\u001b[38;5;241;43m10\u001b[39;49m\u001b[43m,\u001b[49m\u001b[38;5;241;43m10\u001b[39;49m\u001b[43m,\u001b[49m\u001b[38;5;241;43m20\u001b[39;49m\u001b[43m)\u001b[49m  \u001b[38;5;66;03m# arguments \u001b[39;00m\n",
      "\u001b[1;31mTypeError\u001b[0m: test() missing 5 required positional arguments: 'i', 'j', 'k', 'l', and 'm'"
     ]
    }
   ],
   "source": [
    "# args , kwargs   \n",
    "def test(a,b,c,d,e,f,g,h,i,j,k,l,m):  # parameters \n",
    "    return a+b+c+d+e+f+g\n",
    "\n",
    "test(10,10,10,10,10,10,10,20)  # arguments "
   ]
  },
  {
   "cell_type": "code",
   "execution_count": 18,
   "metadata": {},
   "outputs": [
    {
     "data": {
      "text/plain": [
       "90"
      ]
     },
     "execution_count": 18,
     "metadata": {},
     "output_type": "execute_result"
    }
   ],
   "source": [
    "# args , kwargs   \n",
    "def test(*arg):  # parameters \n",
    "    return sum(arg)\n",
    "\n",
    "test(10,10,10,10,10,10,10,20)  # arguments "
   ]
  },
  {
   "cell_type": "code",
   "execution_count": 24,
   "metadata": {},
   "outputs": [
    {
     "data": {
      "text/plain": [
       "(10, 10, 10, 10, 10, 10, 10, 20, 52, 63, 85)"
      ]
     },
     "execution_count": 24,
     "metadata": {},
     "output_type": "execute_result"
    }
   ],
   "source": [
    "# args , kwargs   \n",
    "def test(*niki):  # parameters \n",
    "    return niki  \n",
    "test(10,10,10,10,10,10,10,20,52,63,85)  # arguments "
   ]
  },
  {
   "cell_type": "code",
   "execution_count": 26,
   "metadata": {},
   "outputs": [
    {
     "data": {
      "text/plain": [
       "290"
      ]
     },
     "execution_count": 26,
     "metadata": {},
     "output_type": "execute_result"
    }
   ],
   "source": [
    "# args , kwargs   \n",
    "def test(*arg):  # parameters \n",
    "    return sum(arg) \n",
    "tpl = (10,10,10,10,10,10,10,20,52,63,85)\n",
    "test(*tpl)  #arguments unzip "
   ]
  },
  {
   "cell_type": "code",
   "execution_count": 4,
   "metadata": {},
   "outputs": [
    {
     "name": "stdout",
     "output_type": "stream",
     "text": [
      "aniket 25 bikaner 3 IT\n"
     ]
    }
   ],
   "source": [
    "def test(name,age,clas,city,branch='cse'):  #default parameter \n",
    "    print(name,age,city,clas,branch) \n",
    "\n",
    "\n",
    "test(city='bikaner',name=\"aniket\",age=25,clas=3,branch=\"IT\")"
   ]
  },
  {
   "cell_type": "code",
   "execution_count": 5,
   "metadata": {},
   "outputs": [
    {
     "name": "stdout",
     "output_type": "stream",
     "text": [
      "your addition is :  77\n"
     ]
    }
   ],
   "source": [
    "def calculator(num1,num2,operation):\n",
    "    if operation == \"+\":\n",
    "        print(\"your addition is : \",num1+num2) \n",
    "\n",
    "    elif operation == \"-\":\n",
    "        print(\"subtraction is : \",num1 - num2) \n",
    "        \n",
    "    elif operation == \"*\":\n",
    "        print(\"Multiplication is : \",num1 * num2) \n",
    "    elif operation == \"/\":\n",
    "        print(\"Devision is : \",num1 / num2) \n",
    "n1 = \n",
    "operation = \n",
    "n2 = \n",
    "\n",
    "calculator(num1=n1,num2=n2,operation=operation)"
   ]
  },
  {
   "cell_type": "code",
   "execution_count": 8,
   "metadata": {},
   "outputs": [
    {
     "data": {
      "text/plain": [
       "16.666666666666664"
      ]
     },
     "execution_count": 8,
     "metadata": {},
     "output_type": "execute_result"
    }
   ],
   "source": [
    "(100 / 600)*100"
   ]
  },
  {
   "cell_type": "code",
   "execution_count": 16,
   "metadata": {},
   "outputs": [
    {
     "name": "stdout",
     "output_type": "stream",
     "text": [
      "your percentage is 16.67\n"
     ]
    }
   ],
   "source": [
    "def percentage_calculator(obtained_marks,total_marks=600,ratio=100):\n",
    "    percentage = (obtained_marks / total_marks ) * ratio\n",
    "    # print(\"your percentage is : \",round(percentage,2))\n",
    "    print(f\"your percentage is {percentage:.2f}\")\n",
    "\n",
    "obtained = int(input('enter your marks : '))\n",
    "percentage_calculator(obtained_marks=obtained)"
   ]
  },
  {
   "cell_type": "code",
   "execution_count": 13,
   "metadata": {},
   "outputs": [
    {
     "data": {
      "text/plain": [
       "25.2365"
      ]
     },
     "execution_count": 13,
     "metadata": {},
     "output_type": "execute_result"
    }
   ],
   "source": [
    "round(25.236522,4)"
   ]
  },
  {
   "cell_type": "code",
   "execution_count": 20,
   "metadata": {},
   "outputs": [
    {
     "name": "stdout",
     "output_type": "stream",
     "text": [
      "city\n",
      "name\n",
      "age\n",
      "clas\n",
      "branch\n"
     ]
    }
   ],
   "source": [
    "def test(**kwarg):  #kwarg ==> keyword arguments\n",
    "    # print(kwarg) \n",
    "    for key in kwarg:\n",
    "        print(key)\n",
    "test(city='bikaner',name=\"aniket\",age=25,clas=3,branch=\"IT\")"
   ]
  },
  {
   "cell_type": "code",
   "execution_count": 14,
   "metadata": {},
   "outputs": [
    {
     "name": "stdout",
     "output_type": "stream",
     "text": [
      "Hello world from func 1 \n"
     ]
    }
   ],
   "source": [
    "def fun1():\n",
    "    print(\"Hello world from func 1 \") \n",
    "\n",
    "fun1()"
   ]
  },
  {
   "cell_type": "code",
   "execution_count": 4,
   "metadata": {},
   "outputs": [
    {
     "name": "stdout",
     "output_type": "stream",
     "text": [
      "Hello world from func 1 \n",
      "Hello world from func 2 \n"
     ]
    }
   ],
   "source": [
    "def fun2(f1):\n",
    "    f1()\n",
    "    print(\"Hello world from func 2 \") \n",
    "\n",
    "fun2(f1=fun1)"
   ]
  },
  {
   "cell_type": "code",
   "execution_count": 17,
   "metadata": {},
   "outputs": [
    {
     "name": "stdout",
     "output_type": "stream",
     "text": [
      "Hello world from func 1 \n"
     ]
    }
   ],
   "source": [
    "def fun1():\n",
    "    print(\"Hello world from func 1 \") \n",
    "    def func2():\n",
    "        print(\"Hello world from func 2 \")\n",
    "    return func2 \n",
    "\n",
    "fun2 = fun1()"
   ]
  },
  {
   "cell_type": "code",
   "execution_count": 19,
   "metadata": {},
   "outputs": [
    {
     "name": "stdout",
     "output_type": "stream",
     "text": [
      "Hello world from func 1 \n",
      "Hello world from func 2 \n"
     ]
    }
   ],
   "source": [
    "fun1()()"
   ]
  },
  {
   "cell_type": "markdown",
   "metadata": {},
   "source": [
    "### Lambda function "
   ]
  },
  {
   "cell_type": "code",
   "execution_count": 21,
   "metadata": {},
   "outputs": [
    {
     "data": {
      "text/plain": [
       "50"
      ]
     },
     "execution_count": 21,
     "metadata": {},
     "output_type": "execute_result"
    }
   ],
   "source": [
    "# ananymous function \n",
    "fun = lambda x , y : x + y \n",
    "fun(25,25)"
   ]
  },
  {
   "cell_type": "code",
   "execution_count": null,
   "metadata": {},
   "outputs": [],
   "source": [
    "lambda arguments: expression if condition else alternative_expression\n"
   ]
  },
  {
   "cell_type": "code",
   "execution_count": 23,
   "metadata": {},
   "outputs": [
    {
     "data": {
      "text/plain": [
       "'ODD'"
      ]
     },
     "execution_count": 23,
     "metadata": {},
     "output_type": "execute_result"
    }
   ],
   "source": [
    "check_number = lambda x: \"EVEN\" if x%2==0 else \"ODD\" \n",
    "check_number(5)"
   ]
  },
  {
   "cell_type": "code",
   "execution_count": 44,
   "metadata": {},
   "outputs": [],
   "source": [
    "ls1 = [14,25,63,41,85]\n",
    "ls2 = [\"A\",\"B\",\"C\",\"D\",\"E\"]\n",
    "ls3 = [1,2,3,4,5]"
   ]
  },
  {
   "cell_type": "code",
   "execution_count": 45,
   "metadata": {},
   "outputs": [
    {
     "data": {
      "text/plain": [
       "[(1, 'A', 14), (2, 'B', 25), (3, 'C', 63), (4, 'D', 41), (5, 'E', 85)]"
      ]
     },
     "execution_count": 45,
     "metadata": {},
     "output_type": "execute_result"
    }
   ],
   "source": [
    "list(zip(ls3,ls2,ls1)) "
   ]
  },
  {
   "cell_type": "code",
   "execution_count": 48,
   "metadata": {},
   "outputs": [
    {
     "data": {
      "text/plain": [
       "[(14, 52, 96), (25, 63, 45), (63, 85, 89), (41, 74, 78), (85, 4, 58)]"
      ]
     },
     "execution_count": 48,
     "metadata": {},
     "output_type": "execute_result"
    }
   ],
   "source": [
    "ls1 = [14,25,63,41,85]\n",
    "ls2 = [52,63,85,74,4]\n",
    "ls3 = [96,45,89,78,58]\n",
    "zip_result = list(zip(ls1,ls2,ls3))\n",
    "zip_result"
   ]
  },
  {
   "cell_type": "code",
   "execution_count": 50,
   "metadata": {},
   "outputs": [
    {
     "name": "stdout",
     "output_type": "stream",
     "text": [
      "96\n",
      "63\n",
      "89\n",
      "78\n",
      "85\n"
     ]
    }
   ],
   "source": [
    "for item in zip_result:\n",
    "    print(max(item))"
   ]
  },
  {
   "cell_type": "code",
   "execution_count": null,
   "metadata": {},
   "outputs": [],
   "source": []
  },
  {
   "cell_type": "code",
   "execution_count": null,
   "metadata": {},
   "outputs": [],
   "source": []
  },
  {
   "cell_type": "code",
   "execution_count": null,
   "metadata": {},
   "outputs": [],
   "source": []
  }
 ],
 "metadata": {
  "kernelspec": {
   "display_name": "Python 3",
   "language": "python",
   "name": "python3"
  },
  "language_info": {
   "codemirror_mode": {
    "name": "ipython",
    "version": 3
   },
   "file_extension": ".py",
   "mimetype": "text/x-python",
   "name": "python",
   "nbconvert_exporter": "python",
   "pygments_lexer": "ipython3",
   "version": "3.12.4"
  }
 },
 "nbformat": 4,
 "nbformat_minor": 2
}

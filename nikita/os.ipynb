{
 "cells": [
  {
   "cell_type": "markdown",
   "metadata": {},
   "source": [
    "## OS module "
   ]
  },
  {
   "cell_type": "code",
   "execution_count": 1,
   "metadata": {},
   "outputs": [],
   "source": [
    "import os \n",
    "# os  ==> operating system \n"
   ]
  },
  {
   "cell_type": "code",
   "execution_count": null,
   "metadata": {},
   "outputs": [],
   "source": [
    "# folder create ==> mkdir \n",
    "# delete ==> rmdir  \n"
   ]
  },
  {
   "cell_type": "code",
   "execution_count": 2,
   "metadata": {},
   "outputs": [
    {
     "name": "stdout",
     "output_type": "stream",
     "text": [
      " Volume in drive C has no label.\n",
      " Volume Serial Number is 9C35-B5F9\n",
      "\n",
      " Directory of c:\\Users\\Ranjit\\Desktop\\nikita\\nikita\n",
      "\n",
      "21-12-2024  12:15    <DIR>          .\n",
      "21-12-2024  12:15    <DIR>          ..\n",
      "20-12-2024  15:30    <DIR>          bank\n",
      "16-11-2024  12:27            44,945 data_type.ipynb\n",
      "19-12-2024  13:33                49 demo.txt\n",
      "19-12-2024  15:04                21 demo2.txt\n",
      "20-12-2024  12:12            14,162 file_handling.ipynb\n",
      "18-12-2024  14:01            29,535 function.ipynb\n",
      "17-10-2024  16:52            17,230 list.ipynb\n",
      "21-11-2024  12:40            19,906 loops.ipynb\n",
      "13-11-2024  14:52            25,944 operators.ipynb\n",
      "21-12-2024  12:24             1,918 os.ipynb\n",
      "17-10-2024  12:02               971 test.py\n",
      "19-12-2024  15:08                19 test.txt\n",
      "16-10-2024  15:39               226 test2.py\n",
      "20-12-2024  12:07                21 test4.txt\n",
      "19-10-2024  12:15               144 upflairs.txt\n",
      "              14 File(s)        155,091 bytes\n",
      "               3 Dir(s)  132,771,303,424 bytes free\n"
     ]
    }
   ],
   "source": [
    "ls "
   ]
  },
  {
   "cell_type": "code",
   "execution_count": 6,
   "metadata": {},
   "outputs": [
    {
     "data": {
      "text/plain": [
       "['bank',\n",
       " 'data_type.ipynb',\n",
       " 'demo.txt',\n",
       " 'demo2.txt',\n",
       " 'file_handling.ipynb',\n",
       " 'function.ipynb',\n",
       " 'list.ipynb',\n",
       " 'loops.ipynb',\n",
       " 'operators.ipynb',\n",
       " 'os.ipynb',\n",
       " 'test.py',\n",
       " 'test.txt',\n",
       " 'test2.py',\n",
       " 'test4.txt',\n",
       " 'upflairs.txt']"
      ]
     },
     "execution_count": 6,
     "metadata": {},
     "output_type": "execute_result"
    }
   ],
   "source": [
    "ls_of_file = os.listdir()   # ls command \n",
    "ls_of_file"
   ]
  },
  {
   "cell_type": "code",
   "execution_count": 5,
   "metadata": {},
   "outputs": [
    {
     "name": "stdout",
     "output_type": "stream",
     "text": [
      "c:\\Users\\Ranjit\\Desktop\\nikita\\nikita\n"
     ]
    }
   ],
   "source": [
    "output = os.getcwd()  # get current working directory \n",
    "print(output)"
   ]
  },
  {
   "cell_type": "code",
   "execution_count": 8,
   "metadata": {},
   "outputs": [
    {
     "data": {
      "text/plain": [
       "['bank',\n",
       " 'data_type.ipynb',\n",
       " 'demo.txt',\n",
       " 'demo2.txt',\n",
       " 'file_handling.ipynb',\n",
       " 'function.ipynb',\n",
       " 'list.ipynb',\n",
       " 'loops.ipynb',\n",
       " 'operators.ipynb',\n",
       " 'os.ipynb',\n",
       " 'test.py',\n",
       " 'test.txt',\n",
       " 'test2.py',\n",
       " 'test4.txt',\n",
       " 'upflairs.txt']"
      ]
     },
     "execution_count": 8,
     "metadata": {},
     "output_type": "execute_result"
    }
   ],
   "source": [
    "os.listdir()"
   ]
  },
  {
   "cell_type": "code",
   "execution_count": 9,
   "metadata": {},
   "outputs": [
    {
     "data": {
      "text/plain": [
       "'c:\\\\Users\\\\Ranjit\\\\Desktop\\\\nikita\\\\nikita'"
      ]
     },
     "execution_count": 9,
     "metadata": {},
     "output_type": "execute_result"
    }
   ],
   "source": [
    "os.getcwd()"
   ]
  },
  {
   "cell_type": "code",
   "execution_count": 11,
   "metadata": {},
   "outputs": [
    {
     "name": "stdout",
     "output_type": "stream",
     "text": [
      "216\n"
     ]
    }
   ],
   "source": [
    "new_address = r\"E:\\HD images\"\n",
    "print(len(os.listdir(new_address)))"
   ]
  },
  {
   "cell_type": "code",
   "execution_count": 12,
   "metadata": {},
   "outputs": [
    {
     "data": {
      "text/plain": [
       "'c:\\\\Users\\\\Ranjit\\\\Desktop\\\\nikita\\\\nikita'"
      ]
     },
     "execution_count": 12,
     "metadata": {},
     "output_type": "execute_result"
    }
   ],
   "source": [
    "os.getcwd()"
   ]
  },
  {
   "cell_type": "code",
   "execution_count": 13,
   "metadata": {},
   "outputs": [],
   "source": [
    "# listdir()\n",
    "# getcwd() \n",
    "new_address = r\"E:\\HD images\"\n",
    "os.chdir(new_address)   # cd "
   ]
  },
  {
   "cell_type": "code",
   "execution_count": 15,
   "metadata": {},
   "outputs": [
    {
     "data": {
      "text/plain": [
       "'E:\\\\HD images'"
      ]
     },
     "execution_count": 15,
     "metadata": {},
     "output_type": "execute_result"
    }
   ],
   "source": [
    "os.getcwd()"
   ]
  },
  {
   "cell_type": "code",
   "execution_count": 16,
   "metadata": {},
   "outputs": [
    {
     "data": {
      "text/plain": [
       "['1535304191SAI_5036-1.jpg',\n",
       " '1535304191SAI_5550-1.jpg',\n",
       " '1535304191SAND4397.jpg',\n",
       " '1535304191SAND5614-Edit (1).jpg',\n",
       " '23966.jpg',\n",
       " '240601_Leopard.jpg',\n",
       " '549658_Love heart HelloRF.jpg',\n",
       " '558593_Hunting bird HelloRF.jpg',\n",
       " '577949_Droplet2.jpg',\n",
       " '577966_Noob.jpg',\n",
       " '597551_Colorful pebble.jpg',\n",
       " '600424_Love and Producer 9.jpg',\n",
       " 'a3.jpg',\n",
       " 'a4.jpg',\n",
       " 'a5.jpg',\n",
       " 'africa-21787.jpg',\n",
       " 'alcedo-atthis-881594.jpg',\n",
       " 'alien-1905155_1920.png',\n",
       " 'anemones-4984095.jpg',\n",
       " 'angel-749625.jpg',\n",
       " 'animal-4968215.jpg',\n",
       " 'animals-2222007.jpg',\n",
       " 'area.png',\n",
       " 'area2.png',\n",
       " 'arrow-42916_1280.png',\n",
       " 'artificial-intelligence-2167835.jpg',\n",
       " 'artificial-intelligence-4389372.jpg',\n",
       " 'artificial-intelligence-4550606.jpg',\n",
       " 'asterix-4976983.jpg',\n",
       " 'auto-158795_1280.png',\n",
       " 'avatar-2191918_1920.png',\n",
       " 'baby-1150109.jpg',\n",
       " 'baby-2923997.jpg',\n",
       " 'baby-4116187.jpg',\n",
       " 'baby-784608.jpg',\n",
       " 'banner-916673.jpg',\n",
       " 'beard man.jpg',\n",
       " 'beautiful girl hand.jpg',\n",
       " 'bell-pepper-1302126.jpg',\n",
       " 'bell-pepper-569070.jpg',\n",
       " 'binary-2175285.jpg',\n",
       " 'bird-1045954.jpg',\n",
       " 'bread-4957679.jpg',\n",
       " 'brothers-457237.jpg',\n",
       " 'brown-209106.jpg',\n",
       " 'bulb-2287759.jpg',\n",
       " 'bulldog-1047518.jpg',\n",
       " 'bullet-457334.jpg',\n",
       " 'business-1012445.jpg',\n",
       " 'butterfly-1127666.jpg',\n",
       " 'button-152243_1280.png',\n",
       " 'camels-1149803.jpg',\n",
       " 'cat-2310384.jpg',\n",
       " 'cereals-100263.jpg',\n",
       " 'child-817373.jpg',\n",
       " 'chucks-153310.png',\n",
       " 'close-up-anthropomorphic-robot-working-computer.jpg',\n",
       " 'color-1241879.jpg',\n",
       " 'colt-629670.jpg',\n",
       " 'couple-1246304.jpg',\n",
       " 'couple-3064048.jpg',\n",
       " 'daisy-1346049.jpg',\n",
       " 'dandelion-445228.jpg',\n",
       " 'dog-4977599.jpg',\n",
       " 'dog-4988986.jpg',\n",
       " 'dove-2516641.jpg',\n",
       " 'download-155424_1280.png',\n",
       " 'drop-of-water-1004250.jpg',\n",
       " 'drop-of-water-351778.jpg',\n",
       " 'drop-of-water-545377.jpg',\n",
       " 'dumbbells-2465478.jpg',\n",
       " 'dunes-2184976.jpg',\n",
       " 'e-mail-379797_1280.png',\n",
       " 'east-indian-wedding-couple-holding-hands-16461526.jpg',\n",
       " 'easter-2168521.jpg',\n",
       " 'easter-eggs-2145667.jpg',\n",
       " 'eggs-4991809.jpg',\n",
       " 'eye-428390.jpg',\n",
       " 'fantasy-4956789.jpg',\n",
       " 'faucet-4988292.jpg',\n",
       " 'fern-828933.jpg',\n",
       " 'fileen.jpg',\n",
       " 'fishermen-504098.jpg',\n",
       " 'fox-4893199.jpg',\n",
       " 'frog-540812.jpg',\n",
       " 'ggg.jpg',\n",
       " 'green-715535.jpg',\n",
       " 'h-heyerlein-ndja2LJ4IcM-unsplash.jpg',\n",
       " 'hacker-2883635.jpg',\n",
       " 'hacker-4295720.jpg',\n",
       " 'hands-437968.jpg',\n",
       " 'heart-700141.jpg',\n",
       " 'hist.png',\n",
       " 'hist2.png',\n",
       " 'holding-hands-1149411.jpg',\n",
       " 'holding-hands-918990.jpg',\n",
       " 'home-office-336378.jpg',\n",
       " 'human-big-data-visualization.jpg',\n",
       " 'hummel-4990479.jpg',\n",
       " 'icon-1392947.png',\n",
       " 'icon-1968244.png',\n",
       " 'icons-842848.png',\n",
       " 'icons-842862.png',\n",
       " 'icons-842893.png',\n",
       " 'icons-847259.png',\n",
       " 'images.jpeg',\n",
       " 'IMG_20210903_205225.jpg',\n",
       " 'japanese-cherry-trees-324175.jpg',\n",
       " 'jquery-444684_1280.png',\n",
       " 'key-2114046.jpg',\n",
       " 'kingfisher-881975.jpg',\n",
       " 'kingfisher-bird-863495.jpg',\n",
       " 'label-2016248.png',\n",
       " 'landscape-4956790.jpg',\n",
       " 'landscape-4961094.jpg',\n",
       " 'landscape-4984078.jpg',\n",
       " 'landscape-4990126.jpg',\n",
       " 'laptop-3174729.jpg',\n",
       " 'lens-1209823.jpg',\n",
       " 'lightbulb-1875247.jpg',\n",
       " 'line.png',\n",
       " 'line2.png',\n",
       " 'line3.png',\n",
       " 'lion-1118467.jpg',\n",
       " 'lion-2327225.jpg',\n",
       " 'lion-565820.jpg',\n",
       " 'lone-tree-1934897.jpg',\n",
       " 'love-1731755.jpg',\n",
       " 'macbook-336704.jpg',\n",
       " 'marguerite-729510.jpg',\n",
       " 'melon-4981724.jpg',\n",
       " 'mobile-devices-2017978_1280.png',\n",
       " 'mobile-devices-2017980_1280.png',\n",
       " 'mobile-devices-2017982_1280.png',\n",
       " 'nature-2531761.jpg',\n",
       " 'nature-2813487.jpg',\n",
       " 'nature-3106213.jpg',\n",
       " 'nature-4992244.jpg',\n",
       " 'newborn-1328454.jpg',\n",
       " 'northern-gannet-4926108.jpg',\n",
       " 'nova-scotia-duck-tolling-retriever-4992428.jpg',\n",
       " 'office-1209640.jpg',\n",
       " 'office-1246484.jpg',\n",
       " 'ostrich-feather-1457994.jpg',\n",
       " 'parrots-3427188.jpg',\n",
       " 'particles-1373684.jpg',\n",
       " 'password-704252.jpg',\n",
       " 'pasta-1181189.jpg',\n",
       " 'pencil-4969979.jpg',\n",
       " 'pexels-karolina-grabowska-5980889.jpg',\n",
       " 'pexels-shvets-production-7203955.jpg',\n",
       " 'phase-of-the-moon-4969110.jpg',\n",
       " 'pie.png',\n",
       " 'pie2.png',\n",
       " 'pie3.png',\n",
       " 'pistol-2468707_1280.png',\n",
       " 'plant-2004483.jpg',\n",
       " 'programmer-1653351_1280.png',\n",
       " 'programmer-3607627_1280.png',\n",
       " 'question-mark-2883630.jpg',\n",
       " 'rain-455124.jpg',\n",
       " 'real-estate-2081571_1280.png',\n",
       " 'robot-507811.jpg',\n",
       " 'rose-398576_1280.png',\n",
       " 'rubber-duck-1401225.jpg',\n",
       " 'scatter.png',\n",
       " 'scilla-4994331.jpg',\n",
       " 'shiny-rose-gold-beetle-62906.jpg',\n",
       " 'shoe-2538424.jpg',\n",
       " 'shoes-584850.jpg',\n",
       " 'siblings-817369.jpg',\n",
       " 'skull-with-many-different-parts-it.jpg',\n",
       " 'smartphone-1184883_1920.png',\n",
       " 'smartphone-153650_1280.png',\n",
       " 'spider-1615195.png',\n",
       " 'splashing-275950.jpg',\n",
       " 'spring-276014.jpg',\n",
       " 'stock-vector-email-marketing-list-building-flat-vector-banner-with-social-media-video-icons-599413466.jpg',\n",
       " 'stock-vector-flat-design-concept-for-mobile-content-marketing-content-for-mobile-blogging-social-media-post-1243876105.jpg',\n",
       " 'stock-vector-social-communication-concept-with-cartoon-people-connecting-with-internet-network-and-devices-1135607345.jpg',\n",
       " 'stock-vector-squeeze-page-concept-people-work-and-interact-with-a-squeeze-page-vector-illustration-in-flat-1604738824.jpg',\n",
       " 'stock-vector-thin-line-flat-design-of-useful-designer-graphic-tools-corporate-colors-for-brandbook-designing-300116630.jpg',\n",
       " 'stock-vector-vector-illustration-concept-of-website-and-app-design-and-development-creative-flat-design-for-web-1160577928.jpg',\n",
       " 'tape-2410588_1280.png',\n",
       " 'telephone-304080_1280.png',\n",
       " 'the-button-859345_1280.png',\n",
       " 'the-button-859346_1280.png',\n",
       " 'the-button-859349_1280.png',\n",
       " 'the-button-859350_1280.png',\n",
       " 'the-button-859351_1280.png',\n",
       " 'thermometer-1539191.jpg',\n",
       " 'thisisengineering-raeng-0l2PPgrHXX4-unsplash.jpg',\n",
       " 'tiger-2320819.jpg',\n",
       " 'tiger-591359.jpg',\n",
       " 'tree-3097419.jpg',\n",
       " 'tree-838667.jpg',\n",
       " 'tree-trunk-569275.jpg',\n",
       " 'universe-1566161.jpg',\n",
       " 'view-motorcycle-garage-warehouse.jpg',\n",
       " 'virus-4937553.jpg',\n",
       " 'volkswagen-158463_1280.png',\n",
       " 'web-1608427.png',\n",
       " 'web-1935737.png',\n",
       " 'web-design-1953128.jpg',\n",
       " 'web-design-2188728_1920.png',\n",
       " 'web-design-4875183.jpg',\n",
       " 'webdesign-3411373.jpg',\n",
       " 'website-3374825.jpg',\n",
       " 'website-4776406_1920.png',\n",
       " 'wedding-1183271.jpg',\n",
       " 'woman-3190829.jpg',\n",
       " 'wood-anemone-4977682.jpg',\n",
       " 'wood-cube-473703.jpg',\n",
       " 'world-4952390.jpg',\n",
       " 'yoda.jpg',\n",
       " 'yodaa.jpg']"
      ]
     },
     "execution_count": 16,
     "metadata": {},
     "output_type": "execute_result"
    }
   ],
   "source": [
    "os.listdir()"
   ]
  },
  {
   "cell_type": "code",
   "execution_count": 21,
   "metadata": {},
   "outputs": [],
   "source": [
    "os.chdir(r\"C:\\Users\\Ranjit\\Desktop\\nikita\\nikita\")"
   ]
  },
  {
   "cell_type": "code",
   "execution_count": 22,
   "metadata": {},
   "outputs": [
    {
     "data": {
      "text/plain": [
       "'C:\\\\Users\\\\Ranjit\\\\Desktop\\\\nikita\\\\nikita'"
      ]
     },
     "execution_count": 22,
     "metadata": {},
     "output_type": "execute_result"
    }
   ],
   "source": [
    "pwd "
   ]
  },
  {
   "cell_type": "code",
   "execution_count": 23,
   "metadata": {},
   "outputs": [
    {
     "data": {
      "text/plain": [
       "['bank',\n",
       " 'data_type.ipynb',\n",
       " 'demo.txt',\n",
       " 'demo2.txt',\n",
       " 'file_handling.ipynb',\n",
       " 'function.ipynb',\n",
       " 'list.ipynb',\n",
       " 'loops.ipynb',\n",
       " 'operators.ipynb',\n",
       " 'os.ipynb',\n",
       " 'test.py',\n",
       " 'test.txt',\n",
       " 'test2.py',\n",
       " 'test4.txt',\n",
       " 'upflairs.txt']"
      ]
     },
     "execution_count": 23,
     "metadata": {},
     "output_type": "execute_result"
    }
   ],
   "source": [
    "os.listdir()"
   ]
  },
  {
   "cell_type": "code",
   "execution_count": 28,
   "metadata": {},
   "outputs": [],
   "source": [
    "\n",
    "os.mkdir(\"token\")   # mkdir "
   ]
  },
  {
   "cell_type": "code",
   "execution_count": 45,
   "metadata": {},
   "outputs": [],
   "source": [
    "os.rmdir(\"token\")     #rmdir"
   ]
  },
  {
   "cell_type": "code",
   "execution_count": 29,
   "metadata": {},
   "outputs": [
    {
     "ename": "FileExistsError",
     "evalue": "[WinError 183] Cannot create a file when that file already exists: 'token'",
     "output_type": "error",
     "traceback": [
      "\u001b[1;31m---------------------------------------------------------------------------\u001b[0m",
      "\u001b[1;31mFileExistsError\u001b[0m                           Traceback (most recent call last)",
      "Cell \u001b[1;32mIn[29], line 1\u001b[0m\n\u001b[1;32m----> 1\u001b[0m \u001b[43mos\u001b[49m\u001b[38;5;241;43m.\u001b[39;49m\u001b[43mmkdir\u001b[49m\u001b[43m(\u001b[49m\u001b[38;5;124;43m\"\u001b[39;49m\u001b[38;5;124;43mtoken\u001b[39;49m\u001b[38;5;124;43m\"\u001b[39;49m\u001b[43m)\u001b[49m \n",
      "\u001b[1;31mFileExistsError\u001b[0m: [WinError 183] Cannot create a file when that file already exists: 'token'"
     ]
    }
   ],
   "source": [
    "os.mkdir(\"token\") "
   ]
  },
  {
   "cell_type": "code",
   "execution_count": 58,
   "metadata": {},
   "outputs": [],
   "source": [
    "os.makedirs(\"token\",exist_ok=True)   # to create directory "
   ]
  },
  {
   "cell_type": "code",
   "execution_count": 59,
   "metadata": {},
   "outputs": [
    {
     "data": {
      "text/plain": [
       "'C:\\\\Users\\\\Ranjit\\\\Desktop\\\\nikita\\\\nikita'"
      ]
     },
     "execution_count": 59,
     "metadata": {},
     "output_type": "execute_result"
    }
   ],
   "source": [
    "pwd "
   ]
  },
  {
   "cell_type": "code",
   "execution_count": 62,
   "metadata": {},
   "outputs": [
    {
     "data": {
      "text/plain": [
       "['bank',\n",
       " 'data_type.ipynb',\n",
       " 'demo.txt',\n",
       " 'demo2.txt',\n",
       " 'file_handling.ipynb',\n",
       " 'function.ipynb',\n",
       " 'list.ipynb',\n",
       " 'loops.ipynb',\n",
       " 'operators.ipynb',\n",
       " 'os.ipynb',\n",
       " 'test.py',\n",
       " 'test.txt',\n",
       " 'test2.py',\n",
       " 'test4.txt',\n",
       " 'token',\n",
       " 'upflairs.txt']"
      ]
     },
     "execution_count": 62,
     "metadata": {},
     "output_type": "execute_result"
    }
   ],
   "source": [
    "ls_of_files = os.listdir()\n",
    "ls_of_files"
   ]
  },
  {
   "cell_type": "code",
   "execution_count": 65,
   "metadata": {},
   "outputs": [
    {
     "name": "stdout",
     "output_type": "stream",
     "text": [
      "Your directory is created \n"
     ]
    }
   ],
   "source": [
    "if \"token2\" in ls_of_files:\n",
    "    print(\"no need to creat it\")\n",
    "else:\n",
    "    os.makedirs(\"token2\",exist_ok=True)\n",
    "    print(\"Your directory is created \")"
   ]
  },
  {
   "cell_type": "code",
   "execution_count": 66,
   "metadata": {},
   "outputs": [
    {
     "name": "stdout",
     "output_type": "stream",
     "text": [
      "no need to creat it\n"
     ]
    }
   ],
   "source": [
    "ls_of_files = os.listdir()\n",
    "if \"token2\" in ls_of_files:\n",
    "    print(\"no need to creat it\")\n",
    "else:\n",
    "    os.makedirs(\"token2\",exist_ok=True)\n",
    "    print(\"Your directory is created \")"
   ]
  },
  {
   "cell_type": "code",
   "execution_count": 68,
   "metadata": {},
   "outputs": [
    {
     "name": "stdout",
     "output_type": "stream",
     "text": [
      "not present\n"
     ]
    }
   ],
   "source": [
    "if os.path.exists(\"token3\"):\n",
    "    print(\"present\")\n",
    "else:\n",
    "    print(\"not present\")"
   ]
  },
  {
   "cell_type": "code",
   "execution_count": 70,
   "metadata": {},
   "outputs": [
    {
     "name": "stdout",
     "output_type": "stream",
     "text": [
      "present\n"
     ]
    }
   ],
   "source": [
    "if os.path.exists(\"token3\"):\n",
    "    print(\"present\")\n",
    "else:\n",
    "    os.makedirs(\"token3\",exist_ok=True)\n",
    "    print(\"Your directory is created \")"
   ]
  }
 ],
 "metadata": {
  "kernelspec": {
   "display_name": "Python 3",
   "language": "python",
   "name": "python3"
  },
  "language_info": {
   "codemirror_mode": {
    "name": "ipython",
    "version": 3
   },
   "file_extension": ".py",
   "mimetype": "text/x-python",
   "name": "python",
   "nbconvert_exporter": "python",
   "pygments_lexer": "ipython3",
   "version": "3.12.4"
  }
 },
 "nbformat": 4,
 "nbformat_minor": 2
}

{
 "cells": [
  {
   "cell_type": "markdown",
   "metadata": {},
   "source": [
    "### Object oriented programing "
   ]
  },
  {
   "cell_type": "code",
   "execution_count": 22,
   "metadata": {},
   "outputs": [],
   "source": [
    "class Student:\n",
    "    student_name = 'Nikki'\n",
    "    student_city = \"Bikaner\" \n",
    "    student_college = \"Gurukul\""
   ]
  },
  {
   "cell_type": "code",
   "execution_count": 23,
   "metadata": {},
   "outputs": [],
   "source": [
    "# object creating (instance) ==> can create n object \n",
    "stu_obj1 = Student()  \n",
    "stu_obj2 = Student()  \n",
    "stu_obj3 = Student()  "
   ]
  },
  {
   "cell_type": "code",
   "execution_count": null,
   "metadata": {},
   "outputs": [],
   "source": [
    "stu_obj1.student_name  = \"Nikita Jangid\"  # update "
   ]
  },
  {
   "cell_type": "code",
   "execution_count": 31,
   "metadata": {},
   "outputs": [
    {
     "data": {
      "text/plain": [
       "'Nikita Jangid'"
      ]
     },
     "execution_count": 31,
     "metadata": {},
     "output_type": "execute_result"
    }
   ],
   "source": [
    "stu_obj1.student_name"
   ]
  },
  {
   "cell_type": "code",
   "execution_count": 13,
   "metadata": {},
   "outputs": [
    {
     "data": {
      "text/plain": [
       "<__main__.Student at 0x25bc834b860>"
      ]
     },
     "execution_count": 13,
     "metadata": {},
     "output_type": "execute_result"
    }
   ],
   "source": [
    "stu_obj   # memory address "
   ]
  },
  {
   "cell_type": "code",
   "execution_count": 21,
   "metadata": {},
   "outputs": [
    {
     "data": {
      "text/plain": [
       "'Gurukul'"
      ]
     },
     "execution_count": 21,
     "metadata": {},
     "output_type": "execute_result"
    }
   ],
   "source": [
    "stu_obj3.student_college"
   ]
  },
  {
   "cell_type": "code",
   "execution_count": null,
   "metadata": {},
   "outputs": [],
   "source": []
  },
  {
   "cell_type": "code",
   "execution_count": 33,
   "metadata": {},
   "outputs": [],
   "source": [
    "class Student:\n",
    "    # class variable  , instance variables(object variables) \n",
    "    student_name = 'Nikki'\n",
    "    student_city = \"Bikaner\" \n",
    "    student_college = \"Gurukul\" "
   ]
  },
  {
   "cell_type": "code",
   "execution_count": 35,
   "metadata": {},
   "outputs": [
    {
     "data": {
      "text/plain": [
       "'Bikaner'"
      ]
     },
     "execution_count": 35,
     "metadata": {},
     "output_type": "execute_result"
    }
   ],
   "source": [
    "Student.student_city   # accessing the class variables with the help of class name "
   ]
  },
  {
   "cell_type": "code",
   "execution_count": 1,
   "metadata": {},
   "outputs": [],
   "source": [
    "# to create or initialize an instance variables we need a constructor. \n",
    "class Student: \n",
    "    # class variables  (class name , object)\n",
    "    college = \"IET Lucknow\" \n",
    "    college_city = \"Lucknow\" \n",
    "    def __init__(self): # no need to call it, automaticall creting  object \n",
    "        # instance variables  (object)\n",
    "        self.student_name = \"Nikita jangid\"\n",
    "        self.student_city = \"Bikaner\"\n",
    "        self.student_subjects = ['math','physics','chemistry','science']\n",
    "        print(\"constructor is executed\")  \n"
   ]
  },
  {
   "cell_type": "code",
   "execution_count": 3,
   "metadata": {},
   "outputs": [
    {
     "name": "stdout",
     "output_type": "stream",
     "text": [
      "constructor is executed\n",
      "constructor is executed\n"
     ]
    }
   ],
   "source": [
    "stu_obj1 = Student() # constructor  \n",
    "stu_obj2 = Student()"
   ]
  },
  {
   "cell_type": "code",
   "execution_count": 5,
   "metadata": {},
   "outputs": [
    {
     "data": {
      "text/plain": [
       "'Nikita jangid'"
      ]
     },
     "execution_count": 5,
     "metadata": {},
     "output_type": "execute_result"
    }
   ],
   "source": [
    "stu_obj2.student_name"
   ]
  },
  {
   "cell_type": "code",
   "execution_count": 33,
   "metadata": {},
   "outputs": [],
   "source": [
    "# to create or initialize an instance variables we need a constructor. \n",
    "class Student: \n",
    "    # class variables  (class name , object)\n",
    "    college = \"IET Lucknow\" \n",
    "    college_city = \"Lucknow\" \n",
    "    def __init__(self,name,city,subjects): # no need to call it, automaticall creting  object \n",
    "        # instance variables  (object)\n",
    "        self.student_name = name\n",
    "        self.student_city = city\n",
    "        self.student_subjects = subjects\n",
    "        print(\"constructor is executed\")  \n",
    "\n"
   ]
  },
  {
   "cell_type": "code",
   "execution_count": 34,
   "metadata": {},
   "outputs": [
    {
     "name": "stdout",
     "output_type": "stream",
     "text": [
      "constructor is executed\n",
      "constructor is executed\n"
     ]
    }
   ],
   "source": [
    "obj1 = Student(name='Nikia jangid',city='Bikaner',subjects=['physics','math','chemistry'])\n",
    "obj2 = Student(name='Rahul',city=\"gorakhpur\",subjects=['cs','it','ece'])"
   ]
  },
  {
   "cell_type": "code",
   "execution_count": 36,
   "metadata": {},
   "outputs": [
    {
     "ename": "AttributeError",
     "evalue": "type object 'Student' has no attribute 'student_name'",
     "output_type": "error",
     "traceback": [
      "\u001b[1;31m---------------------------------------------------------------------------\u001b[0m",
      "\u001b[1;31mAttributeError\u001b[0m                            Traceback (most recent call last)",
      "Cell \u001b[1;32mIn[36], line 1\u001b[0m\n\u001b[1;32m----> 1\u001b[0m \u001b[43mStudent\u001b[49m\u001b[38;5;241;43m.\u001b[39;49m\u001b[43mstudent_name\u001b[49m\n",
      "\u001b[1;31mAttributeError\u001b[0m: type object 'Student' has no attribute 'student_name'"
     ]
    }
   ],
   "source": [
    "Student.student_name"
   ]
  },
  {
   "cell_type": "code",
   "execution_count": 58,
   "metadata": {},
   "outputs": [],
   "source": [
    "class Prectise:\n",
    "    def __init__(self,numbers):\n",
    "        self.name = \"Nikki\"\n",
    "        self.int_numbers = numbers \n",
    "        self.int_numbers2 = [2,4,5,6,7,8,9]\n",
    "\n",
    "    #methods \n",
    "    def total_sum(self):\n",
    "        temp = 0 \n",
    "        for item in self.int_numbers:\n",
    "            temp += item \n",
    "        return temp \n",
    "\n",
    "    def display(self):\n",
    "        self.total_sum()\n",
    "\n",
    "obj = Prectise(numbers=[25,63,41,74,85,96,65,45,85,25,1]) "
   ]
  },
  {
   "cell_type": "code",
   "execution_count": 59,
   "metadata": {},
   "outputs": [
    {
     "data": {
      "text/plain": [
       "605"
      ]
     },
     "execution_count": 59,
     "metadata": {},
     "output_type": "execute_result"
    }
   ],
   "source": [
    "obj.total_sum()"
   ]
  },
  {
   "cell_type": "code",
   "execution_count": 55,
   "metadata": {},
   "outputs": [
    {
     "name": "stdout",
     "output_type": "stream",
     "text": [
      "[25, 63, 41, 74, 85, 96, 65, 45, 85, 25, 1]\n"
     ]
    }
   ],
   "source": [
    "obj.display()"
   ]
  },
  {
   "cell_type": "code",
   "execution_count": 38,
   "metadata": {},
   "outputs": [
    {
     "data": {
      "text/plain": [
       "[25, 63, 41, 74, 85, 96, 65, 45, 85, 25, 1]"
      ]
     },
     "execution_count": 38,
     "metadata": {},
     "output_type": "execute_result"
    }
   ],
   "source": [
    "obj.int_numbers "
   ]
  },
  {
   "cell_type": "code",
   "execution_count": 40,
   "metadata": {},
   "outputs": [],
   "source": [
    "obj.int_numbers.remove(96)"
   ]
  },
  {
   "cell_type": "code",
   "execution_count": 47,
   "metadata": {},
   "outputs": [],
   "source": [
    "obj.int_numbers[3] = 80 "
   ]
  },
  {
   "cell_type": "code",
   "execution_count": 48,
   "metadata": {},
   "outputs": [
    {
     "data": {
      "text/plain": [
       "[25, 63, 41, 80, 85, 65, 45, 85, 25, 1]"
      ]
     },
     "execution_count": 48,
     "metadata": {},
     "output_type": "execute_result"
    }
   ],
   "source": [
    "obj.int_numbers"
   ]
  },
  {
   "cell_type": "code",
   "execution_count": 42,
   "metadata": {},
   "outputs": [
    {
     "data": {
      "text/plain": [
       "[25, 63, 41, 74, 85, 96, 65, 45, 85, 25, 1]"
      ]
     },
     "execution_count": 42,
     "metadata": {},
     "output_type": "execute_result"
    }
   ],
   "source": [
    "ls = [25, 63, 41, 74, 85, 96, 65, 45, 85, 25, 1] \n",
    "ls "
   ]
  },
  {
   "cell_type": "code",
   "execution_count": 44,
   "metadata": {},
   "outputs": [],
   "source": [
    "ls[3] = 80 "
   ]
  },
  {
   "cell_type": "code",
   "execution_count": 45,
   "metadata": {},
   "outputs": [
    {
     "data": {
      "text/plain": [
       "[25, 63, 41, 80, 85, 96, 65, 45, 85, 25, 1]"
      ]
     },
     "execution_count": 45,
     "metadata": {},
     "output_type": "execute_result"
    }
   ],
   "source": [
    "int_numbers2 = [2,4,5,6,7,8,9]"
   ]
  },
  {
   "cell_type": "code",
   "execution_count": 61,
   "metadata": {},
   "outputs": [],
   "source": [
    "class Prectise:\n",
    "    def __init__(self,numbers):\n",
    "        # instance variable \n",
    "        self.name = \"Nikki\"\n",
    "        self.int_numbers = numbers \n",
    "        self.int_numbers2 = [2,4,5,6,7,8,9]\n",
    "\n",
    "    #instance methods ==> instance properties (variables)\n",
    "    def total_sum(self):\n",
    "        temp = 0 \n",
    "        for item in self.int_numbers:\n",
    "            temp += item \n",
    "        return temp \n",
    "\n",
    "    def display(self):\n",
    "        print(\"hello world\")\n",
    "\n",
    "obj = Prectise(numbers=[25,63,41,74,85,96,65,45,85,25,1]) "
   ]
  },
  {
   "cell_type": "code",
   "execution_count": 64,
   "metadata": {},
   "outputs": [
    {
     "name": "stdout",
     "output_type": "stream",
     "text": [
      "hello world\n"
     ]
    }
   ],
   "source": [
    "obj.display() "
   ]
  },
  {
   "cell_type": "code",
   "execution_count": null,
   "metadata": {},
   "outputs": [],
   "source": [
    "1. create a method to find the square of only even items. \n",
    "2. create a method  to find the average int_numbers only for even.\n",
    "3. create a method to find the minimum item fron int_numbers."
   ]
  },
  {
   "cell_type": "code",
   "execution_count": 71,
   "metadata": {},
   "outputs": [],
   "source": [
    "class Prectise:\n",
    "    # class varible \n",
    "    student_names = ['rohit','mohit','kunal','shrinivas','sahil ali']\n",
    "    def __init__(self,numbers):\n",
    "        # instance variable \n",
    "        self.name = \"Nikki\"\n",
    "        self.int_numbers = numbers \n",
    "        self.int_numbers2 = [2,4,5,6,7,8,9]\n",
    "\n",
    "    # class methods\n",
    "    @classmethod    # decorator   \n",
    "    def check_student_name(cls,name):\n",
    "        if name in cls.student_names:\n",
    "            print(f\"yes {name} is present in the list.\")\n",
    "        else:\n",
    "            print(f\"{name} is not present in the list.\")\n",
    "    \n",
    "\n",
    "obj = Prectise(numbers=[25,63,41,74,85,96,65,45,85,25,1]) "
   ]
  },
  {
   "cell_type": "code",
   "execution_count": 72,
   "metadata": {},
   "outputs": [
    {
     "name": "stdout",
     "output_type": "stream",
     "text": [
      "rocky is not present in the list.\n"
     ]
    }
   ],
   "source": [
    "obj.check_student_name(name='rocky')   # calling by  a object "
   ]
  },
  {
   "cell_type": "code",
   "execution_count": 67,
   "metadata": {},
   "outputs": [
    {
     "name": "stdout",
     "output_type": "stream",
     "text": [
      "['rohit', 'mohit', 'kunal', 'shrinivas', 'sahil ali']\n"
     ]
    }
   ],
   "source": [
    "Prectise.check_student_name(name='kunal')   # calling by  a object \n"
   ]
  },
  {
   "cell_type": "code",
   "execution_count": 87,
   "metadata": {},
   "outputs": [],
   "source": [
    "class Prectise:\n",
    "    # class varible \n",
    "    student_names = ['rohit','mohit','kunal','shrinivas','sahil ali'] \n",
    "\n",
    "    @classmethod\n",
    "    def add_student(cls,name): \n",
    "        cls.student_names.append(name)\n",
    "        print(f\"Your student : {name} is inserted.\")\n",
    "    @classmethod\n",
    "    def display(cls):\n",
    "        print(cls.student_names)\n",
    "    \n",
    "    @staticmethod\n",
    "    def total_no_of_student():\n",
    "        ls = ['A','B','C','D']\n",
    "        print(len(ls))\n",
    "\n"
   ]
  },
  {
   "cell_type": "code",
   "execution_count": 89,
   "metadata": {},
   "outputs": [
    {
     "name": "stdout",
     "output_type": "stream",
     "text": [
      "4\n",
      "4\n"
     ]
    }
   ],
   "source": [
    "obj = Prectise()\n",
    "\n",
    "Prectise.total_no_of_student()\n",
    "obj.total_no_of_student()"
   ]
  },
  {
   "cell_type": "code",
   "execution_count": 86,
   "metadata": {},
   "outputs": [
    {
     "name": "stdout",
     "output_type": "stream",
     "text": [
      "Your student : Rocky is inserted.\n",
      "['rohit', 'mohit', 'kunal', 'shrinivas', 'sahil ali', 'Rocky']\n",
      "4\n"
     ]
    }
   ],
   "source": [
    "obj = Prectise()\n",
    "obj.add_student(name='Rocky')\n",
    "obj.display()  #  ['rohit','mohit','kunal','shrinivas','sahil ali']\n",
    "obj.total_no_of_student()"
   ]
  },
  {
   "cell_type": "code",
   "execution_count": null,
   "metadata": {},
   "outputs": [],
   "source": [
    "obj.delete_student(name=\"rocky\")"
   ]
  }
 ],
 "metadata": {
  "kernelspec": {
   "display_name": "Python 3",
   "language": "python",
   "name": "python3"
  },
  "language_info": {
   "codemirror_mode": {
    "name": "ipython",
    "version": 3
   },
   "file_extension": ".py",
   "mimetype": "text/x-python",
   "name": "python",
   "nbconvert_exporter": "python",
   "pygments_lexer": "ipython3",
   "version": "3.12.4"
  }
 },
 "nbformat": 4,
 "nbformat_minor": 2
}

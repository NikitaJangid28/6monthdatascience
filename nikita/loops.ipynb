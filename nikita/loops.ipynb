{
 "cells": [
  {
   "cell_type": "code",
   "execution_count": 13,
   "metadata": {},
   "outputs": [
    {
     "name": "stdout",
     "output_type": "stream",
     "text": [
      "0  hello world\n",
      "1  hello world\n",
      "2  hello world\n",
      "3  hello world\n",
      "4  hello world\n",
      "5  hello world\n",
      "6  hello world\n",
      "7  hello world\n",
      "8  hello world\n",
      "9  hello world\n"
     ]
    }
   ],
   "source": [
    "for i in range(10):\n",
    "    print(i,\" hello world\")"
   ]
  },
  {
   "cell_type": "code",
   "execution_count": 9,
   "metadata": {},
   "outputs": [
    {
     "data": {
      "text/plain": [
       "[5, 6, 7, 8, 9, 10]"
      ]
     },
     "execution_count": 9,
     "metadata": {},
     "output_type": "execute_result"
    }
   ],
   "source": [
    "# range(starting,stoping,jump) \n",
    "list(range(5,11)) "
   ]
  },
  {
   "cell_type": "code",
   "execution_count": 12,
   "metadata": {},
   "outputs": [
    {
     "name": "stdout",
     "output_type": "stream",
     "text": [
      "1  hello world\n",
      "2  hello world\n",
      "3  hello world\n",
      "4  hello world\n",
      "5  hello world\n"
     ]
    }
   ],
   "source": [
    "for i in range(1,6):\n",
    "    print(i,\" hello world\")"
   ]
  },
  {
   "cell_type": "code",
   "execution_count": 14,
   "metadata": {},
   "outputs": [
    {
     "name": "stdout",
     "output_type": "stream",
     "text": [
      "5\n",
      "6\n",
      "7\n",
      "8\n",
      "9\n",
      "10\n"
     ]
    }
   ],
   "source": [
    "for i in range(5,11):\n",
    "    print(i)"
   ]
  },
  {
   "cell_type": "code",
   "execution_count": null,
   "metadata": {},
   "outputs": [],
   "source": []
  },
  {
   "cell_type": "code",
   "execution_count": null,
   "metadata": {},
   "outputs": [
    {
     "name": "stdout",
     "output_type": "stream",
     "text": [
      "10\n",
      "9\n",
      "8\n",
      "7\n",
      "6\n",
      "5\n",
      "4\n",
      "3\n",
      "2\n",
      "1\n"
     ]
    }
   ],
   "source": [
    "for i in range(10,0,-1):\n",
    "    print(i)\n",
    "\n",
    "*\n",
    "**\n",
    "***\n",
    "****\n",
    "*****\n",
    "******\n",
    "*******"
   ]
  },
  {
   "cell_type": "code",
   "execution_count": 5,
   "metadata": {},
   "outputs": [
    {
     "name": "stdout",
     "output_type": "stream",
     "text": [
      "1 2 3 4 5 "
     ]
    }
   ],
   "source": [
    "for i in range(1,6):  \n",
    "    print(i,end=\" \")"
   ]
  },
  {
   "cell_type": "markdown",
   "metadata": {},
   "source": [
    "### Nested loop "
   ]
  },
  {
   "cell_type": "code",
   "execution_count": null,
   "metadata": {},
   "outputs": [
    {
     "name": "stdout",
     "output_type": "stream",
     "text": [
      "1\n",
      "20\n",
      "21\n",
      "22\n",
      "23\n",
      "24\n",
      "25\n",
      "2\n",
      "20\n",
      "21\n",
      "22\n",
      "23\n",
      "24\n",
      "25\n"
     ]
    }
   ],
   "source": [
    "for i in range(1,3): 1 , 2\n",
    "    print(i)\n",
    "    for j in range(20,26):  20 , 21 , 22 , 23 24 25 \n",
    "        print(j)"
   ]
  },
  {
   "cell_type": "code",
   "execution_count": null,
   "metadata": {},
   "outputs": [
    {
     "name": "stdout",
     "output_type": "stream",
     "text": [
      "1 2 3 4 5 1 2 3 4 5 1 2 3 4 5 "
     ]
    }
   ],
   "source": [
    "for i in range(5,8):\n",
    "    for j in range(1,6):\n",
    "        print(j,end=\" \")"
   ]
  },
  {
   "cell_type": "code",
   "execution_count": 18,
   "metadata": {},
   "outputs": [
    {
     "name": "stdout",
     "output_type": "stream",
     "text": [
      "u\n",
      "p\n",
      "f\n",
      "l\n",
      "a\n",
      "i\n",
      "r\n",
      "s\n"
     ]
    }
   ],
   "source": [
    "st = \"upflairs\" \n",
    "for char in st:\n",
    "    print(char) "
   ]
  },
  {
   "cell_type": "code",
   "execution_count": 19,
   "metadata": {},
   "outputs": [
    {
     "name": "stdout",
     "output_type": "stream",
     "text": [
      "upflairs"
     ]
    }
   ],
   "source": [
    "st = \"upflairs\" \n",
    "for char in st:\n",
    "    print(char,end=\"\") "
   ]
  },
  {
   "cell_type": "code",
   "execution_count": 21,
   "metadata": {},
   "outputs": [
    {
     "name": "stdout",
     "output_type": "stream",
     "text": [
      "10\n",
      "20\n",
      "30\n",
      "40\n",
      "50\n"
     ]
    }
   ],
   "source": [
    "ls = [10,20,30,40,50]\n",
    "for item in ls:\n",
    "    print(item)"
   ]
  },
  {
   "cell_type": "code",
   "execution_count": 25,
   "metadata": {},
   "outputs": [
    {
     "name": "stdout",
     "output_type": "stream",
     "text": [
      "150\n"
     ]
    }
   ],
   "source": [
    "ls = [10,20,30,40,50]\n",
    "total_sum = 0 \n",
    "for item in ls:\n",
    "    total_sum += item \n",
    "print(total_sum)"
   ]
  },
  {
   "cell_type": "code",
   "execution_count": 26,
   "metadata": {},
   "outputs": [
    {
     "name": "stdout",
     "output_type": "stream",
     "text": [
      "5\n"
     ]
    }
   ],
   "source": [
    "ls = [10,20,30,40,50]\n",
    "count = 0 \n",
    "for item in ls:\n",
    "    count += 1 \n",
    "print(count)\n"
   ]
  },
  {
   "cell_type": "code",
   "execution_count": 27,
   "metadata": {},
   "outputs": [
    {
     "name": "stdout",
     "output_type": "stream",
     "text": [
      "30.0\n"
     ]
    }
   ],
   "source": [
    "average = total_sum / count \n",
    "print(average)"
   ]
  },
  {
   "cell_type": "code",
   "execution_count": 24,
   "metadata": {},
   "outputs": [
    {
     "name": "stdout",
     "output_type": "stream",
     "text": [
      "30.0\n"
     ]
    }
   ],
   "source": [
    "ls = [10,20,30,40,50]\n",
    "total_sum = 0 \n",
    "count = 0 \n",
    "for item in ls:\n",
    "    total_sum += item \n",
    "    count += 1 \n",
    "\n",
    "print(total_sum/ count )\n"
   ]
  },
  {
   "cell_type": "code",
   "execution_count": 30,
   "metadata": {},
   "outputs": [
    {
     "name": "stdout",
     "output_type": "stream",
     "text": [
      "no. is odd\n"
     ]
    }
   ],
   "source": [
    "num = 29\n",
    "if num % 2 == 0: \n",
    "    print(\"no. is even \")\n",
    "else:\n",
    "    print(\"no. is odd\")\n"
   ]
  },
  {
   "cell_type": "code",
   "execution_count": null,
   "metadata": {},
   "outputs": [],
   "source": [
    "ls = [41,25,36,39,28,74,54,63,21,44]\n"
   ]
  },
  {
   "cell_type": "code",
   "execution_count": 2,
   "metadata": {},
   "outputs": [
    {
     "name": "stdout",
     "output_type": "stream",
     "text": [
      "41\n",
      "25\n",
      "36\n",
      "39\n",
      "28\n",
      "74\n",
      "54\n",
      "63\n",
      "21\n",
      "44\n"
     ]
    }
   ],
   "source": [
    "tpl = (41,25,36,39,28,74,54,63,21,44)\n",
    "for item in tpl:\n",
    "    print(item)"
   ]
  },
  {
   "cell_type": "code",
   "execution_count": 3,
   "metadata": {},
   "outputs": [
    {
     "name": "stdout",
     "output_type": "stream",
     "text": [
      "name\n",
      "branch\n",
      "roll_no\n"
     ]
    }
   ],
   "source": [
    "dt = {'name':'nikki','branch':'cse','roll_no':25} \n",
    "for item in dt:\n",
    "    print(item)"
   ]
  },
  {
   "cell_type": "code",
   "execution_count": 6,
   "metadata": {},
   "outputs": [
    {
     "name": "stdout",
     "output_type": "stream",
     "text": [
      "dict_values(['nikki', 'cse', 25])\n"
     ]
    }
   ],
   "source": [
    "dt = {'name':'nikki','branch':'cse','roll_no':25} \n",
    "print(dt.values())"
   ]
  },
  {
   "cell_type": "code",
   "execution_count": 10,
   "metadata": {},
   "outputs": [
    {
     "name": "stdout",
     "output_type": "stream",
     "text": [
      "name\n",
      "branch\n",
      "roll_no\n"
     ]
    }
   ],
   "source": [
    "dt = {'name':'nikki','branch':'cse','roll_no':25} \n",
    "for item in dt.keys():\n",
    "    print(item)"
   ]
  },
  {
   "cell_type": "code",
   "execution_count": 11,
   "metadata": {},
   "outputs": [
    {
     "name": "stdout",
     "output_type": "stream",
     "text": [
      "nikki\n",
      "cse\n",
      "25\n"
     ]
    }
   ],
   "source": [
    "dt = {'name':'nikki','branch':'cse','roll_no':25} \n",
    "for item in dt.values():\n",
    "    print(item)"
   ]
  },
  {
   "cell_type": "code",
   "execution_count": 15,
   "metadata": {},
   "outputs": [
    {
     "name": "stdout",
     "output_type": "stream",
     "text": [
      "Key :  name  Values >>>>   nikki\n",
      "Key :  branch  Values >>>>   cse\n",
      "Key :  roll_no  Values >>>>   25\n"
     ]
    }
   ],
   "source": [
    "## key and values \n",
    "dt = {'name':'nikki','branch':'cse','roll_no':25} \n",
    "for item in dt:\n",
    "    print(\"Key : \",item,\" Values >>>>  \",dt[item])"
   ]
  },
  {
   "cell_type": "code",
   "execution_count": 16,
   "metadata": {},
   "outputs": [
    {
     "data": {
      "text/plain": [
       "dict_items([('name', 'nikki'), ('branch', 'cse'), ('roll_no', 25)])"
      ]
     },
     "execution_count": 16,
     "metadata": {},
     "output_type": "execute_result"
    }
   ],
   "source": [
    "dt = {'name':'nikki','branch':'cse','roll_no':25} \n",
    "dt.items()"
   ]
  },
  {
   "cell_type": "markdown",
   "metadata": {},
   "source": [
    "[(key,value),(key,value),(key,value)]  # list of tuples \n"
   ]
  },
  {
   "cell_type": "code",
   "execution_count": null,
   "metadata": {},
   "outputs": [
    {
     "name": "stdout",
     "output_type": "stream",
     "text": [
      "('name', 'nikki')\n",
      "('branch', 'cse')\n",
      "('roll_no', 25)\n"
     ]
    }
   ],
   "source": [
    "for pair in dt.items():   # [(key,value),(key,value),(key,value)]\n",
    "    print(pair)"
   ]
  },
  {
   "cell_type": "code",
   "execution_count": 18,
   "metadata": {},
   "outputs": [
    {
     "name": "stdout",
     "output_type": "stream",
     "text": [
      "name   >>>>>>>>>>>   nikki\n",
      "branch   >>>>>>>>>>>   cse\n",
      "roll_no   >>>>>>>>>>>   25\n"
     ]
    }
   ],
   "source": [
    "for pair in dt.items():\n",
    "    print(pair[0],\"  >>>>>>>>>>>  \",pair[1])"
   ]
  },
  {
   "cell_type": "code",
   "execution_count": 22,
   "metadata": {},
   "outputs": [
    {
     "name": "stdout",
     "output_type": "stream",
     "text": [
      "key :  name  >>>>>>>>>>>   nikki\n",
      "key :  branch  >>>>>>>>>>>   cse\n",
      "key :  roll_no  >>>>>>>>>>>   25\n"
     ]
    }
   ],
   "source": [
    "for key,value in dt.items():\n",
    "    print(\"key : \",key,\" >>>>>>>>>>>  \",value)"
   ]
  },
  {
   "cell_type": "code",
   "execution_count": null,
   "metadata": {},
   "outputs": [
    {
     "name": "stdout",
     "output_type": "stream",
     "text": [
      "name\n",
      "nikki\n"
     ]
    }
   ],
   "source": [
    "## tuple unpacking \n",
    "tpl = ('name', 'nikki')\n",
    "a , b = tpl \n",
    "print(a)\n",
    "print(b)"
   ]
  },
  {
   "cell_type": "code",
   "execution_count": 28,
   "metadata": {},
   "outputs": [
    {
     "name": "stdout",
     "output_type": "stream",
     "text": [
      "5\n"
     ]
    }
   ],
   "source": [
    "### enumerate \n",
    "ls = [25,4,63,96,85,75,48,93,82,6]\n",
    "target = 75 \n",
    "count = 0 \n",
    "for item in ls: \n",
    "    if item ==  target:\n",
    "        print(count)\n",
    "    count += 1 \n"
   ]
  },
  {
   "cell_type": "code",
   "execution_count": 30,
   "metadata": {},
   "outputs": [
    {
     "data": {
      "text/plain": [
       "[(0, 25),\n",
       " (1, 4),\n",
       " (2, 63),\n",
       " (3, 96),\n",
       " (4, 85),\n",
       " (5, 75),\n",
       " (6, 48),\n",
       " (7, 93),\n",
       " (8, 82),\n",
       " (9, 6)]"
      ]
     },
     "execution_count": 30,
     "metadata": {},
     "output_type": "execute_result"
    }
   ],
   "source": [
    "ls = [25,4,63,96,85,75,48,93,82,6]\n",
    "list(enumerate(ls))"
   ]
  },
  {
   "cell_type": "code",
   "execution_count": 33,
   "metadata": {},
   "outputs": [
    {
     "name": "stdout",
     "output_type": "stream",
     "text": [
      "your item is present at this location :  5\n"
     ]
    }
   ],
   "source": [
    "ls = [25,4,63,96,85,75,48,93,82,6]\n",
    "target = 75 \n",
    "for pair in enumerate(ls):\n",
    "    if pair[1] == target:\n",
    "        print(\"your item is present at this location : \", pair[0]) "
   ]
  },
  {
   "cell_type": "code",
   "execution_count": 35,
   "metadata": {},
   "outputs": [
    {
     "name": "stdout",
     "output_type": "stream",
     "text": [
      "position :  0  item :  25\n",
      "position :  1  item :  4\n",
      "position :  2  item :  63\n",
      "position :  3  item :  96\n",
      "position :  4  item :  85\n",
      "position :  5  item :  75\n",
      "position :  6  item :  48\n",
      "position :  7  item :  93\n",
      "position :  8  item :  82\n",
      "position :  9  item :  6\n"
     ]
    }
   ],
   "source": [
    "ls = [25,4,63,96,85,75,48,93,82,6]\n",
    "target = 75 \n",
    "for pos,item in enumerate(ls):\n",
    "    print(\"position : \",pos,\" item : \",item)"
   ]
  },
  {
   "cell_type": "code",
   "execution_count": null,
   "metadata": {},
   "outputs": [
    {
     "name": "stdout",
     "output_type": "stream",
     "text": [
      "position :  5  item :  75\n"
     ]
    }
   ],
   "source": [
    "ls = [25,4,63,96,85,75,48,93,82,6]\n",
    "target = 75 \n",
    "for pos,item in enumerate(ls):\n",
    "    if item == target:\n",
    "        print(\"position : \",pos,\" item : \",item) \n",
    "        "
   ]
  },
  {
   "cell_type": "code",
   "execution_count": 40,
   "metadata": {},
   "outputs": [
    {
     "name": "stdout",
     "output_type": "stream",
     "text": [
      "0\n",
      "1\n",
      "2\n",
      "3\n",
      "4\n",
      "5\n",
      "6\n"
     ]
    }
   ],
   "source": [
    "# loops keywords (break , continue )\n",
    "# what is \"reserved keywords\" in python?\n",
    "for i in range(25):\n",
    "\n",
    "    if i == 7:\n",
    "        break \n",
    "    print(i)"
   ]
  },
  {
   "cell_type": "code",
   "execution_count": 41,
   "metadata": {},
   "outputs": [
    {
     "name": "stdout",
     "output_type": "stream",
     "text": [
      "Nikita\n"
     ]
    }
   ],
   "source": [
    "for i in range(10):\n",
    "    print(\"Nikita\")\n",
    "    break "
   ]
  },
  {
   "cell_type": "code",
   "execution_count": null,
   "metadata": {},
   "outputs": [],
   "source": [
    "for i in range(10):\n",
    "    break  # stop the loop iteration \n",
    "    print(\"Nikita\")\n",
    "     "
   ]
  },
  {
   "cell_type": "code",
   "execution_count": 45,
   "metadata": {},
   "outputs": [
    {
     "name": "stdout",
     "output_type": "stream",
     "text": [
      "0\n",
      "1\n",
      "2\n",
      "3\n",
      "4\n",
      "5\n",
      "7\n",
      "8\n",
      "9\n"
     ]
    }
   ],
   "source": [
    "for i in range(10):\n",
    "    if i == 6: \n",
    "        continue\n",
    "    print(i)"
   ]
  },
  {
   "cell_type": "code",
   "execution_count": null,
   "metadata": {},
   "outputs": [
    {
     "name": "stdout",
     "output_type": "stream",
     "text": [
      "1\n"
     ]
    }
   ],
   "source": [
    "count = 0 #1\n",
    "for i in range(10):\n",
    "    count += 1\n",
    "    break \n",
    "    print(\"nikita\")\n",
    "print(count)"
   ]
  },
  {
   "cell_type": "code",
   "execution_count": null,
   "metadata": {},
   "outputs": [
    {
     "name": "stdout",
     "output_type": "stream",
     "text": [
      "1\n"
     ]
    }
   ],
   "source": [
    "count = 0 #1\n",
    "for i in range(10):\n",
    "    count += 1\n",
    "    continue \n",
    "    print(\"nikita\")\n",
    "print(count)"
   ]
  },
  {
   "cell_type": "code",
   "execution_count": 55,
   "metadata": {},
   "outputs": [
    {
     "name": "stdout",
     "output_type": "stream",
     "text": [
      "Nikita \n",
      "Nikita \n",
      "Nikita \n",
      "Nikita \n",
      "Nikita \n",
      "Nikita \n",
      "Nikita \n",
      "Nikita \n",
      "Nikita \n",
      "Nikita \n"
     ]
    }
   ],
   "source": [
    "for i in range(10):\n",
    "    print(\"Nikita \")\n",
    "    continue "
   ]
  },
  {
   "cell_type": "code",
   "execution_count": null,
   "metadata": {},
   "outputs": [],
   "source": [
    "### while loop (sytex)\n",
    "initialaization \n",
    "while condition: \n",
    "    block of code \n",
    "    increamentation "
   ]
  },
  {
   "cell_type": "code",
   "execution_count": null,
   "metadata": {},
   "outputs": [
    {
     "name": "stdout",
     "output_type": "stream",
     "text": [
      "0   Nikita\n",
      "1   Nikita\n",
      "2   Nikita\n",
      "3   Nikita\n",
      "4   Nikita\n",
      "5   Nikita\n",
      "6   Nikita\n",
      "7   Nikita\n",
      "8   Nikita\n",
      "9   Nikita\n"
     ]
    }
   ],
   "source": [
    "i = 0 \n",
    "while i <= 10:  # True \n",
    "    print(i,\"  Nikita\")  # infinit loop \n",
    "    i += 1"
   ]
  },
  {
   "cell_type": "code",
   "execution_count": null,
   "metadata": {},
   "outputs": [],
   "source": [
    "while \n",
    "2\n",
    "4\n",
    "6\n",
    "8\n",
    "10\n",
    "....\n",
    "100\n",
    "\n"
   ]
  },
  {
   "cell_type": "code",
   "execution_count": null,
   "metadata": {},
   "outputs": [],
   "source": [
    "# for i in range(0,101,2):\n",
    "#     print(i)\n",
    "# 1 btwn 100 even numbers  \n"
   ]
  },
  {
   "cell_type": "code",
   "execution_count": null,
   "metadata": {},
   "outputs": [],
   "source": [
    "10 \n",
    "9 \n",
    "8 \n",
    "7\n",
    "6 \n",
    "5\n",
    "4 \n",
    "3\n",
    "2\n",
    "1 "
   ]
  },
  {
   "cell_type": "code",
   "execution_count": 5,
   "metadata": {},
   "outputs": [
    {
     "name": "stdout",
     "output_type": "stream",
     "text": [
      "10\n",
      "9\n",
      "8\n",
      "7\n",
      "6\n",
      "5\n",
      "4\n",
      "3\n",
      "2\n",
      "1\n"
     ]
    }
   ],
   "source": [
    "i = 10 \n",
    "while i >= 1:\n",
    "    print(i)\n",
    "    i -= 1 "
   ]
  },
  {
   "cell_type": "code",
   "execution_count": 9,
   "metadata": {},
   "outputs": [
    {
     "name": "stdout",
     "output_type": "stream",
     "text": [
      "10\n",
      "9\n",
      "8\n",
      "7\n",
      "4\n",
      "3\n",
      "2\n",
      "1\n"
     ]
    }
   ],
   "source": [
    "# 10\n",
    "# 9\n",
    "# 8\n",
    "# 7\n",
    "# 4\n",
    "# 3\n",
    "# 2\n",
    "# 1\n",
    "\n",
    "i = 11 \n",
    "while i >= 1:\n",
    "    i -= 1 \n",
    "    if i ==5 or i ==6:\n",
    "        continue\n",
    "    if i ==  0:\n",
    "        break\n",
    "    print(i)\n",
    "    "
   ]
  },
  {
   "cell_type": "code",
   "execution_count": null,
   "metadata": {},
   "outputs": [],
   "source": [
    "1. write a program to find square of all even number with in 1 to  50: "
   ]
  },
  {
   "cell_type": "code",
   "execution_count": null,
   "metadata": {},
   "outputs": [],
   "source": [
    "for i in range(1,6):"
   ]
  },
  {
   "cell_type": "code",
   "execution_count": null,
   "metadata": {},
   "outputs": [],
   "source": []
  },
  {
   "cell_type": "code",
   "execution_count": null,
   "metadata": {},
   "outputs": [],
   "source": []
  }
 ],
 "metadata": {
  "kernelspec": {
   "display_name": "Python 3",
   "language": "python",
   "name": "python3"
  },
  "language_info": {
   "codemirror_mode": {
    "name": "ipython",
    "version": 3
   },
   "file_extension": ".py",
   "mimetype": "text/x-python",
   "name": "python",
   "nbconvert_exporter": "python",
   "pygments_lexer": "ipython3",
   "version": "3.12.4"
  }
 },
 "nbformat": 4,
 "nbformat_minor": 2
}

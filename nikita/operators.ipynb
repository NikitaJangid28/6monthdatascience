{
 "cells": [
  {
   "cell_type": "markdown",
   "metadata": {},
   "source": [
    "## Input() function "
   ]
  },
  {
   "cell_type": "code",
   "execution_count": 3,
   "metadata": {},
   "outputs": [
    {
     "name": "stdout",
     "output_type": "stream",
     "text": [
      "True 25.2\n",
      "<class 'str'> <class 'str'>\n"
     ]
    }
   ],
   "source": [
    "num1 = input(\"plz enter first number : \")\n",
    "num2 = input(\"plz enter second number : \")\n",
    "\n",
    "print(num1,num2)\n",
    "print(type(num1),type(num2))"
   ]
  },
  {
   "cell_type": "code",
   "execution_count": 8,
   "metadata": {},
   "outputs": [
    {
     "name": "stdout",
     "output_type": "stream",
     "text": [
      "25 50\n",
      "75\n",
      "<class 'int'> <class 'int'>\n"
     ]
    }
   ],
   "source": [
    "num1 = input(\"plz enter first number : \")\n",
    "num2 = input(\"plz enter second number : \")\n",
    "\n",
    "num1 = int(num1)\n",
    "num2 = int(num2)\n",
    "print(num1,num2)\n",
    "print(num1 + num2)\n",
    "print(type(num1),type(num2))"
   ]
  },
  {
   "cell_type": "code",
   "execution_count": 9,
   "metadata": {},
   "outputs": [
    {
     "name": "stdout",
     "output_type": "stream",
     "text": [
      "25 50\n",
      "75\n",
      "<class 'int'> <class 'int'>\n"
     ]
    }
   ],
   "source": [
    "num1 = int(input(\"plz enter first number : \"))\n",
    "num2 = int(input(\"plz enter second number : \"))\n",
    "\n",
    "\n",
    "print(num1,num2)\n",
    "print(num1 + num2)\n",
    "print(type(num1),type(num2))"
   ]
  },
  {
   "cell_type": "code",
   "execution_count": 10,
   "metadata": {},
   "outputs": [
    {
     "name": "stdout",
     "output_type": "stream",
     "text": [
      "25.25 10.0\n",
      "35.25\n",
      "<class 'float'> <class 'float'>\n"
     ]
    }
   ],
   "source": [
    "num1 = float(input(\"plz enter first number : \"))\n",
    "num2 = float(input(\"plz enter second number : \"))\n",
    "\n",
    "\n",
    "print(num1,num2)\n",
    "print(num1 + num2)\n",
    "print(type(num1),type(num2))"
   ]
  },
  {
   "cell_type": "code",
   "execution_count": 12,
   "metadata": {},
   "outputs": [
    {
     "name": "stdout",
     "output_type": "stream",
     "text": [
      "['25', '10', '20', '30', '40', '50']\n"
     ]
    }
   ],
   "source": [
    "st = \"25 10 20 30 40 50\"\n",
    "output = st.split()\n",
    "print(output) "
   ]
  },
  {
   "cell_type": "code",
   "execution_count": 14,
   "metadata": {},
   "outputs": [
    {
     "name": "stdout",
     "output_type": "stream",
     "text": [
      "['10', '20', '30', '40', '50']\n"
     ]
    }
   ],
   "source": [
    "\n",
    "numbers = input(\"plz enter numbers : \")\n",
    "output = numbers.split()\n",
    "print(output)\n"
   ]
  },
  {
   "cell_type": "code",
   "execution_count": 16,
   "metadata": {},
   "outputs": [
    {
     "name": "stdout",
     "output_type": "stream",
     "text": [
      "['10', '20', '30', '40', '50']\n"
     ]
    }
   ],
   "source": [
    "numbers = input(\"plz enter numbers : \").split()\n",
    "print(numbers)"
   ]
  },
  {
   "cell_type": "code",
   "execution_count": 19,
   "metadata": {},
   "outputs": [
    {
     "name": "stdout",
     "output_type": "stream",
     "text": [
      "['10', '20', '30', '40', '50']\n"
     ]
    }
   ],
   "source": [
    "numbers = input(\"plz enter numbers : \").split(\",\")\n",
    "print(numbers)"
   ]
  },
  {
   "cell_type": "code",
   "execution_count": null,
   "metadata": {},
   "outputs": [],
   "source": [
    "numbers = input(\"plz enter numbers : \").split(\",\")\n",
    "print(numbers)"
   ]
  },
  {
   "cell_type": "code",
   "execution_count": 21,
   "metadata": {},
   "outputs": [
    {
     "ename": "ValueError",
     "evalue": "invalid literal for int() with base 10: 'nikki'",
     "output_type": "error",
     "traceback": [
      "\u001b[1;31m---------------------------------------------------------------------------\u001b[0m",
      "\u001b[1;31mValueError\u001b[0m                                Traceback (most recent call last)",
      "Cell \u001b[1;32mIn[21], line 1\u001b[0m\n\u001b[1;32m----> 1\u001b[0m numbers \u001b[38;5;241m=\u001b[39m \u001b[38;5;28;43mint\u001b[39;49m\u001b[43m(\u001b[49m\u001b[38;5;28;43minput\u001b[39;49m\u001b[43m(\u001b[49m\u001b[38;5;124;43m\"\u001b[39;49m\u001b[38;5;124;43mplz enter numbers : \u001b[39;49m\u001b[38;5;124;43m\"\u001b[39;49m\u001b[43m)\u001b[49m\u001b[43m)\u001b[49m\n\u001b[0;32m      2\u001b[0m \u001b[38;5;28mprint\u001b[39m(numbers)\n",
      "\u001b[1;31mValueError\u001b[0m: invalid literal for int() with base 10: 'nikki'"
     ]
    }
   ],
   "source": [
    "numbers = int(input(\"plz enter numbers : \"))\n",
    "print(numbers)\n"
   ]
  },
  {
   "cell_type": "code",
   "execution_count": null,
   "metadata": {},
   "outputs": [],
   "source": [
    "# string to int ==> 0-9"
   ]
  },
  {
   "cell_type": "code",
   "execution_count": 25,
   "metadata": {},
   "outputs": [
    {
     "name": "stdout",
     "output_type": "stream",
     "text": [
      "nikki\n",
      "<class 'str'>\n"
     ]
    }
   ],
   "source": [
    "input_data = eval(input(\"plz enter something : \"))\n",
    "print(input_data)\n",
    "print(type(input_data))  ## \"nikki\" "
   ]
  },
  {
   "cell_type": "code",
   "execution_count": null,
   "metadata": {},
   "outputs": [
    {
     "name": "stdout",
     "output_type": "stream",
     "text": [
      "25\n",
      "<class 'int'>\n"
     ]
    }
   ],
   "source": [
    "input_data = eval(input(\"plz enter something : \"))\n",
    "print(input_data)\n",
    "print(type(input_data))  ## 25 "
   ]
  },
  {
   "cell_type": "code",
   "execution_count": null,
   "metadata": {},
   "outputs": [
    {
     "name": "stdout",
     "output_type": "stream",
     "text": [
      "52.2\n",
      "<class 'float'>\n"
     ]
    }
   ],
   "source": [
    "input_data = eval(input(\"plz enter something : \"))\n",
    "print(input_data)\n",
    "print(type(input_data))  ## 52.2 "
   ]
  },
  {
   "cell_type": "code",
   "execution_count": null,
   "metadata": {},
   "outputs": [
    {
     "name": "stdout",
     "output_type": "stream",
     "text": [
      "True\n",
      "<class 'bool'>\n"
     ]
    }
   ],
   "source": [
    "input_data = eval(input(\"plz enter something : \"))\n",
    "print(input_data)\n",
    "print(type(input_data))  ## True"
   ]
  },
  {
   "cell_type": "code",
   "execution_count": null,
   "metadata": {},
   "outputs": [
    {
     "name": "stdout",
     "output_type": "stream",
     "text": [
      "[10, 20, 30]\n",
      "<class 'list'>\n"
     ]
    }
   ],
   "source": [
    "input_data = eval(input(\"plz enter something : \"))\n",
    "print(input_data)\n",
    "print(type(input_data))  ## [10, 20, 30]\n"
   ]
  },
  {
   "cell_type": "code",
   "execution_count": null,
   "metadata": {},
   "outputs": [
    {
     "name": "stdout",
     "output_type": "stream",
     "text": [
      "(10, 20, 30)\n",
      "<class 'tuple'>\n"
     ]
    }
   ],
   "source": [
    "input_data = eval(input(\"plz enter something : \"))\n",
    "print(input_data)\n",
    "print(type(input_data))  ## (10, 20, 30)\n"
   ]
  },
  {
   "cell_type": "code",
   "execution_count": null,
   "metadata": {},
   "outputs": [
    {
     "name": "stdout",
     "output_type": "stream",
     "text": [
      "{'name': 'nikita jangid', 'city': 'bikaner'}\n",
      "<class 'dict'>\n"
     ]
    }
   ],
   "source": [
    "input_data = eval(input(\"plz enter something : \"))\n",
    "print(input_data)\n",
    "print(type(input_data))  ## {'name': 'nikita jangid', 'city': 'bikaner'}"
   ]
  },
  {
   "cell_type": "code",
   "execution_count": null,
   "metadata": {},
   "outputs": [
    {
     "name": "stdout",
     "output_type": "stream",
     "text": [
      "{10, 20}\n",
      "<class 'set'>\n"
     ]
    }
   ],
   "source": [
    "input_data = eval(input(\"plz enter something : \"))\n",
    "print(input_data)\n",
    "print(type(input_data))  ## {10,20,10}\n"
   ]
  },
  {
   "cell_type": "markdown",
   "metadata": {},
   "source": [
    "###  Arithmatic operator (+ ,- ,* ,/, %, ** ,//)"
   ]
  },
  {
   "cell_type": "code",
   "execution_count": null,
   "metadata": {},
   "outputs": [
    {
     "name": "stdout",
     "output_type": "stream",
     "text": [
      "30\n"
     ]
    }
   ],
   "source": [
    "num1 = int(input(\"plz enter your number : \"))\n",
    "num2 = int(input(\"plz enter your number : \"))\n",
    "\n",
    "print(num1 + num2)"
   ]
  },
  {
   "cell_type": "code",
   "execution_count": 36,
   "metadata": {},
   "outputs": [
    {
     "name": "stdout",
     "output_type": "stream",
     "text": [
      "passed numbers :  50 25\n",
      "25\n"
     ]
    }
   ],
   "source": [
    "num1 = int(input(\"plz enter your number : \"))\n",
    "num2 = int(input(\"plz enter your number : \"))\n",
    "print(\"passed numbers : \",num1 , num2)\n",
    "print(num1 - num2)"
   ]
  },
  {
   "cell_type": "code",
   "execution_count": 37,
   "metadata": {},
   "outputs": [
    {
     "name": "stdout",
     "output_type": "stream",
     "text": [
      "passed numbers :  2 2\n",
      "4\n"
     ]
    }
   ],
   "source": [
    "num1 = int(input(\"plz enter your number : \"))\n",
    "num2 = int(input(\"plz enter your number : \"))\n",
    "print(\"passed numbers : \",num1 , num2)\n",
    "print(num1 * num2)"
   ]
  },
  {
   "cell_type": "code",
   "execution_count": 39,
   "metadata": {},
   "outputs": [
    {
     "name": "stdout",
     "output_type": "stream",
     "text": [
      "passed numbers :  10 5\n",
      "2.0\n"
     ]
    }
   ],
   "source": [
    "num1 = int(input(\"plz enter your number : \"))\n",
    "num2 = int(input(\"plz enter your number : \"))\n",
    "print(\"passed numbers : \",num1 , num2)\n",
    "print(num1 / num2)"
   ]
  },
  {
   "cell_type": "code",
   "execution_count": 47,
   "metadata": {},
   "outputs": [
    {
     "name": "stdout",
     "output_type": "stream",
     "text": [
      "passed numbers :  15 2\n",
      "7\n"
     ]
    }
   ],
   "source": [
    "num1 = int(input(\"plz enter your number : \"))\n",
    "num2 = int(input(\"plz enter your number : \"))\n",
    "print(\"passed numbers : \",num1 , num2)\n",
    "output = num1 // num2\n",
    "print(output)"
   ]
  },
  {
   "cell_type": "code",
   "execution_count": 49,
   "metadata": {},
   "outputs": [
    {
     "name": "stdout",
     "output_type": "stream",
     "text": [
      "27\n"
     ]
    }
   ],
   "source": [
    "num1 = 3 \n",
    "num2 = 3 \n",
    "print(num1 **  num2)  "
   ]
  },
  {
   "cell_type": "code",
   "execution_count": 50,
   "metadata": {},
   "outputs": [
    {
     "name": "stdout",
     "output_type": "stream",
     "text": [
      "0\n"
     ]
    }
   ],
   "source": [
    "# %  \n",
    "num1 = 9 \n",
    "num2 = 3 \n",
    "print(num1 % num2 )"
   ]
  },
  {
   "cell_type": "code",
   "execution_count": 51,
   "metadata": {},
   "outputs": [
    {
     "name": "stdout",
     "output_type": "stream",
     "text": [
      "1\n"
     ]
    }
   ],
   "source": [
    "num1 = 10 \n",
    "num2 = 3 \n",
    "print(num1 % num2 )"
   ]
  },
  {
   "cell_type": "code",
   "execution_count": 52,
   "metadata": {},
   "outputs": [
    {
     "name": "stdout",
     "output_type": "stream",
     "text": [
      "2\n"
     ]
    }
   ],
   "source": [
    "num1 = 17 \n",
    "num2 = 5\n",
    "print(num1 % num2 )"
   ]
  },
  {
   "cell_type": "markdown",
   "metadata": {},
   "source": [
    "### Assignment operators "
   ]
  },
  {
   "cell_type": "code",
   "execution_count": null,
   "metadata": {},
   "outputs": [],
   "source": [
    "var1 = 20 \n"
   ]
  },
  {
   "cell_type": "code",
   "execution_count": 5,
   "metadata": {},
   "outputs": [
    {
     "name": "stdout",
     "output_type": "stream",
     "text": [
      "5\n"
     ]
    }
   ],
   "source": [
    "# +=  \n",
    "x = 5 \n",
    "print(x)"
   ]
  },
  {
   "cell_type": "code",
   "execution_count": 4,
   "metadata": {},
   "outputs": [
    {
     "name": "stdout",
     "output_type": "stream",
     "text": [
      "7\n"
     ]
    }
   ],
   "source": [
    "x = x + 2\n",
    "print(x)"
   ]
  },
  {
   "cell_type": "code",
   "execution_count": 6,
   "metadata": {},
   "outputs": [
    {
     "name": "stdout",
     "output_type": "stream",
     "text": [
      "7\n"
     ]
    }
   ],
   "source": [
    "x = 5 \n",
    "x += 2      # or x = x + 2\n",
    "print(x)"
   ]
  },
  {
   "cell_type": "code",
   "execution_count": 8,
   "metadata": {},
   "outputs": [],
   "source": [
    "x += 3 "
   ]
  },
  {
   "cell_type": "code",
   "execution_count": 10,
   "metadata": {},
   "outputs": [
    {
     "data": {
      "text/plain": [
       "10"
      ]
     },
     "execution_count": 10,
     "metadata": {},
     "output_type": "execute_result"
    }
   ],
   "source": [
    "x "
   ]
  },
  {
   "cell_type": "code",
   "execution_count": 11,
   "metadata": {},
   "outputs": [
    {
     "name": "stdout",
     "output_type": "stream",
     "text": [
      "15\n"
     ]
    }
   ],
   "source": [
    "x = x + 5 \n",
    "print(x) "
   ]
  },
  {
   "cell_type": "code",
   "execution_count": 12,
   "metadata": {},
   "outputs": [
    {
     "name": "stdout",
     "output_type": "stream",
     "text": [
      "16\n"
     ]
    }
   ],
   "source": [
    "x += 1\n",
    "print(x) "
   ]
  },
  {
   "cell_type": "code",
   "execution_count": null,
   "metadata": {},
   "outputs": [],
   "source": [
    "# increment & decrement operator  \n",
    "#  ++               -- "
   ]
  },
  {
   "cell_type": "code",
   "execution_count": 15,
   "metadata": {},
   "outputs": [
    {
     "name": "stdout",
     "output_type": "stream",
     "text": [
      "11\n"
     ]
    }
   ],
   "source": [
    "x -= 5 \n",
    "print(x) "
   ]
  },
  {
   "cell_type": "code",
   "execution_count": 16,
   "metadata": {},
   "outputs": [
    {
     "name": "stdout",
     "output_type": "stream",
     "text": [
      "22\n"
     ]
    }
   ],
   "source": [
    "x *= 2 \n",
    "print(x) "
   ]
  },
  {
   "cell_type": "code",
   "execution_count": null,
   "metadata": {},
   "outputs": [
    {
     "name": "stdout",
     "output_type": "stream",
     "text": [
      "11.0\n"
     ]
    }
   ],
   "source": [
    "x /= 2   # x = x / 2 \n",
    "print(x) "
   ]
  },
  {
   "cell_type": "code",
   "execution_count": 19,
   "metadata": {},
   "outputs": [
    {
     "name": "stdout",
     "output_type": "stream",
     "text": [
      "1.0\n"
     ]
    }
   ],
   "source": [
    "x  %= 2    # x = x % 2   or 11 % 2 \n",
    "print(x) "
   ]
  },
  {
   "cell_type": "markdown",
   "metadata": {},
   "source": [
    "## comparison operators "
   ]
  },
  {
   "cell_type": "code",
   "execution_count": 23,
   "metadata": {},
   "outputs": [
    {
     "name": "stdout",
     "output_type": "stream",
     "text": [
      "False\n"
     ]
    }
   ],
   "source": [
    "a  = 10 \n",
    "b = 15\n",
    "print(a == b)"
   ]
  },
  {
   "cell_type": "code",
   "execution_count": 24,
   "metadata": {},
   "outputs": [
    {
     "name": "stdout",
     "output_type": "stream",
     "text": [
      "True\n"
     ]
    }
   ],
   "source": [
    "a  = 10 \n",
    "b = 15\n",
    "print(a != b)"
   ]
  },
  {
   "cell_type": "code",
   "execution_count": 25,
   "metadata": {},
   "outputs": [
    {
     "name": "stdout",
     "output_type": "stream",
     "text": [
      "False\n"
     ]
    }
   ],
   "source": [
    "a  = 10 \n",
    "b = 10\n",
    "print(a != b)"
   ]
  },
  {
   "cell_type": "code",
   "execution_count": 29,
   "metadata": {},
   "outputs": [
    {
     "name": "stdout",
     "output_type": "stream",
     "text": [
      "True\n"
     ]
    }
   ],
   "source": [
    "age = 25 \n",
    "print(age < 30)"
   ]
  },
  {
   "cell_type": "code",
   "execution_count": 39,
   "metadata": {},
   "outputs": [
    {
     "name": "stdout",
     "output_type": "stream",
     "text": [
      "False\n"
     ]
    }
   ],
   "source": [
    "age = 25 \n",
    "print(age >= 50)"
   ]
  },
  {
   "cell_type": "code",
   "execution_count": null,
   "metadata": {},
   "outputs": [
    {
     "name": "stdout",
     "output_type": "stream",
     "text": [
      "you can also vote!\n"
     ]
    }
   ],
   "source": [
    "# conditional statements  (if-else-elif statement) \n",
    "age  = 18 \n",
    "if age == 18:\n",
    "    print(\"you can also vote!\")\n",
    "elif age > 18 :\n",
    "    print(\"you can vote \")\n",
    "else:\n",
    "    print(\"you cant vote\")\n"
   ]
  },
  {
   "cell_type": "code",
   "execution_count": 44,
   "metadata": {},
   "outputs": [
    {
     "name": "stdout",
     "output_type": "stream",
     "text": [
      "go back your home today is sunday\n"
     ]
    }
   ],
   "source": [
    "day = \"sunday\" \n",
    "if day == \"monday\":\n",
    "    print('welcome to you in office ')\n",
    "if day == \"sunday\":\n",
    "    print(\"go back your home today is sunday\")\n",
    "elif day == \"tuesday\":\n",
    "    print(\"welcome to you in office\") \n",
    "elif day == \"friday\":\n",
    "    print(\"welcome to you in office\")\n",
    "else:\n",
    "    print(\"i dont know \")"
   ]
  },
  {
   "cell_type": "code",
   "execution_count": 50,
   "metadata": {},
   "outputs": [
    {
     "name": "stdout",
     "output_type": "stream",
     "text": [
      "True\n"
     ]
    }
   ],
   "source": [
    "age = 21 \n",
    "print(age >= 21)"
   ]
  },
  {
   "cell_type": "code",
   "execution_count": 51,
   "metadata": {},
   "outputs": [
    {
     "name": "stdout",
     "output_type": "stream",
     "text": [
      "C is greater\n"
     ]
    }
   ],
   "source": [
    "a = 10 \n",
    "b = 15 \n",
    "c = 20 \n",
    "if a > b and a > c: \n",
    "    print(\"A is greatest\") \n",
    "elif b > a and b > c: \n",
    "    print(\" B is greater \")\n",
    "elif c > a and c > b: \n",
    "    print(\"C is greater\")"
   ]
  },
  {
   "cell_type": "code",
   "execution_count": null,
   "metadata": {},
   "outputs": [
    {
     "name": "stdout",
     "output_type": "stream",
     "text": [
      "out of range\n"
     ]
    }
   ],
   "source": [
    "num = 35\n",
    "if num > 10 and num < 50:\n",
    "    print(\"number in btwn 10 to 50\") \n",
    "else : \n",
    "    print('out of range') "
   ]
  },
  {
   "cell_type": "code",
   "execution_count": 58,
   "metadata": {},
   "outputs": [
    {
     "name": "stdout",
     "output_type": "stream",
     "text": [
      "False\n"
     ]
    }
   ],
   "source": [
    "print(not True)"
   ]
  },
  {
   "cell_type": "code",
   "execution_count": 59,
   "metadata": {},
   "outputs": [
    {
     "name": "stdout",
     "output_type": "stream",
     "text": [
      "you can vote\n"
     ]
    }
   ],
   "source": [
    "age = 21 \n",
    "if not age > 18:\n",
    "    print(\"you cant vote1\")\n",
    "else: \n",
    "    print(\"you can vote\") "
   ]
  },
  {
   "cell_type": "code",
   "execution_count": null,
   "metadata": {},
   "outputs": [
    {
     "name": "stdout",
     "output_type": "stream",
     "text": [
      "50\n"
     ]
    }
   ],
   "source": [
    "num1 = int(input(\"plz enter your first number : \"))\n",
    "operation = input(\"plz enter operation (+ * - / ) : \")\n",
    "num2 = int(input(\"plz enter your second number : \"))\n",
    "print(f\"first number is {num1} and operation is {operation} and second number is {num2}\")\n",
    "if operation == \"+\": \n",
    "    print(num1 + num2)  \n",
    "elif operation == \"-\": \n",
    "    print(num1 - num2)\n",
    "elif operation == \"*\": \n",
    "    print(num1 * num2) \n",
    "elif operation == \"/\": \n",
    "    print(num1 / num2) \n",
    "else:\n",
    "    print(\"plz pass valid input operation!\")"
   ]
  },
  {
   "cell_type": "markdown",
   "metadata": {},
   "source": [
    "### membership operator \n",
    "1.  in \n",
    "2. not in"
   ]
  },
  {
   "cell_type": "code",
   "execution_count": 62,
   "metadata": {},
   "outputs": [
    {
     "name": "stdout",
     "output_type": "stream",
     "text": [
      "he is not my family memebers\n"
     ]
    }
   ],
   "source": [
    "family_memebers = [\"raju\",'mohan','sohil','kanak','bharat'] \n",
    "\n",
    "if \"nikita\" in family_memebers:\n",
    "    print(\"he is your family member\")\n",
    "else:\n",
    "    print(\"he is not my family memebers\") "
   ]
  },
  {
   "cell_type": "code",
   "execution_count": 64,
   "metadata": {},
   "outputs": [
    {
     "name": "stdout",
     "output_type": "stream",
     "text": [
      "he is not your family member\n"
     ]
    }
   ],
   "source": [
    "family_memebers = [\"raju\",'mohan','sohil','kanak','bharat'] \n",
    "\n",
    "if \"nikita\" not in family_memebers:\n",
    "    print(\"he is not your family member\")\n",
    "else:\n",
    "    print(\"he is  my family memebers\") "
   ]
  },
  {
   "cell_type": "code",
   "execution_count": null,
   "metadata": {},
   "outputs": [
    {
     "data": {
      "text/plain": [
       "True"
      ]
     },
     "execution_count": 66,
     "metadata": {},
     "output_type": "execute_result"
    }
   ],
   "source": [
    "\"kanak\" not in family_memebers"
   ]
  },
  {
   "cell_type": "code",
   "execution_count": 71,
   "metadata": {},
   "outputs": [
    {
     "name": "stdout",
     "output_type": "stream",
     "text": [
      "i dont know, and go away from my home   radhey\n"
     ]
    }
   ],
   "source": [
    "family_memebers = [\"raju\",'mohan','sohil','kanak','bharat'] \n",
    "neighbours = ['mohan','rocky','neeta','komal'] \n",
    "\n",
    "name = input(\"enter your name plzz  : \")\n",
    "if name in family_memebers:\n",
    "    print(\"you are welcome in my home  \",name) \n",
    "elif name in neighbours:\n",
    "    print(\"you are also welcome  \",name) \n",
    "else:\n",
    "    print(\"i dont know, and go away from my home  \", name)"
   ]
  },
  {
   "cell_type": "code",
   "execution_count": 78,
   "metadata": {},
   "outputs": [
    {
     "name": "stdout",
     "output_type": "stream",
     "text": [
      "you are most welcome  😘😁😀 nikita\n"
     ]
    }
   ],
   "source": [
    "### nested conditional statement \n",
    "family_memebers = [\"raju\",'mohan','sohil','kanak','bharat'] \n",
    "neighbours = ['mohan','rocky','neeta','komal','nikita'] \n",
    "favourate_neighbours = ['nikita','kanak','mohit','sarala']\n",
    "\n",
    "name = input(\"enter your name plzz  : \")\n",
    "if name in family_memebers:\n",
    "    print(\"you are welcome in my home  \",name) \n",
    "elif name in neighbours:\n",
    "    if name in favourate_neighbours:\n",
    "        print(\"you are most welcome  😘😁😀\",name) \n",
    "    else:\n",
    "        print(\"okay welcome 😕😕\")\n",
    "else:\n",
    "    print(\"i dont know, and go away from my home  \", name)"
   ]
  },
  {
   "cell_type": "markdown",
   "metadata": {},
   "source": [
    "## identity operation"
   ]
  },
  {
   "cell_type": "code",
   "execution_count": null,
   "metadata": {},
   "outputs": [],
   "source": [
    "is \n",
    "is not \n",
    "\n",
    "# difference btwn \"is\" and \"==\" "
   ]
  },
  {
   "cell_type": "code",
   "execution_count": null,
   "metadata": {},
   "outputs": [
    {
     "name": "stdout",
     "output_type": "stream",
     "text": [
      "True\n"
     ]
    }
   ],
   "source": [
    "x = ['banana','apple']\n",
    "y = ['banana','apple'] \n",
    "print(x == y )         # values "
   ]
  },
  {
   "cell_type": "code",
   "execution_count": 3,
   "metadata": {},
   "outputs": [
    {
     "name": "stdout",
     "output_type": "stream",
     "text": [
      "False\n"
     ]
    }
   ],
   "source": [
    "print(x is y) "
   ]
  },
  {
   "cell_type": "code",
   "execution_count": 4,
   "metadata": {},
   "outputs": [],
   "source": [
    "z = x "
   ]
  },
  {
   "cell_type": "code",
   "execution_count": 7,
   "metadata": {},
   "outputs": [
    {
     "name": "stdout",
     "output_type": "stream",
     "text": [
      "True\n"
     ]
    }
   ],
   "source": [
    "print(x is z)"
   ]
  },
  {
   "cell_type": "code",
   "execution_count": 10,
   "metadata": {},
   "outputs": [
    {
     "data": {
      "text/plain": [
       "'apple'"
      ]
     },
     "execution_count": 10,
     "metadata": {},
     "output_type": "execute_result"
    }
   ],
   "source": [
    "z.pop()"
   ]
  },
  {
   "cell_type": "code",
   "execution_count": 11,
   "metadata": {},
   "outputs": [
    {
     "data": {
      "text/plain": [
       "['banana']"
      ]
     },
     "execution_count": 11,
     "metadata": {},
     "output_type": "execute_result"
    }
   ],
   "source": [
    "z"
   ]
  },
  {
   "cell_type": "code",
   "execution_count": 12,
   "metadata": {},
   "outputs": [
    {
     "data": {
      "text/plain": [
       "['banana']"
      ]
     },
     "execution_count": 12,
     "metadata": {},
     "output_type": "execute_result"
    }
   ],
   "source": [
    "x"
   ]
  },
  {
   "cell_type": "code",
   "execution_count": null,
   "metadata": {},
   "outputs": [],
   "source": []
  },
  {
   "cell_type": "code",
   "execution_count": null,
   "metadata": {},
   "outputs": [],
   "source": []
  }
 ],
 "metadata": {
  "kernelspec": {
   "display_name": "Python 3",
   "language": "python",
   "name": "python3"
  },
  "language_info": {
   "codemirror_mode": {
    "name": "ipython",
    "version": 3
   },
   "file_extension": ".py",
   "mimetype": "text/x-python",
   "name": "python",
   "nbconvert_exporter": "python",
   "pygments_lexer": "ipython3",
   "version": "3.12.4"
  }
 },
 "nbformat": 4,
 "nbformat_minor": 2
}

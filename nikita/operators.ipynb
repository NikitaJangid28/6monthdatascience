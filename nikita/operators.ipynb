{
 "cells": [
  {
   "cell_type": "markdown",
   "metadata": {},
   "source": [
    "### Arithmatic operators "
   ]
  },
  {
   "cell_type": "code",
   "execution_count": 3,
   "metadata": {},
   "outputs": [
    {
     "name": "stdout",
     "output_type": "stream",
     "text": [
      "True 25.2\n",
      "<class 'str'> <class 'str'>\n"
     ]
    }
   ],
   "source": [
    "num1 = input(\"plz enter first number : \")\n",
    "num2 = input(\"plz enter second number : \")\n",
    "\n",
    "print(num1,num2)\n",
    "print(type(num1),type(num2))"
   ]
  },
  {
   "cell_type": "code",
   "execution_count": 8,
   "metadata": {},
   "outputs": [
    {
     "name": "stdout",
     "output_type": "stream",
     "text": [
      "25 50\n",
      "75\n",
      "<class 'int'> <class 'int'>\n"
     ]
    }
   ],
   "source": [
    "num1 = input(\"plz enter first number : \")\n",
    "num2 = input(\"plz enter second number : \")\n",
    "\n",
    "num1 = int(num1)\n",
    "num2 = int(num2)\n",
    "print(num1,num2)\n",
    "print(num1 + num2)\n",
    "print(type(num1),type(num2))"
   ]
  },
  {
   "cell_type": "code",
   "execution_count": 9,
   "metadata": {},
   "outputs": [
    {
     "name": "stdout",
     "output_type": "stream",
     "text": [
      "25 50\n",
      "75\n",
      "<class 'int'> <class 'int'>\n"
     ]
    }
   ],
   "source": [
    "num1 = int(input(\"plz enter first number : \"))\n",
    "num2 = int(input(\"plz enter second number : \"))\n",
    "\n",
    "\n",
    "print(num1,num2)\n",
    "print(num1 + num2)\n",
    "print(type(num1),type(num2))"
   ]
  },
  {
   "cell_type": "code",
   "execution_count": 10,
   "metadata": {},
   "outputs": [
    {
     "name": "stdout",
     "output_type": "stream",
     "text": [
      "25.25 10.0\n",
      "35.25\n",
      "<class 'float'> <class 'float'>\n"
     ]
    }
   ],
   "source": [
    "num1 = float(input(\"plz enter first number : \"))\n",
    "num2 = float(input(\"plz enter second number : \"))\n",
    "\n",
    "\n",
    "print(num1,num2)\n",
    "print(num1 + num2)\n",
    "print(type(num1),type(num2))"
   ]
  },
  {
   "cell_type": "code",
   "execution_count": 12,
   "metadata": {},
   "outputs": [
    {
     "name": "stdout",
     "output_type": "stream",
     "text": [
      "['25', '10', '20', '30', '40', '50']\n"
     ]
    }
   ],
   "source": [
    "st = \"25 10 20 30 40 50\"\n",
    "output = st.split()\n",
    "print(output) "
   ]
  },
  {
   "cell_type": "code",
   "execution_count": 14,
   "metadata": {},
   "outputs": [
    {
     "name": "stdout",
     "output_type": "stream",
     "text": [
      "['10', '20', '30', '40', '50']\n"
     ]
    }
   ],
   "source": [
    "\n",
    "numbers = input(\"plz enter numbers : \")\n",
    "output = numbers.split()\n",
    "print(output)\n"
   ]
  },
  {
   "cell_type": "code",
   "execution_count": 16,
   "metadata": {},
   "outputs": [
    {
     "name": "stdout",
     "output_type": "stream",
     "text": [
      "['10', '20', '30', '40', '50']\n"
     ]
    }
   ],
   "source": [
    "numbers = input(\"plz enter numbers : \").split()\n",
    "print(numbers)"
   ]
  },
  {
   "cell_type": "code",
   "execution_count": 19,
   "metadata": {},
   "outputs": [
    {
     "name": "stdout",
     "output_type": "stream",
     "text": [
      "['10', '20', '30', '40', '50']\n"
     ]
    }
   ],
   "source": [
    "numbers = input(\"plz enter numbers : \").split(\",\")\n",
    "print(numbers)"
   ]
  },
  {
   "cell_type": "code",
   "execution_count": null,
   "metadata": {},
   "outputs": [],
   "source": [
    "numbers = input(\"plz enter numbers : \").split(\",\")\n",
    "print(numbers)"
   ]
  },
  {
   "cell_type": "code",
   "execution_count": 21,
   "metadata": {},
   "outputs": [
    {
     "ename": "ValueError",
     "evalue": "invalid literal for int() with base 10: 'nikki'",
     "output_type": "error",
     "traceback": [
      "\u001b[1;31m---------------------------------------------------------------------------\u001b[0m",
      "\u001b[1;31mValueError\u001b[0m                                Traceback (most recent call last)",
      "Cell \u001b[1;32mIn[21], line 1\u001b[0m\n\u001b[1;32m----> 1\u001b[0m numbers \u001b[38;5;241m=\u001b[39m \u001b[38;5;28;43mint\u001b[39;49m\u001b[43m(\u001b[49m\u001b[38;5;28;43minput\u001b[39;49m\u001b[43m(\u001b[49m\u001b[38;5;124;43m\"\u001b[39;49m\u001b[38;5;124;43mplz enter numbers : \u001b[39;49m\u001b[38;5;124;43m\"\u001b[39;49m\u001b[43m)\u001b[49m\u001b[43m)\u001b[49m\n\u001b[0;32m      2\u001b[0m \u001b[38;5;28mprint\u001b[39m(numbers)\n",
      "\u001b[1;31mValueError\u001b[0m: invalid literal for int() with base 10: 'nikki'"
     ]
    }
   ],
   "source": [
    "numbers = int(input(\"plz enter numbers : \"))\n",
    "print(numbers)\n"
   ]
  },
  {
   "cell_type": "code",
   "execution_count": null,
   "metadata": {},
   "outputs": [],
   "source": [
    "# string to int ==> 0-9"
   ]
  },
  {
   "cell_type": "code",
   "execution_count": 25,
   "metadata": {},
   "outputs": [
    {
     "name": "stdout",
     "output_type": "stream",
     "text": [
      "nikki\n",
      "<class 'str'>\n"
     ]
    }
   ],
   "source": [
    "input_data = eval(input(\"plz enter something : \"))\n",
    "print(input_data)\n",
    "print(type(input_data))  ## \"nikki\" "
   ]
  },
  {
   "cell_type": "code",
   "execution_count": null,
   "metadata": {},
   "outputs": [
    {
     "name": "stdout",
     "output_type": "stream",
     "text": [
      "25\n",
      "<class 'int'>\n"
     ]
    }
   ],
   "source": [
    "input_data = eval(input(\"plz enter something : \"))\n",
    "print(input_data)\n",
    "print(type(input_data))  ## 25 "
   ]
  },
  {
   "cell_type": "code",
   "execution_count": null,
   "metadata": {},
   "outputs": [
    {
     "name": "stdout",
     "output_type": "stream",
     "text": [
      "52.2\n",
      "<class 'float'>\n"
     ]
    }
   ],
   "source": [
    "input_data = eval(input(\"plz enter something : \"))\n",
    "print(input_data)\n",
    "print(type(input_data))  ## 52.2 "
   ]
  },
  {
   "cell_type": "code",
   "execution_count": null,
   "metadata": {},
   "outputs": [
    {
     "name": "stdout",
     "output_type": "stream",
     "text": [
      "True\n",
      "<class 'bool'>\n"
     ]
    }
   ],
   "source": [
    "input_data = eval(input(\"plz enter something : \"))\n",
    "print(input_data)\n",
    "print(type(input_data))  ## True"
   ]
  },
  {
   "cell_type": "code",
   "execution_count": null,
   "metadata": {},
   "outputs": [
    {
     "name": "stdout",
     "output_type": "stream",
     "text": [
      "[10, 20, 30]\n",
      "<class 'list'>\n"
     ]
    }
   ],
   "source": [
    "input_data = eval(input(\"plz enter something : \"))\n",
    "print(input_data)\n",
    "print(type(input_data))  ## [10, 20, 30]\n"
   ]
  },
  {
   "cell_type": "code",
   "execution_count": null,
   "metadata": {},
   "outputs": [
    {
     "name": "stdout",
     "output_type": "stream",
     "text": [
      "(10, 20, 30)\n",
      "<class 'tuple'>\n"
     ]
    }
   ],
   "source": [
    "input_data = eval(input(\"plz enter something : \"))\n",
    "print(input_data)\n",
    "print(type(input_data))  ## (10, 20, 30)\n"
   ]
  },
  {
   "cell_type": "code",
   "execution_count": null,
   "metadata": {},
   "outputs": [
    {
     "name": "stdout",
     "output_type": "stream",
     "text": [
      "{'name': 'nikita jangid', 'city': 'bikaner'}\n",
      "<class 'dict'>\n"
     ]
    }
   ],
   "source": [
    "input_data = eval(input(\"plz enter something : \"))\n",
    "print(input_data)\n",
    "print(type(input_data))  ## {'name': 'nikita jangid', 'city': 'bikaner'}"
   ]
  },
  {
   "cell_type": "code",
   "execution_count": null,
   "metadata": {},
   "outputs": [
    {
     "name": "stdout",
     "output_type": "stream",
     "text": [
      "{10, 20}\n",
      "<class 'set'>\n"
     ]
    }
   ],
   "source": [
    "input_data = eval(input(\"plz enter something : \"))\n",
    "print(input_data)\n",
    "print(type(input_data))  ## {10,20,10}\n"
   ]
  }
 ],
 "metadata": {
  "kernelspec": {
   "display_name": "Python 3",
   "language": "python",
   "name": "python3"
  },
  "language_info": {
   "codemirror_mode": {
    "name": "ipython",
    "version": 3
   },
   "file_extension": ".py",
   "mimetype": "text/x-python",
   "name": "python",
   "nbconvert_exporter": "python",
   "pygments_lexer": "ipython3",
   "version": "3.12.4"
  }
 },
 "nbformat": 4,
 "nbformat_minor": 2
}

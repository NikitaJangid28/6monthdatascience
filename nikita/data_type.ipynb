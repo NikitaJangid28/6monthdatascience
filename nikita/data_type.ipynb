{
 "cells": [
  {
   "cell_type": "code",
   "execution_count": 1,
   "metadata": {},
   "outputs": [
    {
     "name": "stdout",
     "output_type": "stream",
     "text": [
      "hello world\n"
     ]
    }
   ],
   "source": [
    "print(\"hello world\")"
   ]
  },
  {
   "cell_type": "markdown",
   "metadata": {},
   "source": [
    "### Tuple "
   ]
  },
  {
   "cell_type": "code",
   "execution_count": 4,
   "metadata": {},
   "outputs": [
    {
     "name": "stdout",
     "output_type": "stream",
     "text": [
      "(10, 20, 30, 25.2, 45.2, True, 'bikaner')\n",
      "<class 'tuple'>\n"
     ]
    }
   ],
   "source": [
    "## differnt way of creating tuple \n",
    "tpl = (10,20,30,25.2,45.2,True,\"bikaner\")\n",
    "print(tpl)\n",
    "print(type(tpl))"
   ]
  },
  {
   "cell_type": "code",
   "execution_count": 12,
   "metadata": {},
   "outputs": [
    {
     "name": "stdout",
     "output_type": "stream",
     "text": [
      "(10, 20, 30, 25.2, 45.2, True, 'bikaner')\n",
      "<class 'tuple'>\n"
     ]
    }
   ],
   "source": [
    "tpl = 10,20,30,25.2,45.2,True,\"bikaner\"\n",
    "print(tpl)\n",
    "print(type(tpl))"
   ]
  },
  {
   "cell_type": "code",
   "execution_count": 8,
   "metadata": {},
   "outputs": [
    {
     "name": "stdout",
     "output_type": "stream",
     "text": [
      "<class 'tuple'>\n",
      "('upflairs',)\n"
     ]
    }
   ],
   "source": [
    "##  create tuple with scaler value (single value)\n",
    "tpl = (\"upflairs\",)\n",
    "print(type(tpl))\n",
    "print(tpl) "
   ]
  },
  {
   "cell_type": "code",
   "execution_count": 11,
   "metadata": {},
   "outputs": [
    {
     "name": "stdout",
     "output_type": "stream",
     "text": [
      "<class 'tuple'>\n",
      "('upflairs',)\n"
     ]
    }
   ],
   "source": [
    "##  create tuple with scaler value (single value)\n",
    "tpl = \"upflairs\",\n",
    "print(type(tpl))\n",
    "print(tpl) "
   ]
  },
  {
   "cell_type": "code",
   "execution_count": 18,
   "metadata": {},
   "outputs": [
    {
     "data": {
      "text/plain": [
       "(10, 20, 30)"
      ]
     },
     "execution_count": 18,
     "metadata": {},
     "output_type": "execute_result"
    }
   ],
   "source": [
    "tpl = (10, 20, 30, 25.2, \"nikita\", True, 'bikaner') \n",
    "### item accessing  \n",
    "tpl[0:3]"
   ]
  },
  {
   "cell_type": "code",
   "execution_count": 19,
   "metadata": {},
   "outputs": [
    {
     "data": {
      "text/plain": [
       "'nikita'"
      ]
     },
     "execution_count": 19,
     "metadata": {},
     "output_type": "execute_result"
    }
   ],
   "source": [
    "tpl[4]"
   ]
  },
  {
   "cell_type": "code",
   "execution_count": 20,
   "metadata": {},
   "outputs": [
    {
     "name": "stdout",
     "output_type": "stream",
     "text": [
      "2\n",
      "1\n"
     ]
    }
   ],
   "source": [
    "tpl = (\"A\",\"B\",\"A\",\"C\")\n",
    "print(tpl.count(\"A\"))\n",
    "print(tpl.index(\"B\"))"
   ]
  },
  {
   "cell_type": "code",
   "execution_count": 21,
   "metadata": {},
   "outputs": [
    {
     "name": "stdout",
     "output_type": "stream",
     "text": [
      "('A', 'B', 'A', 'C', 'A', 'B', 'A', 'C')\n"
     ]
    }
   ],
   "source": [
    "tpl = (\"A\",\"B\",\"A\",\"C\")\n",
    "print(tpl*2)   # replication method "
   ]
  },
  {
   "cell_type": "code",
   "execution_count": 22,
   "metadata": {},
   "outputs": [
    {
     "name": "stdout",
     "output_type": "stream",
     "text": [
      "('A', 'B', 'A', 'C', 'F', 'G')\n"
     ]
    }
   ],
   "source": [
    "tpl1 = (\"A\",\"B\",\"A\",\"C\")\n",
    "tpl2 = (\"F\",\"G\")  # concatenation method \n",
    "tpl3 = tpl1 + tpl2 \n",
    "print(tpl3) "
   ]
  },
  {
   "cell_type": "code",
   "execution_count": 23,
   "metadata": {},
   "outputs": [
    {
     "name": "stdout",
     "output_type": "stream",
     "text": [
      "<class 'tuple'>\n"
     ]
    }
   ],
   "source": [
    "## tuple unpacking  \n",
    "tpl = (\"NIKITA\",\"JANGID\") \n",
    "print(type(tpl))"
   ]
  },
  {
   "cell_type": "code",
   "execution_count": 32,
   "metadata": {},
   "outputs": [
    {
     "name": "stdout",
     "output_type": "stream",
     "text": [
      "NIKITA JANGID\n"
     ]
    }
   ],
   "source": [
    "name, surname = tpl \n",
    "print(name,surname)"
   ]
  },
  {
   "cell_type": "code",
   "execution_count": 31,
   "metadata": {},
   "outputs": [
    {
     "ename": "ValueError",
     "evalue": "not enough values to unpack (expected 3, got 2)",
     "output_type": "error",
     "traceback": [
      "\u001b[1;31m---------------------------------------------------------------------------\u001b[0m",
      "\u001b[1;31mValueError\u001b[0m                                Traceback (most recent call last)",
      "Cell \u001b[1;32mIn[31], line 1\u001b[0m\n\u001b[1;32m----> 1\u001b[0m name, surname, nickname \u001b[38;5;241m=\u001b[39m tpl \n",
      "\u001b[1;31mValueError\u001b[0m: not enough values to unpack (expected 3, got 2)"
     ]
    }
   ],
   "source": [
    "name, surname, nickname = tpl "
   ]
  },
  {
   "cell_type": "code",
   "execution_count": 34,
   "metadata": {},
   "outputs": [
    {
     "name": "stdout",
     "output_type": "stream",
     "text": [
      "<class 'tuple'>\n",
      "('NIKITA', 'JANGID', 'NIKKI')\n"
     ]
    }
   ],
   "source": [
    "## tuple unpacking  \n",
    "tpl = (\"NIKITA\",\"JANGID\",\"NIKKI\") \n",
    "print(type(tpl))\n",
    "print(tpl)"
   ]
  },
  {
   "cell_type": "code",
   "execution_count": 35,
   "metadata": {},
   "outputs": [
    {
     "ename": "ValueError",
     "evalue": "too many values to unpack (expected 2)",
     "output_type": "error",
     "traceback": [
      "\u001b[1;31m---------------------------------------------------------------------------\u001b[0m",
      "\u001b[1;31mValueError\u001b[0m                                Traceback (most recent call last)",
      "Cell \u001b[1;32mIn[35], line 1\u001b[0m\n\u001b[1;32m----> 1\u001b[0m name , surname \u001b[38;5;241m=\u001b[39m tpl \n",
      "\u001b[1;31mValueError\u001b[0m: too many values to unpack (expected 2)"
     ]
    }
   ],
   "source": [
    "name , surname = tpl "
   ]
  },
  {
   "cell_type": "code",
   "execution_count": 36,
   "metadata": {},
   "outputs": [
    {
     "name": "stdout",
     "output_type": "stream",
     "text": [
      "NIKITA JANGID NIKKI\n"
     ]
    }
   ],
   "source": [
    "name , surname , nickname = tpl \n",
    "print(name,surname,nickname)"
   ]
  },
  {
   "cell_type": "code",
   "execution_count": 40,
   "metadata": {},
   "outputs": [
    {
     "name": "stdout",
     "output_type": "stream",
     "text": [
      "Nikita jangid\n",
      "Nikitajangid\n"
     ]
    }
   ],
   "source": [
    "name  = \"Nikita\"\n",
    "surname = \"jangid\"\n",
    "full_name = name + surname\n",
    "print(name,surname)\n",
    "print(full_name)"
   ]
  },
  {
   "cell_type": "code",
   "execution_count": 46,
   "metadata": {},
   "outputs": [
    {
     "name": "stdout",
     "output_type": "stream",
     "text": [
      "Nikita      jangid\n"
     ]
    }
   ],
   "source": [
    "name  = \"Nikita\"\n",
    "surname = \"jangid\"\n",
    "full_name = name + \" \"+ surname\n",
    "print(full_name)"
   ]
  },
  {
   "cell_type": "code",
   "execution_count": 48,
   "metadata": {},
   "outputs": [
    {
     "ename": "TypeError",
     "evalue": "can only concatenate str (not \"int\") to str",
     "output_type": "error",
     "traceback": [
      "\u001b[1;31m---------------------------------------------------------------------------\u001b[0m",
      "\u001b[1;31mTypeError\u001b[0m                                 Traceback (most recent call last)",
      "Cell \u001b[1;32mIn[48], line 4\u001b[0m\n\u001b[0;32m      2\u001b[0m surname \u001b[38;5;241m=\u001b[39m \u001b[38;5;124m\"\u001b[39m\u001b[38;5;124mjangid\u001b[39m\u001b[38;5;124m\"\u001b[39m \n\u001b[0;32m      3\u001b[0m age \u001b[38;5;241m=\u001b[39m \u001b[38;5;241m25\u001b[39m \n\u001b[1;32m----> 4\u001b[0m \u001b[38;5;28mprint\u001b[39m(\u001b[43mname\u001b[49m\u001b[38;5;241;43m+\u001b[39;49m\u001b[43msurname\u001b[49m\u001b[38;5;241;43m+\u001b[39;49m\u001b[43mage\u001b[49m)\n",
      "\u001b[1;31mTypeError\u001b[0m: can only concatenate str (not \"int\") to str"
     ]
    }
   ],
   "source": [
    "name  = \"Nikita\"\n",
    "surname = \"jangid\" \n",
    "age = 25 \n",
    "print(name+surname+age)  # we cant concatenate string with integer "
   ]
  },
  {
   "cell_type": "code",
   "execution_count": 49,
   "metadata": {},
   "outputs": [
    {
     "name": "stdout",
     "output_type": "stream",
     "text": [
      "5\n"
     ]
    }
   ],
   "source": [
    "tpl = (10,20,30,40,50,60,50,5)\n",
    "print(min(tpl))"
   ]
  },
  {
   "cell_type": "code",
   "execution_count": 50,
   "metadata": {},
   "outputs": [
    {
     "name": "stdout",
     "output_type": "stream",
     "text": [
      "60\n"
     ]
    }
   ],
   "source": [
    "print(max(tpl))\n"
   ]
  },
  {
   "cell_type": "code",
   "execution_count": 51,
   "metadata": {},
   "outputs": [
    {
     "name": "stdout",
     "output_type": "stream",
     "text": [
      "265\n"
     ]
    }
   ],
   "source": [
    "print(sum(tpl))"
   ]
  },
  {
   "cell_type": "code",
   "execution_count": 52,
   "metadata": {},
   "outputs": [
    {
     "name": "stdout",
     "output_type": "stream",
     "text": [
      "8\n"
     ]
    }
   ],
   "source": [
    "print(len(tpl))"
   ]
  },
  {
   "cell_type": "code",
   "execution_count": 58,
   "metadata": {},
   "outputs": [
    {
     "name": "stdout",
     "output_type": "stream",
     "text": [
      "average is :  33.125\n"
     ]
    }
   ],
   "source": [
    "# average => totalsum / no. of item \n",
    "average = sum(tpl)/len(tpl)\n",
    "print(\"average is : \",average)\n"
   ]
  },
  {
   "cell_type": "code",
   "execution_count": 64,
   "metadata": {},
   "outputs": [
    {
     "name": "stdout",
     "output_type": "stream",
     "text": [
      "Hey this is Radhey , and i am from Vrandavan\n"
     ]
    }
   ],
   "source": [
    "template = \"Hey this is ---  , and i am from ___\"\n",
    "name = \"Radhey\"\n",
    "city = \"Vrandavan\"\n",
    "print(f\"Hey this is {name} , and i am from {city}\")"
   ]
  },
  {
   "cell_type": "code",
   "execution_count": 67,
   "metadata": {},
   "outputs": [
    {
     "name": "stdout",
     "output_type": "stream",
     "text": [
      "Radhey singh\n"
     ]
    }
   ],
   "source": [
    "name = input(\"Plz enter your name : \")\n",
    "surname = input(\"plz enter your last name : \")\n",
    "print(name,surname)\n"
   ]
  },
  {
   "cell_type": "code",
   "execution_count": 77,
   "metadata": {},
   "outputs": [
    {
     "name": "stdout",
     "output_type": "stream",
     "text": [
      "Hey this is Nikita , and i am from Bikaner\n"
     ]
    }
   ],
   "source": [
    "name = input(\"Plz enter your name : \")\n",
    "city = input(\"plz enter your city name : \")\n",
    "print(f\"Hey this is {name} , and i am from {city}\")"
   ]
  },
  {
   "cell_type": "code",
   "execution_count": null,
   "metadata": {},
   "outputs": [],
   "source": [
    "\"heey this is ___name___   and i am from ___city___   and i have completed __qualification__ \""
   ]
  },
  {
   "cell_type": "code",
   "execution_count": 75,
   "metadata": {},
   "outputs": [
    {
     "name": "stdout",
     "output_type": "stream",
     "text": [
      "heey this is Nikita, and i am from Bikaner, and i have completed MSc(CS)\n"
     ]
    }
   ],
   "source": [
    "name = input(\"Plz enter your name :\")\n",
    "city = input(\"Plz enter your city :\")\n",
    "qualification = input(\"Plz enter your qualification :\")\n",
    "print(f\"heey this is {name}, and i am from {city}, and i have completed {qualification}\")"
   ]
  },
  {
   "cell_type": "code",
   "execution_count": 13,
   "metadata": {},
   "outputs": [
    {
     "name": "stdout",
     "output_type": "stream",
     "text": [
      "7\n"
     ]
    }
   ],
   "source": [
    "ls = [[1,2,3],[4,5,6],[7,8,9],[52,14,63,96]]\n",
    "print(ls[2][::-1][-1])"
   ]
  },
  {
   "cell_type": "code",
   "execution_count": 7,
   "metadata": {},
   "outputs": [
    {
     "name": "stdout",
     "output_type": "stream",
     "text": [
      "for\n",
      "geeks\n"
     ]
    }
   ],
   "source": [
    "ls = [['geeks','for'],['geeks']]\n",
    "print(ls[0][1])\n",
    "print(ls[1][0])"
   ]
  },
  {
   "cell_type": "markdown",
   "metadata": {},
   "source": [
    "### SET "
   ]
  },
  {
   "cell_type": "code",
   "execution_count": null,
   "metadata": {},
   "outputs": [],
   "source": [
    "introduction \n",
    "features \n",
    "declaration "
   ]
  },
  {
   "cell_type": "code",
   "execution_count": 1,
   "metadata": {},
   "outputs": [
    {
     "name": "stdout",
     "output_type": "stream",
     "text": [
      "<class 'set'>\n",
      "{96, 'upflairs', 3, 52, 85.2, 85, 63}\n"
     ]
    }
   ],
   "source": [
    "st = {52,63,96,85,85.2,63,3,63,63,'upflairs'} \n",
    "print(type(st))\n",
    "print(st) "
   ]
  },
  {
   "cell_type": "code",
   "execution_count": 2,
   "metadata": {},
   "outputs": [
    {
     "ename": "TypeError",
     "evalue": "'set' object is not subscriptable",
     "output_type": "error",
     "traceback": [
      "\u001b[1;31m---------------------------------------------------------------------------\u001b[0m",
      "\u001b[1;31mTypeError\u001b[0m                                 Traceback (most recent call last)",
      "Cell \u001b[1;32mIn[2], line 1\u001b[0m\n\u001b[1;32m----> 1\u001b[0m \u001b[43mst\u001b[49m\u001b[43m[\u001b[49m\u001b[38;5;241;43m2\u001b[39;49m\u001b[43m]\u001b[49m\n",
      "\u001b[1;31mTypeError\u001b[0m: 'set' object is not subscriptable"
     ]
    }
   ],
   "source": [
    "st[2]"
   ]
  },
  {
   "cell_type": "code",
   "execution_count": 3,
   "metadata": {},
   "outputs": [
    {
     "name": "stdout",
     "output_type": "stream",
     "text": [
      "{'C', 'E', 'D', 'B', 'A', 'F'}\n"
     ]
    }
   ],
   "source": [
    "st = {\"A\",'B','C','D','E','F','C','B','C'} \n",
    "print(st)"
   ]
  },
  {
   "cell_type": "code",
   "execution_count": 5,
   "metadata": {},
   "outputs": [
    {
     "name": "stdout",
     "output_type": "stream",
     "text": [
      "{'C', 'E', 'D', 'T', 'z', 'B', 'A', 'F'}\n"
     ]
    }
   ],
   "source": [
    "# insert operation  \n",
    "st.add('z')\n",
    "print(st) "
   ]
  },
  {
   "cell_type": "code",
   "execution_count": 12,
   "metadata": {},
   "outputs": [
    {
     "name": "stdout",
     "output_type": "stream",
     "text": [
      "{'M', 'J', 'L', 'C', 'I', 'G'}\n",
      "{'M', 'J', 'C', 'E', 'D', 'T', 'z', 'B', 'F', 'G', 'L', 'I', 'A'}\n"
     ]
    }
   ],
   "source": [
    "st2 = {\"M\",\"C\",\"J\",\"I\",\"G\",\"L\"}\n",
    "print(st2) \n",
    "print(st)"
   ]
  },
  {
   "cell_type": "code",
   "execution_count": 11,
   "metadata": {},
   "outputs": [
    {
     "name": "stdout",
     "output_type": "stream",
     "text": [
      "{'M', 'J', 'C', 'E', 'D', 'T', 'z', 'B', 'F', 'G', 'L', 'I', 'A'}\n"
     ]
    }
   ],
   "source": [
    "st.update(st2)  # to combine the items of multiple set \n",
    "print(st)"
   ]
  },
  {
   "cell_type": "code",
   "execution_count": 14,
   "metadata": {},
   "outputs": [
    {
     "ename": "TypeError",
     "evalue": "unsupported operand type(s) for +: 'set' and 'set'",
     "output_type": "error",
     "traceback": [
      "\u001b[1;31m---------------------------------------------------------------------------\u001b[0m",
      "\u001b[1;31mTypeError\u001b[0m                                 Traceback (most recent call last)",
      "Cell \u001b[1;32mIn[14], line 3\u001b[0m\n\u001b[0;32m      1\u001b[0m st1 \u001b[38;5;241m=\u001b[39m {\u001b[38;5;124m\"\u001b[39m\u001b[38;5;124mA\u001b[39m\u001b[38;5;124m\"\u001b[39m,\u001b[38;5;124m'\u001b[39m\u001b[38;5;124mB\u001b[39m\u001b[38;5;124m'\u001b[39m,\u001b[38;5;124m'\u001b[39m\u001b[38;5;124mC\u001b[39m\u001b[38;5;124m'\u001b[39m,\u001b[38;5;124m'\u001b[39m\u001b[38;5;124mD\u001b[39m\u001b[38;5;124m'\u001b[39m,\u001b[38;5;124m'\u001b[39m\u001b[38;5;124mE\u001b[39m\u001b[38;5;124m'\u001b[39m,\u001b[38;5;124m'\u001b[39m\u001b[38;5;124mF\u001b[39m\u001b[38;5;124m'\u001b[39m,\u001b[38;5;124m'\u001b[39m\u001b[38;5;124mC\u001b[39m\u001b[38;5;124m'\u001b[39m,\u001b[38;5;124m'\u001b[39m\u001b[38;5;124mB\u001b[39m\u001b[38;5;124m'\u001b[39m,\u001b[38;5;124m'\u001b[39m\u001b[38;5;124mC\u001b[39m\u001b[38;5;124m'\u001b[39m} \n\u001b[0;32m      2\u001b[0m st2 \u001b[38;5;241m=\u001b[39m {\u001b[38;5;124m\"\u001b[39m\u001b[38;5;124mM\u001b[39m\u001b[38;5;124m\"\u001b[39m,\u001b[38;5;124m\"\u001b[39m\u001b[38;5;124mC\u001b[39m\u001b[38;5;124m\"\u001b[39m,\u001b[38;5;124m\"\u001b[39m\u001b[38;5;124mJ\u001b[39m\u001b[38;5;124m\"\u001b[39m,\u001b[38;5;124m\"\u001b[39m\u001b[38;5;124mI\u001b[39m\u001b[38;5;124m\"\u001b[39m,\u001b[38;5;124m\"\u001b[39m\u001b[38;5;124mG\u001b[39m\u001b[38;5;124m\"\u001b[39m,\u001b[38;5;124m\"\u001b[39m\u001b[38;5;124mL\u001b[39m\u001b[38;5;124m\"\u001b[39m}\n\u001b[1;32m----> 3\u001b[0m \u001b[38;5;28mprint\u001b[39m(\u001b[43mst1\u001b[49m\u001b[43m \u001b[49m\u001b[38;5;241;43m+\u001b[39;49m\u001b[43m \u001b[49m\u001b[43mst2\u001b[49m )\n",
      "\u001b[1;31mTypeError\u001b[0m: unsupported operand type(s) for +: 'set' and 'set'"
     ]
    }
   ],
   "source": [
    "st1 = {\"A\",'B','C','D','E','F','C','B','C'} \n",
    "st2 = {\"M\",\"C\",\"J\",\"I\",\"G\",\"L\"}\n",
    "print(st1 + st2 )  # ==> st.update(st2) "
   ]
  },
  {
   "cell_type": "code",
   "execution_count": 19,
   "metadata": {},
   "outputs": [
    {
     "name": "stdout",
     "output_type": "stream",
     "text": [
      "False\n"
     ]
    }
   ],
   "source": [
    "st1 = {'A','B','C','D','E','F','G','H'}\n",
    "st2 = {'A','B','C','M'}\n",
    "\n",
    "print(st2.issubset(st1))"
   ]
  },
  {
   "cell_type": "code",
   "execution_count": 20,
   "metadata": {},
   "outputs": [
    {
     "name": "stdout",
     "output_type": "stream",
     "text": [
      "False\n"
     ]
    }
   ],
   "source": [
    "print(st1.issuperset(st2))"
   ]
  },
  {
   "cell_type": "code",
   "execution_count": 22,
   "metadata": {},
   "outputs": [
    {
     "name": "stdout",
     "output_type": "stream",
     "text": [
      "{'B', 'C', 'A'}\n"
     ]
    }
   ],
   "source": [
    "st1 = {'A','B','C','D','E','F','G','H'}\n",
    "st2 = {'A','B','C','M'} \n",
    "\n",
    "print(st1.intersection(st2))"
   ]
  },
  {
   "cell_type": "code",
   "execution_count": 23,
   "metadata": {},
   "outputs": [
    {
     "name": "stdout",
     "output_type": "stream",
     "text": [
      "{'M', 'C', 'E', 'D', 'B', 'F', 'G', 'H', 'A'}\n"
     ]
    }
   ],
   "source": [
    "st1 = {'A','B','C','D','E','F','G','H'}\n",
    "st2 = {'A','B','C','M'} \n",
    "\n",
    "print(st1.union(st2))"
   ]
  },
  {
   "cell_type": "code",
   "execution_count": 28,
   "metadata": {},
   "outputs": [
    {
     "name": "stdout",
     "output_type": "stream",
     "text": [
      "{'B', 'A'}\n"
     ]
    }
   ],
   "source": [
    "st1 = {'A','B','C','D','E','F','G','H'}\n",
    "st2 = {'A','B','K','M'} \n",
    "\n",
    "print(st2.intersection(st1))"
   ]
  },
  {
   "cell_type": "code",
   "execution_count": 29,
   "metadata": {},
   "outputs": [
    {
     "name": "stdout",
     "output_type": "stream",
     "text": [
      "{'M', 'K'}\n"
     ]
    }
   ],
   "source": [
    "st1 = {'A','B','C','D','E','F','G','H'}\n",
    "st2 = {'A','B','K','M'} \n",
    "\n",
    "print(st2.difference(st1))"
   ]
  },
  {
   "cell_type": "code",
   "execution_count": 34,
   "metadata": {},
   "outputs": [
    {
     "name": "stdout",
     "output_type": "stream",
     "text": [
      "{'E', 'C', 'k', 'D', 'B', 'F', 'G', 'H', 'A', 'r'}\n",
      "E\n",
      "{'C', 'k', 'D', 'B', 'F', 'G', 'H', 'A', 'r'}\n"
     ]
    }
   ],
   "source": [
    "# deletion operation (discard,pop,remove)  \n",
    "st1 = {'A','B','C','D','E','F','G','H','k','r'}\n",
    "print(st1)\n",
    "print(st1.pop())\n",
    "print(st1)"
   ]
  },
  {
   "cell_type": "code",
   "execution_count": 35,
   "metadata": {},
   "outputs": [
    {
     "name": "stdout",
     "output_type": "stream",
     "text": [
      "{'C', 'k', 'D', 'B', 'F', 'G', 'H', 'A', 'r'}\n",
      "C\n",
      "{'k', 'D', 'B', 'F', 'G', 'H', 'A', 'r'}\n"
     ]
    }
   ],
   "source": [
    "print(st1)\n",
    "print(st1.pop())\n",
    "print(st1)"
   ]
  },
  {
   "cell_type": "code",
   "execution_count": 39,
   "metadata": {},
   "outputs": [
    {
     "name": "stdout",
     "output_type": "stream",
     "text": [
      "{'k', 'D', 'B', 'F', 'G', 'H', 'A', 'r'}\n",
      "k\n",
      "{'D', 'B', 'F', 'G', 'H', 'A', 'r'}\n"
     ]
    }
   ],
   "source": [
    "st1 = {'k', 'D', 'B', 'F', 'G', 'H', 'A', 'r'}\n",
    "print(st1)\n",
    "print(st1.pop())\n",
    "print(st1)"
   ]
  },
  {
   "cell_type": "code",
   "execution_count": 40,
   "metadata": {},
   "outputs": [
    {
     "name": "stdout",
     "output_type": "stream",
     "text": [
      "{'k', 'B', 'F', 'G', 'H', 'A', 'r'}\n"
     ]
    }
   ],
   "source": [
    "st1 = {'k', 'D', 'B', 'F', 'G', 'H', 'A', 'r'}\n",
    "st1.remove('D')   # remove \n",
    "print(st1)"
   ]
  },
  {
   "cell_type": "code",
   "execution_count": 42,
   "metadata": {},
   "outputs": [
    {
     "name": "stdout",
     "output_type": "stream",
     "text": [
      "{'k', 'D', 'B', 'G', 'H', 'A', 'r'}\n"
     ]
    }
   ],
   "source": [
    "st1 = {'k', 'D', 'B', 'F', 'G', 'H', 'A', 'r'}\n",
    "st1.discard('F')   # discard \n",
    "print(st1)"
   ]
  },
  {
   "cell_type": "code",
   "execution_count": 43,
   "metadata": {},
   "outputs": [
    {
     "ename": "KeyError",
     "evalue": "'Z'",
     "output_type": "error",
     "traceback": [
      "\u001b[1;31m---------------------------------------------------------------------------\u001b[0m",
      "\u001b[1;31mKeyError\u001b[0m                                  Traceback (most recent call last)",
      "Cell \u001b[1;32mIn[43], line 2\u001b[0m\n\u001b[0;32m      1\u001b[0m st1 \u001b[38;5;241m=\u001b[39m {\u001b[38;5;124m'\u001b[39m\u001b[38;5;124mk\u001b[39m\u001b[38;5;124m'\u001b[39m, \u001b[38;5;124m'\u001b[39m\u001b[38;5;124mD\u001b[39m\u001b[38;5;124m'\u001b[39m, \u001b[38;5;124m'\u001b[39m\u001b[38;5;124mB\u001b[39m\u001b[38;5;124m'\u001b[39m, \u001b[38;5;124m'\u001b[39m\u001b[38;5;124mF\u001b[39m\u001b[38;5;124m'\u001b[39m, \u001b[38;5;124m'\u001b[39m\u001b[38;5;124mG\u001b[39m\u001b[38;5;124m'\u001b[39m, \u001b[38;5;124m'\u001b[39m\u001b[38;5;124mH\u001b[39m\u001b[38;5;124m'\u001b[39m, \u001b[38;5;124m'\u001b[39m\u001b[38;5;124mA\u001b[39m\u001b[38;5;124m'\u001b[39m, \u001b[38;5;124m'\u001b[39m\u001b[38;5;124mr\u001b[39m\u001b[38;5;124m'\u001b[39m}\n\u001b[1;32m----> 2\u001b[0m \u001b[43mst1\u001b[49m\u001b[38;5;241;43m.\u001b[39;49m\u001b[43mremove\u001b[49m\u001b[43m(\u001b[49m\u001b[38;5;124;43m'\u001b[39;49m\u001b[38;5;124;43mZ\u001b[39;49m\u001b[38;5;124;43m'\u001b[39;49m\u001b[43m)\u001b[49m   \u001b[38;5;66;03m# discard \u001b[39;00m\n\u001b[0;32m      3\u001b[0m \u001b[38;5;28mprint\u001b[39m(st1)\n",
      "\u001b[1;31mKeyError\u001b[0m: 'Z'"
     ]
    }
   ],
   "source": [
    "st1 = {'k', 'D', 'B', 'F', 'G', 'H', 'A', 'r'}\n",
    "st1.remove('Z')   # remove will raise the error if item is not present \n",
    "print(st1)"
   ]
  },
  {
   "cell_type": "code",
   "execution_count": 46,
   "metadata": {},
   "outputs": [
    {
     "name": "stdout",
     "output_type": "stream",
     "text": [
      "{'k', 'D', 'B', 'F', 'G', 'H', 'A', 'r'}\n"
     ]
    }
   ],
   "source": [
    "st1 = {'k', 'D', 'B', 'F', 'G', 'H', 'A', 'r'}\n",
    "st1.discard('Z')   #  it will not be raised the error if item is not present \n",
    "print(st1)"
   ]
  },
  {
   "cell_type": "code",
   "execution_count": 45,
   "metadata": {},
   "outputs": [
    {
     "name": "stdout",
     "output_type": "stream",
     "text": [
      "set()\n"
     ]
    }
   ],
   "source": [
    "st1.clear()\n",
    "print(st1)"
   ]
  },
  {
   "cell_type": "code",
   "execution_count": null,
   "metadata": {},
   "outputs": [],
   "source": [
    "## prectise \n",
    "# remove , discard , union, difference, intersection , add \n"
   ]
  },
  {
   "cell_type": "code",
   "execution_count": 55,
   "metadata": {},
   "outputs": [
    {
     "name": "stdout",
     "output_type": "stream",
     "text": [
      "{'k', 'D', 'B', 'F', 'G', 'y', 'H', 'A', 'r'}\n"
     ]
    }
   ],
   "source": [
    "st1 = {'k', 'D', 'B', 'F', 'G', 'H', 'A', 'r'}\n",
    "st2 = {'k', 'D', 'M', 'G', 'N'}\n",
    "st1.add('y')\n",
    "print(st1)\n"
   ]
  },
  {
   "cell_type": "markdown",
   "metadata": {},
   "source": [
    "### Dictionary "
   ]
  },
  {
   "cell_type": "code",
   "execution_count": 57,
   "metadata": {},
   "outputs": [
    {
     "name": "stdout",
     "output_type": "stream",
     "text": [
      "{'name': 'nikita', 'college': 'iet lucknow', 'city': 'Bikner', 'age': 20}\n",
      "<class 'dict'>\n"
     ]
    }
   ],
   "source": [
    "dt =  {\"name\":\"nikita\",\"college\":\"iet lucknow\",\"city\":\"Bikner\",\"age\":20} \n",
    "print(dt)\n",
    "print(type(dt))"
   ]
  },
  {
   "cell_type": "code",
   "execution_count": 59,
   "metadata": {},
   "outputs": [
    {
     "name": "stdout",
     "output_type": "stream",
     "text": [
      "Bikner\n"
     ]
    }
   ],
   "source": [
    "print(dt[\"city\"])"
   ]
  },
  {
   "cell_type": "code",
   "execution_count": 60,
   "metadata": {},
   "outputs": [
    {
     "name": "stdout",
     "output_type": "stream",
     "text": [
      "nikita\n"
     ]
    }
   ],
   "source": [
    "print(dt['name'])"
   ]
  },
  {
   "cell_type": "code",
   "execution_count": 61,
   "metadata": {},
   "outputs": [
    {
     "name": "stdout",
     "output_type": "stream",
     "text": [
      "20\n"
     ]
    }
   ],
   "source": [
    "print(dt['age'])"
   ]
  },
  {
   "cell_type": "code",
   "execution_count": 62,
   "metadata": {},
   "outputs": [
    {
     "name": "stdout",
     "output_type": "stream",
     "text": [
      "{'name': 'nikita', 'college': 'iet lucknow', 'city': 'Bikner', 'age': 20}\n"
     ]
    }
   ],
   "source": [
    "print(dt)"
   ]
  },
  {
   "cell_type": "code",
   "execution_count": 66,
   "metadata": {},
   "outputs": [
    {
     "name": "stdout",
     "output_type": "stream",
     "text": [
      "{'name': 'Nikita', 'subjects': ['P', 'C', 'M'], 'roll_no': 123}\n",
      "<class 'dict'>\n"
     ]
    }
   ],
   "source": [
    "# dt =  {\"name\":\"Nikita\",\"subjects\":[\"P\",\"C\",\"M\"],\"roll_no\":123} \n",
    "# print(dt)\n",
    "# print(type(dt))"
   ]
  },
  {
   "cell_type": "code",
   "execution_count": 68,
   "metadata": {},
   "outputs": [],
   "source": [
    "# st = {10,20,30,{52,41,63}}   # we cant store set inside set "
   ]
  },
  {
   "cell_type": "code",
   "execution_count": 74,
   "metadata": {},
   "outputs": [
    {
     "name": "stdout",
     "output_type": "stream",
     "text": [
      "{'name': ['neha', 'reeta', 'kanik', 'madhu'], 'marks': [52, 63, 12, 61], 'subjects': 'math'}\n",
      "<class 'dict'>\n"
     ]
    }
   ],
   "source": [
    "student_details = {\"name\":[\"neha\",'reeta','kanik','madhu'],\n",
    "                    \"marks\":[52,63,12,61],\n",
    "                    \"subjects\":'math'} \n",
    "\n",
    "print(student_details)\n",
    "print(type(student_details))"
   ]
  },
  {
   "cell_type": "code",
   "execution_count": 77,
   "metadata": {},
   "outputs": [
    {
     "data": {
      "text/plain": [
       "63"
      ]
     },
     "execution_count": 77,
     "metadata": {},
     "output_type": "execute_result"
    }
   ],
   "source": [
    "student_details[\"marks\"][1]"
   ]
  },
  {
   "cell_type": "code",
   "execution_count": 1,
   "metadata": {},
   "outputs": [
    {
     "name": "stdout",
     "output_type": "stream",
     "text": [
      "<class 'dict'>\n",
      "{'A': 10, 'B': 20, 'C': 30, 'D': 40, 'E': 50}\n"
     ]
    }
   ],
   "source": [
    "dt = {\"A\":10,\"B\":20,\"C\":30,\"D\":40,\"E\":50}\n",
    "print(type(dt))\n",
    "print(dt)"
   ]
  },
  {
   "cell_type": "code",
   "execution_count": 8,
   "metadata": {},
   "outputs": [
    {
     "name": "stdout",
     "output_type": "stream",
     "text": [
      "10\n"
     ]
    }
   ],
   "source": [
    "### accessing \n",
    "print(dt[\"A\"])"
   ]
  },
  {
   "cell_type": "code",
   "execution_count": 13,
   "metadata": {},
   "outputs": [
    {
     "name": "stdout",
     "output_type": "stream",
     "text": [
      "{'A': 10, 'B': 20, 'C': 'Nikita', 'D': 40, 'E': 50}\n"
     ]
    }
   ],
   "source": [
    "# to update particular value of key \n",
    "dt['C'] = \"Nikita\"\n",
    "print(dt)"
   ]
  },
  {
   "cell_type": "code",
   "execution_count": 16,
   "metadata": {},
   "outputs": [
    {
     "name": "stdout",
     "output_type": "stream",
     "text": [
      "{'A': 10, 'B': 20, 'C': 'Nikita', 'D': 40, 'E': 50, 'F': 'Radhey'}\n"
     ]
    }
   ],
   "source": [
    "## insert pair (key, value) \n",
    "dt['F'] = \"Radhey\"\n",
    "print(dt)"
   ]
  },
  {
   "cell_type": "code",
   "execution_count": 20,
   "metadata": {},
   "outputs": [
    {
     "name": "stdout",
     "output_type": "stream",
     "text": [
      "{'A': 10, 'B': 20, 'C': 'Nikita', 'D': 40, 'E': 50, 'F': 'Radhey'}\n"
     ]
    }
   ],
   "source": [
    "dt  = {'A': 10, 'B': 20, 'C': 'Nikita', 'D': 40, 'E': 50, 'F': 'Radhey'}\n",
    "print(dt)"
   ]
  },
  {
   "cell_type": "code",
   "execution_count": 22,
   "metadata": {},
   "outputs": [
    {
     "name": "stdout",
     "output_type": "stream",
     "text": [
      "dict_keys(['A', 'B', 'C', 'D', 'E', 'F'])\n"
     ]
    }
   ],
   "source": [
    "print(dt.keys())\n"
   ]
  },
  {
   "cell_type": "code",
   "execution_count": 21,
   "metadata": {},
   "outputs": [
    {
     "name": "stdout",
     "output_type": "stream",
     "text": [
      "dict_values([10, 20, 'Nikita', 40, 50, 'Radhey'])\n"
     ]
    }
   ],
   "source": [
    "print(dt.values())"
   ]
  },
  {
   "cell_type": "code",
   "execution_count": 3,
   "metadata": {},
   "outputs": [
    {
     "name": "stdout",
     "output_type": "stream",
     "text": [
      "{'A': 10, 'B': 20, 'C': 30, 'D': 40, 'E': 50}\n"
     ]
    }
   ],
   "source": [
    "dt = {\"A\":10,\"B\":20,\"C\":30,\"D\":40,\"E\":50}\n",
    "print(dt)"
   ]
  },
  {
   "cell_type": "code",
   "execution_count": 4,
   "metadata": {},
   "outputs": [
    {
     "name": "stdout",
     "output_type": "stream",
     "text": [
      "10\n"
     ]
    }
   ],
   "source": [
    "print(dt.get(\"A\"))"
   ]
  },
  {
   "cell_type": "code",
   "execution_count": 6,
   "metadata": {},
   "outputs": [
    {
     "ename": "KeyError",
     "evalue": "'Z'",
     "output_type": "error",
     "traceback": [
      "\u001b[1;31m---------------------------------------------------------------------------\u001b[0m",
      "\u001b[1;31mKeyError\u001b[0m                                  Traceback (most recent call last)",
      "Cell \u001b[1;32mIn[6], line 1\u001b[0m\n\u001b[1;32m----> 1\u001b[0m \u001b[43mdt\u001b[49m\u001b[43m[\u001b[49m\u001b[38;5;124;43m'\u001b[39;49m\u001b[38;5;124;43mZ\u001b[39;49m\u001b[38;5;124;43m'\u001b[39;49m\u001b[43m]\u001b[49m\n",
      "\u001b[1;31mKeyError\u001b[0m: 'Z'"
     ]
    }
   ],
   "source": [
    "dt['Z']"
   ]
  },
  {
   "cell_type": "code",
   "execution_count": 8,
   "metadata": {},
   "outputs": [
    {
     "name": "stdout",
     "output_type": "stream",
     "text": [
      "None\n"
     ]
    }
   ],
   "source": [
    "print(dt.get(\"Z\"))"
   ]
  },
  {
   "cell_type": "code",
   "execution_count": 15,
   "metadata": {},
   "outputs": [
    {
     "name": "stdout",
     "output_type": "stream",
     "text": [
      "not exist\n"
     ]
    }
   ],
   "source": [
    "print(dt.get(\"Z\",\"not exist\"))\n"
   ]
  },
  {
   "cell_type": "code",
   "execution_count": 22,
   "metadata": {},
   "outputs": [
    {
     "data": {
      "text/plain": [
       "30"
      ]
     },
     "execution_count": 22,
     "metadata": {},
     "output_type": "execute_result"
    }
   ],
   "source": [
    "# deletion operation (pop , popitem)\n",
    "dt.pop(\"C\")"
   ]
  },
  {
   "cell_type": "code",
   "execution_count": 23,
   "metadata": {},
   "outputs": [
    {
     "name": "stdout",
     "output_type": "stream",
     "text": [
      "{'B': 20, 'D': 40, 'E': 50}\n"
     ]
    }
   ],
   "source": [
    "print(dt)"
   ]
  },
  {
   "cell_type": "code",
   "execution_count": 31,
   "metadata": {},
   "outputs": [
    {
     "name": "stdout",
     "output_type": "stream",
     "text": [
      "{'A': 10, 'B': 20, 'C': 30, 'D': 40, 'E': 50}\n"
     ]
    }
   ],
   "source": [
    "dt = {\"A\":10,\"B\":20,\"C\":30,\"D\":40,\"E\":50}\n",
    "print(dt)"
   ]
  },
  {
   "cell_type": "code",
   "execution_count": 32,
   "metadata": {},
   "outputs": [
    {
     "name": "stdout",
     "output_type": "stream",
     "text": [
      "{'A': 10, 'B': 20, 'C': 30, 'D': 40}\n"
     ]
    }
   ],
   "source": [
    "dt.popitem()\n",
    "print(dt)"
   ]
  },
  {
   "cell_type": "code",
   "execution_count": 33,
   "metadata": {},
   "outputs": [
    {
     "data": {
      "text/plain": [
       "{'A': 10, 'B': 20, 'C': 30, 'D': 40}"
      ]
     },
     "execution_count": 33,
     "metadata": {},
     "output_type": "execute_result"
    }
   ],
   "source": [
    "dt "
   ]
  },
  {
   "cell_type": "code",
   "execution_count": 34,
   "metadata": {},
   "outputs": [
    {
     "name": "stdout",
     "output_type": "stream",
     "text": [
      "{'A': 10, 'B': 20, 'C': 30, 'D': 40, 'E': 50, 'F': 60, 'G': 66}\n"
     ]
    }
   ],
   "source": [
    "# to combine multiple dictionaries \n",
    "dt1 = {'A': 10, 'B': 20, 'C': 30, 'D': 40} \n",
    "dt2 = {\"E\":50,\"F\":60,\"G\":66} \n",
    "\n",
    "dt1.update(dt2) \n",
    "print(dt1)"
   ]
  },
  {
   "cell_type": "code",
   "execution_count": 36,
   "metadata": {},
   "outputs": [
    {
     "name": "stdout",
     "output_type": "stream",
     "text": [
      "{'A': 'Radhey', 'B': 'Radhey', 'C': 'Radhey', 'D': 'Radhey', 'E': 'Radhey'}\n"
     ]
    }
   ],
   "source": [
    "dt = dict.fromkeys(['A','B','C','D','E'],\"Radhey\")\n",
    "print(dt)"
   ]
  },
  {
   "cell_type": "code",
   "execution_count": 39,
   "metadata": {},
   "outputs": [],
   "source": [
    "dt['C'] = \"Nikita\""
   ]
  },
  {
   "cell_type": "code",
   "execution_count": 40,
   "metadata": {},
   "outputs": [
    {
     "name": "stdout",
     "output_type": "stream",
     "text": [
      "{'A': 'Radhey', 'B': 'Radhey', 'C': 'Nikita', 'D': 'Radhey', 'E': 'Radhey'}\n"
     ]
    }
   ],
   "source": [
    "print(dt)"
   ]
  },
  {
   "cell_type": "code",
   "execution_count": 41,
   "metadata": {},
   "outputs": [
    {
     "name": "stdout",
     "output_type": "stream",
     "text": [
      "dict_items([('A', 10), ('B', 20), ('C', 30), ('D', 40)])\n"
     ]
    }
   ],
   "source": [
    "dt1 = {'A': 10, 'B': 20, 'C': 30, 'D': 40} \n",
    "print(dt1.items())\n"
   ]
  },
  {
   "cell_type": "markdown",
   "metadata": {},
   "source": [
    "### Type casting "
   ]
  },
  {
   "cell_type": "code",
   "execution_count": 4,
   "metadata": {},
   "outputs": [
    {
     "data": {
      "text/plain": [
       "(0, 0.0, [], {}, set(), (), '')"
      ]
     },
     "execution_count": 4,
     "metadata": {},
     "output_type": "execute_result"
    }
   ],
   "source": [
    "int(),float(),str(),list(),dict(),set(),tuple(), "
   ]
  },
  {
   "cell_type": "code",
   "execution_count": 7,
   "metadata": {},
   "outputs": [
    {
     "name": "stdout",
     "output_type": "stream",
     "text": [
      "<class 'int'>\n",
      "10.0\n",
      "<class 'float'>\n"
     ]
    }
   ],
   "source": [
    "## int to float\n",
    "var = 10 \n",
    "print(type(var))\n",
    "var2 = float(var)\n",
    "print(var2)\n",
    "print(type(var2))"
   ]
  },
  {
   "cell_type": "code",
   "execution_count": 9,
   "metadata": {},
   "outputs": [
    {
     "name": "stdout",
     "output_type": "stream",
     "text": [
      "10.25\n",
      "<class 'float'>\n",
      "10\n",
      "<class 'int'>\n"
     ]
    }
   ],
   "source": [
    "# float to int \n",
    "var1 = 10.25 \n",
    "print(var1) \n",
    "print(type(var1))\n",
    "\n",
    "var2 = int(var1)\n",
    "print(var2)\n",
    "print(type(var2))"
   ]
  },
  {
   "cell_type": "code",
   "execution_count": 10,
   "metadata": {},
   "outputs": [
    {
     "name": "stdout",
     "output_type": "stream",
     "text": [
      "20\n",
      "<class 'int'>\n",
      "20\n",
      "<class 'str'>\n"
     ]
    }
   ],
   "source": [
    "# int to string \n",
    "var1 = 20 \n",
    "print(var1) \n",
    "print(type(var1)) \n",
    "\n",
    "var2 = str(var1)\n",
    "print(var2)\n",
    "print(type(var2))\n"
   ]
  },
  {
   "cell_type": "code",
   "execution_count": 11,
   "metadata": {},
   "outputs": [
    {
     "name": "stdout",
     "output_type": "stream",
     "text": [
      "20.25\n",
      "<class 'float'>\n",
      "20.25\n",
      "<class 'str'>\n"
     ]
    }
   ],
   "source": [
    "# float to string \n",
    "var1 = 20.25\n",
    "print(var1) \n",
    "print(type(var1)) \n",
    "\n",
    "var2 = str(var1)\n",
    "print(var2)\n",
    "print(type(var2))"
   ]
  },
  {
   "cell_type": "code",
   "execution_count": 13,
   "metadata": {},
   "outputs": [
    {
     "name": "stdout",
     "output_type": "stream",
     "text": [
      "8525\n",
      "<class 'str'>\n",
      "8525\n",
      "<class 'int'>\n"
     ]
    }
   ],
   "source": [
    "# string to int \n",
    "var1 = \"8525\"\n",
    "print(var1)\n",
    "print(type(var1))\n",
    "\n",
    "var2 = int(var1)\n",
    "print(var2)\n",
    "print(type(var2))"
   ]
  },
  {
   "cell_type": "code",
   "execution_count": 22,
   "metadata": {},
   "outputs": [
    {
     "name": "stdout",
     "output_type": "stream",
     "text": [
      "8525.25\n",
      "<class 'str'>\n",
      "8525.25\n",
      "<class 'float'>\n"
     ]
    }
   ],
   "source": [
    "# string to float  \n",
    "var1 = \"8525.25\"\n",
    "print(var1)\n",
    "print(type(var1))\n",
    "\n",
    "var2 = float(var1)\n",
    "print(var2)\n",
    "print(type(var2))"
   ]
  },
  {
   "cell_type": "code",
   "execution_count": 27,
   "metadata": {},
   "outputs": [
    {
     "name": "stdout",
     "output_type": "stream",
     "text": [
      "[25]\n",
      "<class 'list'>\n",
      "(25,)\n",
      "<class 'tuple'>\n"
     ]
    }
   ],
   "source": [
    "# list to tuple \n",
    "var1 = [25]\n",
    "print(var1)\n",
    "print(type(var1))\n",
    "\n",
    "var2 = tuple(var1)\n",
    "print(var2)\n",
    "print(type(var2))"
   ]
  },
  {
   "cell_type": "code",
   "execution_count": 29,
   "metadata": {},
   "outputs": [
    {
     "name": "stdout",
     "output_type": "stream",
     "text": [
      "(25,)\n",
      "<class 'tuple'>\n",
      "[25]\n",
      "<class 'list'>\n"
     ]
    }
   ],
   "source": [
    "# tuple to  list \n",
    "var1 = (25,)\n",
    "print(var1)\n",
    "print(type(var1))\n",
    "\n",
    "var2 = list(var1)\n",
    "print(var2)\n",
    "print(type(var2))"
   ]
  },
  {
   "cell_type": "code",
   "execution_count": 30,
   "metadata": {},
   "outputs": [
    {
     "name": "stdout",
     "output_type": "stream",
     "text": [
      "(25, 25, 63)\n",
      "<class 'tuple'>\n",
      "{25, 63}\n",
      "<class 'set'>\n"
     ]
    }
   ],
   "source": [
    "# tuple to  set \n",
    "var1 = (25,25,63)\n",
    "print(var1)\n",
    "print(type(var1))\n",
    "\n",
    "var2 = set(var1)\n",
    "print(var2)\n",
    "print(type(var2))"
   ]
  },
  {
   "cell_type": "code",
   "execution_count": 31,
   "metadata": {},
   "outputs": [
    {
     "name": "stdout",
     "output_type": "stream",
     "text": [
      "[25, 25, 63]\n",
      "<class 'list'>\n",
      "{25, 63}\n",
      "<class 'set'>\n"
     ]
    }
   ],
   "source": [
    "# list to  set \n",
    "var1 = [25,25,63]\n",
    "print(var1)\n",
    "print(type(var1))\n",
    "\n",
    "var2 = set(var1)\n",
    "print(var2)\n",
    "print(type(var2))"
   ]
  },
  {
   "cell_type": "code",
   "execution_count": 32,
   "metadata": {},
   "outputs": [
    {
     "name": "stdout",
     "output_type": "stream",
     "text": [
      "{25, 63}\n",
      "<class 'set'>\n",
      "(25, 63)\n",
      "<class 'tuple'>\n"
     ]
    }
   ],
   "source": [
    "# set to  tuple \n",
    "var1 = {25,25,63}\n",
    "print(var1)\n",
    "print(type(var1))\n",
    "\n",
    "var2 = tuple(var1)\n",
    "print(var2)\n",
    "print(type(var2))"
   ]
  },
  {
   "cell_type": "code",
   "execution_count": 38,
   "metadata": {},
   "outputs": [
    {
     "name": "stdout",
     "output_type": "stream",
     "text": [
      "[25, 63, 52, 35, 25, 14, 25, 45, 85, 25, 45, 25]\n",
      "[35, 45, 14, 52, 85, 25, 63]\n"
     ]
    }
   ],
   "source": [
    "# to remove duplicate records using type casting \n",
    "ls = [25,63,52,35,25,14,25,45,85,25,45,25]\n",
    "print(ls)\n",
    "ls2 = set(ls)\n",
    "ls3 = list(ls2)\n",
    "print(ls3)"
   ]
  },
  {
   "cell_type": "code",
   "execution_count": 39,
   "metadata": {},
   "outputs": [
    {
     "name": "stdout",
     "output_type": "stream",
     "text": [
      "[35, 45, 14, 52, 85, 25, 63]\n"
     ]
    }
   ],
   "source": [
    "ls = [25,63,52,35,25,14,25,45,85,25,45,25]\n",
    "ls2 = list(set(ls))\n",
    "print(ls2)"
   ]
  },
  {
   "cell_type": "code",
   "execution_count": 41,
   "metadata": {},
   "outputs": [
    {
     "name": "stdout",
     "output_type": "stream",
     "text": [
      "[25, 63, 52, 35, 25, 14, 25, 45, 85, 25, 45, 25]\n",
      "[35, 45, 14, 52, 85, 25, 63]\n"
     ]
    }
   ],
   "source": [
    "ls = [25,63,52,35,25,14,25,45,85,25,45,25]\n",
    "print(ls)\n",
    "ls = list(set(ls))\n",
    "print(ls2)"
   ]
  },
  {
   "cell_type": "code",
   "execution_count": null,
   "metadata": {},
   "outputs": [],
   "source": [
    "# HOME WORK QUESTIONS \n",
    "# RAM ==> RANDOM ACCESS MEMORY \n",
    "# ROM ==> READ ONLY MEMORY  \n",
    "# main memory or primary memory ? \n",
    "# what is operating system? \n",
    "# what is processor? "
   ]
  },
  {
   "cell_type": "code",
   "execution_count": null,
   "metadata": {},
   "outputs": [],
   "source": [
    "DSA (DATA STRUCTURE AND ALGORITHMS)  # famous one subject \n",
    "1. Time complexity \n",
    "2. Space complexity \n",
    "\n",
    "## e.g Time \n",
    "automatic driving car: software   \n",
    "facebook "
   ]
  },
  {
   "cell_type": "code",
   "execution_count": null,
   "metadata": {},
   "outputs": [],
   "source": [
    "int 4 byte \n",
    "1 byte == 8 bit \n",
    "8 * 4 == 32 bit \n",
    "\n",
    "var = 4    ## 100 \n",
    "#    00000000000000000000000000000100    "
   ]
  },
  {
   "cell_type": "code",
   "execution_count": null,
   "metadata": {},
   "outputs": [],
   "source": [
    "64  32  16  8  4  2  1 \n",
    "               1  0  0\n",
    "4 "
   ]
  }
 ],
 "metadata": {
  "kernelspec": {
   "display_name": "Python 3",
   "language": "python",
   "name": "python3"
  },
  "language_info": {
   "codemirror_mode": {
    "name": "ipython",
    "version": 3
   },
   "file_extension": ".py",
   "mimetype": "text/x-python",
   "name": "python",
   "nbconvert_exporter": "python",
   "pygments_lexer": "ipython3",
   "version": "3.12.4"
  }
 },
 "nbformat": 4,
 "nbformat_minor": 2
}

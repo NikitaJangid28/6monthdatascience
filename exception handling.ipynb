{
 "cells": [
  {
   "cell_type": "code",
   "execution_count": 2,
   "metadata": {},
   "outputs": [
    {
     "ename": "SyntaxError",
     "evalue": "unterminated string literal (detected at line 6) (3096384159.py, line 6)",
     "output_type": "error",
     "traceback": [
      "\u001b[1;36m  Cell \u001b[1;32mIn[2], line 6\u001b[1;36m\u001b[0m\n\u001b[1;33m    print(\"hello world)\u001b[0m\n\u001b[1;37m          ^\u001b[0m\n\u001b[1;31mSyntaxError\u001b[0m\u001b[1;31m:\u001b[0m unterminated string literal (detected at line 6)\n"
     ]
    }
   ],
   "source": [
    "print(\"hello world\")\n",
    "print(\"hello world\")\n",
    "print(\"hello world\")\n",
    "print(\"hello world\")\n",
    "print(\"hello world\")\n",
    "print(\"hello world)\n",
    "print(\"hello world\")\n",
    "print(\"hello world\")\n"
   ]
  },
  {
   "cell_type": "code",
   "execution_count": 4,
   "metadata": {},
   "outputs": [
    {
     "name": "stdout",
     "output_type": "stream",
     "text": [
      "hello this is : Radhey\n"
     ]
    },
    {
     "ename": "ValueError",
     "evalue": "invalid literal for int() with base 10: 'twenty six'",
     "output_type": "error",
     "traceback": [
      "\u001b[1;31m---------------------------------------------------------------------------\u001b[0m",
      "\u001b[1;31mValueError\u001b[0m                                Traceback (most recent call last)",
      "Cell \u001b[1;32mIn[4], line 3\u001b[0m\n\u001b[0;32m      1\u001b[0m name \u001b[38;5;241m=\u001b[39m \u001b[38;5;28minput\u001b[39m(\u001b[38;5;124m\"\u001b[39m\u001b[38;5;124mplz enter your name : \u001b[39m\u001b[38;5;124m\"\u001b[39m)\n\u001b[0;32m      2\u001b[0m \u001b[38;5;28mprint\u001b[39m(\u001b[38;5;124mf\u001b[39m\u001b[38;5;124m\"\u001b[39m\u001b[38;5;124mhello this is : \u001b[39m\u001b[38;5;132;01m{\u001b[39;00mname\u001b[38;5;132;01m}\u001b[39;00m\u001b[38;5;124m\"\u001b[39m) \n\u001b[1;32m----> 3\u001b[0m age \u001b[38;5;241m=\u001b[39m \u001b[38;5;28;43mint\u001b[39;49m\u001b[43m(\u001b[49m\u001b[38;5;28;43minput\u001b[39;49m\u001b[43m(\u001b[49m\u001b[38;5;124;43m\"\u001b[39;49m\u001b[38;5;124;43mplz enter yours age :  \u001b[39;49m\u001b[38;5;124;43m\"\u001b[39;49m\u001b[43m)\u001b[49m\u001b[43m)\u001b[49m\n\u001b[0;32m      4\u001b[0m \u001b[38;5;28mprint\u001b[39m(\u001b[38;5;124mf\u001b[39m\u001b[38;5;124m\"\u001b[39m\u001b[38;5;124mHey i am \u001b[39m\u001b[38;5;132;01m{\u001b[39;00mage\u001b[38;5;132;01m}\u001b[39;00m\u001b[38;5;124m year old\u001b[39m\u001b[38;5;124m\"\u001b[39m)\n",
      "\u001b[1;31mValueError\u001b[0m: invalid literal for int() with base 10: 'twenty six'"
     ]
    }
   ],
   "source": [
    "name = input(\"plz enter your name : \")\n",
    "print(f\"hello this is : {name}\") \n",
    "age = int(input(\"plz enter yours age :  \"))\n",
    "print(f\"Hey i am {age} year old\")\n",
    "print(\"hey plz execute me i am important!\")"
   ]
  },
  {
   "cell_type": "code",
   "execution_count": null,
   "metadata": {},
   "outputs": [],
   "source": [
    "### try , except , else , finally "
   ]
  },
  {
   "cell_type": "code",
   "execution_count": 6,
   "metadata": {},
   "outputs": [
    {
     "name": "stdout",
     "output_type": "stream",
     "text": [
      "hello this is : Radhey\n",
      "hey i am faced some unwanted and unexpected situation (exception)\n",
      "hey plz execute me i am important!\n"
     ]
    }
   ],
   "source": [
    "try:\n",
    "    name = input(\"plz enter your name : \")\n",
    "    print(f\"hello this is : {name}\") \n",
    "    age = int(input(\"plz enter yours age :  \"))\n",
    "    print(f\"Hey i am {age} year old\")\n",
    "except: \n",
    "    print(\"hey i am faced some unwanted and unexpected situation (exception)\")\n",
    "print(\"hey plz execute me i am important!\")\n",
    "   "
   ]
  },
  {
   "cell_type": "code",
   "execution_count": 8,
   "metadata": {},
   "outputs": [],
   "source": [
    "import sys \n",
    "## in which file \n",
    "## in which line \n",
    "## which one class "
   ]
  },
  {
   "cell_type": "code",
   "execution_count": 10,
   "metadata": {},
   "outputs": [
    {
     "name": "stdout",
     "output_type": "stream",
     "text": [
      "hello this is : dfj\n",
      "invalid literal for int() with base 10: 'dg'\n",
      "hey i am faced some unwanted and unexpected situation (exception)\n",
      "hey plz execute me i am important!\n"
     ]
    }
   ],
   "source": [
    "try:\n",
    "    name = input(\"plz enter your name : \")\n",
    "    print(f\"hello this is : {name}\") \n",
    "    age = int(input(\"plz enter yours age :  \"))\n",
    "    print(f\"Hey i am {age} year old\")\n",
    "except Exception as e: \n",
    "    print(e)\n",
    "    print(\"hey i am faced some unwanted and unexpected situation (exception)\")\n",
    "print(\"hey plz execute me i am important!\")\n",
    "   "
   ]
  },
  {
   "cell_type": "code",
   "execution_count": 19,
   "metadata": {},
   "outputs": [
    {
     "name": "stdout",
     "output_type": "stream",
     "text": [
      "hello this is : kjbk\n",
      "hey i am faced some unwanted and unexpected situation (exceptRaion)\n",
      "error class :  <class 'ValueError'>\n",
      "exception message :  invalid literal for int() with base 10: 'jbk'\n",
      "Line no.  10\n",
      "file name   C:\\Users\\Ranjit\\AppData\\Local\\Temp\\ipykernel_9464\\3815590521.py\n",
      "hey plz execute me i am important!\n"
     ]
    }
   ],
   "source": [
    "import sys \n",
    "try:\n",
    "    name = input(\"plz enter your name : \")\n",
    "    print(f\"hello this is : {name}\") \n",
    "    age = int(input(\"plz enter yours age :  \"))\n",
    "    print(f\"Hey i am {age} year old\")\n",
    "except: \n",
    "    print(\"hey i am faced some unwanted and unexpected situation (exceptRaion)\")\n",
    "    error_class,error_mesage,exc_tb = sys.exc_info()\n",
    "    line_number = exc_tb.tb_frame.f_lineno  # to get line number\n",
    "    file_name = exc_tb.tb_frame.f_code.co_filename\n",
    "    print(\"error class : \",error_class)\n",
    "    print(\"exception message : \",error_mesage)\n",
    "    print(\"file name  \",file_name)\n",
    "    print(\"Line no. \",line_number)\n",
    "else:\n",
    "    print(\"hey dont worry nothing happend!\")\n",
    "finally:\n",
    "    print(\"hey plz execute me i am important!\")\n",
    "\n",
    "   "
   ]
  },
  {
   "cell_type": "code",
   "execution_count": null,
   "metadata": {},
   "outputs": [],
   "source": []
  },
  {
   "cell_type": "code",
   "execution_count": null,
   "metadata": {},
   "outputs": [],
   "source": []
  },
  {
   "cell_type": "code",
   "execution_count": null,
   "metadata": {},
   "outputs": [],
   "source": []
  },
  {
   "cell_type": "code",
   "execution_count": null,
   "metadata": {},
   "outputs": [],
   "source": []
  },
  {
   "cell_type": "code",
   "execution_count": null,
   "metadata": {},
   "outputs": [],
   "source": []
  }
 ],
 "metadata": {
  "kernelspec": {
   "display_name": "Python 3",
   "language": "python",
   "name": "python3"
  },
  "language_info": {
   "codemirror_mode": {
    "name": "ipython",
    "version": 3
   },
   "file_extension": ".py",
   "mimetype": "text/x-python",
   "name": "python",
   "nbconvert_exporter": "python",
   "pygments_lexer": "ipython3",
   "version": "3.12.4"
  }
 },
 "nbformat": 4,
 "nbformat_minor": 2
}

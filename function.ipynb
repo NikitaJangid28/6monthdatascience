{
 "cells": [
  {
   "cell_type": "code",
   "execution_count": null,
   "metadata": {},
   "outputs": [],
   "source": [
    "decorator: "
   ]
  },
  {
   "cell_type": "code",
   "execution_count": 1,
   "metadata": {},
   "outputs": [
    {
     "name": "stdout",
     "output_type": "stream",
     "text": [
      "Testing 1 \n"
     ]
    }
   ],
   "source": [
    "def test1():\n",
    "    print('Testing 1 ')\n",
    "test1()    "
   ]
  },
  {
   "cell_type": "code",
   "execution_count": 3,
   "metadata": {},
   "outputs": [
    {
     "name": "stdout",
     "output_type": "stream",
     "text": [
      "Testing 2\n",
      "Testing 1 \n"
     ]
    }
   ],
   "source": [
    "def test2(fun):\n",
    "    print(\"Testing 2\")\n",
    "    fun()\n",
    "\n",
    "test2(fun=test1)"
   ]
  },
  {
   "cell_type": "code",
   "execution_count": 6,
   "metadata": {},
   "outputs": [
    {
     "name": "stdout",
     "output_type": "stream",
     "text": [
      "hey testing 3\n",
      "Hey testing 4\n"
     ]
    }
   ],
   "source": [
    "def test3():\n",
    "    print(\"hey testing 3\") \n",
    "    def test4():\n",
    "        print(\"Hey testing 4\") \n",
    "    return test4\n",
    "\n",
    "test4 = test3()\n",
    "test4()"
   ]
  },
  {
   "cell_type": "code",
   "execution_count": 8,
   "metadata": {},
   "outputs": [
    {
     "name": "stdout",
     "output_type": "stream",
     "text": [
      "hey testing 3\n",
      "Hey testing 4\n"
     ]
    }
   ],
   "source": [
    "test3()()"
   ]
  },
  {
   "cell_type": "code",
   "execution_count": 17,
   "metadata": {},
   "outputs": [
    {
     "name": "stdout",
     "output_type": "stream",
     "text": [
      "Your average is : 52.83\n"
     ]
    }
   ],
   "source": [
    "## average calculator \n",
    "def total_sum(input_ls):\n",
    "    total_sum = 0\n",
    "    count = 0 \n",
    "    for item in input_ls:\n",
    "        total_sum += item \n",
    "        count += 1 \n",
    "    def average_finder(total_sum,count):\n",
    "        print(f\"Your average is : {round(total_sum/count,2)}\")\n",
    "    return average_finder,total_sum,count\n",
    "\n",
    "ls = [25,41,63,96,85,7]\n",
    "\n",
    "average_calculate,total_sumision,n_count = total_sum(input_ls=ls)\n",
    "average_calculate(total_sum=total_sumision,count=n_count)"
   ]
  },
  {
   "cell_type": "code",
   "execution_count": 22,
   "metadata": {},
   "outputs": [
    {
     "name": "stdout",
     "output_type": "stream",
     "text": [
      "Hey before execute the your function!\n",
      "hey i need modification\n",
      "Hey after calling your function!\n",
      "hey you have modified!\n"
     ]
    }
   ],
   "source": [
    "def wraper(fun): \n",
    "    def innerfunction():\n",
    "        print(\"Hey before execute the your function!\")\n",
    "        fun()\n",
    "        print(\"Hey after calling your function!\")\n",
    "        print(\"hey you have modified!\")\n",
    "    return innerfunction\n",
    "\n",
    "\n",
    "def testing_fun(): \n",
    "    print(\"hey i need modification\")\n",
    "\n",
    "\n",
    "\n",
    "innerfunction = wraper(fun=testing_fun)\n",
    "innerfunction()"
   ]
  },
  {
   "cell_type": "code",
   "execution_count": 23,
   "metadata": {},
   "outputs": [
    {
     "name": "stdout",
     "output_type": "stream",
     "text": [
      "Your average is : 52.83\n"
     ]
    }
   ],
   "source": [
    "def wraper(average_finder,ls): \n",
    "    def inner_function():\n",
    "        total_sum = sum(ls)\n",
    "        count = len(ls)\n",
    "        average_finder(total_sum,count) \n",
    "\n",
    "    return inner_function\n",
    "\n",
    "\n",
    "def average_finder(total_sum,count):\n",
    "    print(f\"Your average is : {round(total_sum/count,2)}\")\n",
    "\n",
    "\n",
    "ls = [25,41,63,96,85,7]\n",
    "\n",
    "inner_function = wraper(average_finder=average_finder,ls=ls)\n",
    "inner_function()"
   ]
  },
  {
   "cell_type": "code",
   "execution_count": 26,
   "metadata": {},
   "outputs": [],
   "source": [
    "def wraper(average_finder,ls): \n",
    "    def inner_function():\n",
    "        total_sum = sum(ls)\n",
    "        count = len(ls)\n",
    "        average_finder(total_sum,count) \n",
    "\n",
    "    return inner_function\n",
    "\n",
    "\n",
    "def average_finder(total_sum,count):\n",
    "    print(f\"Your average is : {round(total_sum/count,2)}\")\n",
    "\n",
    "\n",
    "ls = [25,41,63,96,85,7]\n",
    "\n",
    "inner_function = wraper(average_finder=average_finder,ls=ls)\n",
    "inner_function()"
   ]
  },
  {
   "cell_type": "code",
   "execution_count": 2,
   "metadata": {},
   "outputs": [
    {
     "name": "stdout",
     "output_type": "stream",
     "text": [
      "Your average is: 52.83\n"
     ]
    }
   ],
   "source": [
    "def wraper(func):\n",
    "    def inner_function(ls):\n",
    "        total_sum = sum(ls)\n",
    "        count = len(ls)\n",
    "        return func(total_sum, count)\n",
    "    return inner_function\n",
    "\n",
    "@wraper\n",
    "def average_finder(total_sum, count):\n",
    "    print(f\"Your average is: {round(total_sum / count, 2)}\")\n",
    "\n",
    "# Now, call average_finder with the list of numbers\n",
    "ls = [25, 41, 63, 96, 85, 7]\n",
    "average_finder(ls)"
   ]
  },
  {
   "cell_type": "code",
   "execution_count": 28,
   "metadata": {},
   "outputs": [
    {
     "name": "stdout",
     "output_type": "stream",
     "text": [
      "Hey before execute the your function!\n",
      "hey i need modification\n",
      "Hey after calling your function!\n",
      "hey you have modified!\n"
     ]
    }
   ],
   "source": [
    "def wraper(fun): \n",
    "    def innerfunction():\n",
    "        print(\"Hey before execute the your function!\")\n",
    "        fun()\n",
    "        print(\"Hey after calling your function!\")\n",
    "        print(\"hey you have modified!\")\n",
    "    return innerfunction\n",
    "\n",
    "def testing_fun(): \n",
    "    print(\"hey i need modification\")\n",
    "\n",
    "\n",
    "\n",
    "innerfunction = wraper(fun=testing_fun)\n",
    "innerfunction()"
   ]
  },
  {
   "cell_type": "code",
   "execution_count": 30,
   "metadata": {},
   "outputs": [
    {
     "name": "stdout",
     "output_type": "stream",
     "text": [
      "Hey before execute the your function!\n",
      "hey i need modification\n",
      "Hey after calling your function!\n",
      "hey you have modified!\n"
     ]
    }
   ],
   "source": [
    "@wraper \n",
    "def testing_fun(): \n",
    "    print(\"hey i need modification\")\n",
    "\n",
    "\n",
    "testing_fun()"
   ]
  },
  {
   "cell_type": "code",
   "execution_count": null,
   "metadata": {},
   "outputs": [],
   "source": [
    "def decorator_function(original_function):\n",
    "    def wrapper_function(*args, **kwargs):\n",
    "        # Code to run before the original function\n",
    "        print(\"Wrapper executed before {}\".format(original_function.__name__))\n",
    "        \n",
    "        # Call the original function\n",
    "        result = original_function(*args, **kwargs)\n",
    "        \n",
    "        # Code to run after the original function\n",
    "        print(\"Wrapper executed after {}\".format(original_function.__name__))\n",
    "        \n",
    "        return result\n",
    "    return wrapper_function\n"
   ]
  },
  {
   "cell_type": "markdown",
   "metadata": {},
   "source": [
    "### Iterator "
   ]
  },
  {
   "cell_type": "code",
   "execution_count": 18,
   "metadata": {},
   "outputs": [
    {
     "data": {
      "text/plain": [
       "<list_iterator at 0x25c68a36980>"
      ]
     },
     "execution_count": 18,
     "metadata": {},
     "output_type": "execute_result"
    }
   ],
   "source": [
    "ls = [10,20,30,40,50]\n",
    "output = iter(ls)\n",
    "output "
   ]
  },
  {
   "cell_type": "code",
   "execution_count": 12,
   "metadata": {},
   "outputs": [
    {
     "name": "stdout",
     "output_type": "stream",
     "text": [
      "10\n",
      "20\n",
      "30\n",
      "40\n",
      "50\n"
     ]
    }
   ],
   "source": [
    "for item in ls:\n",
    "    print(item)"
   ]
  },
  {
   "cell_type": "code",
   "execution_count": 17,
   "metadata": {},
   "outputs": [],
   "source": [
    "for item in output:\n",
    "    print(item)"
   ]
  },
  {
   "cell_type": "code",
   "execution_count": 24,
   "metadata": {},
   "outputs": [
    {
     "ename": "StopIteration",
     "evalue": "",
     "output_type": "error",
     "traceback": [
      "\u001b[1;31m---------------------------------------------------------------------------\u001b[0m",
      "\u001b[1;31mStopIteration\u001b[0m                             Traceback (most recent call last)",
      "Cell \u001b[1;32mIn[24], line 1\u001b[0m\n\u001b[1;32m----> 1\u001b[0m \u001b[38;5;28;43mnext\u001b[39;49m\u001b[43m(\u001b[49m\u001b[43moutput\u001b[49m\u001b[43m)\u001b[49m\n",
      "\u001b[1;31mStopIteration\u001b[0m: "
     ]
    }
   ],
   "source": [
    "next(output)"
   ]
  },
  {
   "cell_type": "code",
   "execution_count": 40,
   "metadata": {},
   "outputs": [
    {
     "name": "stdout",
     "output_type": "stream",
     "text": [
      "0.0010099411010742188\n"
     ]
    }
   ],
   "source": [
    "import time \n",
    "import numpy as np \n",
    "arr = np.random.randint(2,500,500)\n",
    "start  = time.time()\n",
    "for i in arr: \n",
    "    (i* 500) /500\n",
    "\n",
    "end = time.time()\n",
    "print(end-start)"
   ]
  },
  {
   "cell_type": "code",
   "execution_count": 41,
   "metadata": {},
   "outputs": [
    {
     "data": {
      "text/plain": [
       "<iterator at 0x25c6f2d8070>"
      ]
     },
     "execution_count": 41,
     "metadata": {},
     "output_type": "execute_result"
    }
   ],
   "source": [
    "arrr_iter = iter(arr)\n",
    "arrr_iter"
   ]
  },
  {
   "cell_type": "code",
   "execution_count": 42,
   "metadata": {},
   "outputs": [
    {
     "name": "stdout",
     "output_type": "stream",
     "text": [
      "0.0\n"
     ]
    }
   ],
   "source": [
    "start  = time.time()\n",
    "for i in arrr_iter: \n",
    "    (i* 500) /500\n",
    "\n",
    "end = time.time()\n",
    "print(end-start)"
   ]
  },
  {
   "cell_type": "markdown",
   "metadata": {},
   "source": [
    "### Generator "
   ]
  },
  {
   "cell_type": "code",
   "execution_count": 43,
   "metadata": {},
   "outputs": [
    {
     "name": "stdout",
     "output_type": "stream",
     "text": [
      "[0, 1, 2, 3, 4]\n"
     ]
    }
   ],
   "source": [
    "def test(n):\n",
    "    ls  = []\n",
    "    for i in range(n):\n",
    "        ls.append(i)\n",
    "    return ls \n",
    "\n",
    "print(test(5)) "
   ]
  },
  {
   "cell_type": "code",
   "execution_count": 50,
   "metadata": {},
   "outputs": [],
   "source": [
    "def test(n):\n",
    "    for i in range(n):\n",
    "        yield i ** 2\n",
    "\n"
   ]
  },
  {
   "cell_type": "code",
   "execution_count": 60,
   "metadata": {},
   "outputs": [],
   "source": [
    "output = test(5)"
   ]
  },
  {
   "cell_type": "code",
   "execution_count": 61,
   "metadata": {},
   "outputs": [
    {
     "name": "stdout",
     "output_type": "stream",
     "text": [
      "0\n",
      "1\n",
      "4\n",
      "9\n",
      "16\n"
     ]
    }
   ],
   "source": [
    "for item in output:\n",
    "    print(item)\n",
    " "
   ]
  }
 ],
 "metadata": {
  "kernelspec": {
   "display_name": "Python 3",
   "language": "python",
   "name": "python3"
  },
  "language_info": {
   "codemirror_mode": {
    "name": "ipython",
    "version": 3
   },
   "file_extension": ".py",
   "mimetype": "text/x-python",
   "name": "python",
   "nbconvert_exporter": "python",
   "pygments_lexer": "ipython3",
   "version": "3.12.4"
  }
 },
 "nbformat": 4,
 "nbformat_minor": 2
}
